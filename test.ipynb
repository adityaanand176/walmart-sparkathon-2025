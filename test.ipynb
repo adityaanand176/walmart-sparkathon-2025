{
 "cells": [
  {
   "cell_type": "code",
   "execution_count": 1,
   "id": "0b2039e2",
   "metadata": {},
   "outputs": [],
   "source": [
    "import pandas as pd\n",
    "df = pd.read_csv(\"walmart-products.csv\")"
   ]
  },
  {
   "cell_type": "code",
   "execution_count": 2,
   "id": "017e9937",
   "metadata": {},
   "outputs": [
    {
     "data": {
      "text/html": [
       "<div>\n",
       "<style scoped>\n",
       "    .dataframe tbody tr th:only-of-type {\n",
       "        vertical-align: middle;\n",
       "    }\n",
       "\n",
       "    .dataframe tbody tr th {\n",
       "        vertical-align: top;\n",
       "    }\n",
       "\n",
       "    .dataframe thead th {\n",
       "        text-align: right;\n",
       "    }\n",
       "</style>\n",
       "<table border=\"1\" class=\"dataframe\">\n",
       "  <thead>\n",
       "    <tr style=\"text-align: right;\">\n",
       "      <th></th>\n",
       "      <th>timestamp</th>\n",
       "      <th>url</th>\n",
       "      <th>final_price</th>\n",
       "      <th>sku</th>\n",
       "      <th>currency</th>\n",
       "      <th>gtin</th>\n",
       "      <th>specifications</th>\n",
       "      <th>image_urls</th>\n",
       "      <th>top_reviews</th>\n",
       "      <th>rating_stars</th>\n",
       "      <th>...</th>\n",
       "      <th>sizes</th>\n",
       "      <th>colors</th>\n",
       "      <th>seller</th>\n",
       "      <th>other_attributes</th>\n",
       "      <th>customer_reviews</th>\n",
       "      <th>ingredients</th>\n",
       "      <th>initial_price</th>\n",
       "      <th>discount</th>\n",
       "      <th>ingredients_full</th>\n",
       "      <th>categories</th>\n",
       "    </tr>\n",
       "  </thead>\n",
       "  <tbody>\n",
       "    <tr>\n",
       "      <th>0</th>\n",
       "      <td>2024-08-24 00:00:00.000</td>\n",
       "      <td>https://www.walmart.com/ip/Laura-Mercier-Cavia...</td>\n",
       "      <td>22.90</td>\n",
       "      <td>173530386</td>\n",
       "      <td>USD</td>\n",
       "      <td>7.361501e+11</td>\n",
       "      <td>[{\"name\":\"Brand\",\"value\":\"Laura Mercier\"},{\"na...</td>\n",
       "      <td>[\"https://i5.walmartimages.com/seo/Laura-Merci...</td>\n",
       "      <td>{\"negative\":{},\"positive\":{}}</td>\n",
       "      <td>{\"five_stars\":2,\"four_stars\":3,\"two_stars\":1}</td>\n",
       "      <td>...</td>\n",
       "      <td>[]</td>\n",
       "      <td>[\"Sugar Frost\",\"Tuxedo\"]</td>\n",
       "      <td>Wal███t.c███</td>\n",
       "      <td>[{\"name\":\"Instructions\",\"value\":\"Apply directl...</td>\n",
       "      <td>[{\"name\":\"Jac███\",\"rating\":5,\"review\":\"My only...</td>\n",
       "      <td>Cyclopentasiloxane, trimethylsiloxysilicate, s...</td>\n",
       "      <td>NaN</td>\n",
       "      <td>NaN</td>\n",
       "      <td>[{\"type\":\"Ingredients\",\"values\":\"Cyclopentasil...</td>\n",
       "      <td>[\"Beauty\",\"Makeup\",\"Eye Makeup\",\"Eye Shadow\",\"...</td>\n",
       "    </tr>\n",
       "    <tr>\n",
       "      <th>1</th>\n",
       "      <td>2024-08-24 00:00:00.000</td>\n",
       "      <td>https://www.walmart.com/ip/Exultantex-Grey-Bla...</td>\n",
       "      <td>47.88</td>\n",
       "      <td>430528189</td>\n",
       "      <td>USD</td>\n",
       "      <td>7.710779e+11</td>\n",
       "      <td>[{\"name\":\"Brand\",\"value\":\"Exultantex\"},{\"name\"...</td>\n",
       "      <td>[\"https://i5.walmartimages.com/seo/Exultantex-...</td>\n",
       "      <td>{\"negative\":{\"rating\":1,\"review\":\"Color not ac...</td>\n",
       "      <td>{\"five_stars\":47,\"four_stars\":4,\"one_star\":4,\"...</td>\n",
       "      <td>...</td>\n",
       "      <td>[\"50\\\" x 54\\\"\",\"50\\\" x 63\\\"\",\"50\\\" x 84\\\"\",\"50...</td>\n",
       "      <td>[\"Black\",\"Blue\",\"Green\",\"Gray\",\"Natural(Ivory)...</td>\n",
       "      <td>Exu███nte███ome███</td>\n",
       "      <td>[{\"name\":\"Fabric Care Instructions\",\"value\":\"M...</td>\n",
       "      <td>[{\"name\":\"Dana\",\"rating\":5,\"review\":\"I love th...</td>\n",
       "      <td>NaN</td>\n",
       "      <td>70.80</td>\n",
       "      <td>$22.92</td>\n",
       "      <td>NaN</td>\n",
       "      <td>[\"Home\",\"Decor\",\"Curtains &amp; Window Treatments\"...</td>\n",
       "    </tr>\n",
       "    <tr>\n",
       "      <th>2</th>\n",
       "      <td>2024-08-24 00:00:00.000</td>\n",
       "      <td>https://www.walmart.com/ip/Jessica-London-Wome...</td>\n",
       "      <td>33.24</td>\n",
       "      <td>6013308220</td>\n",
       "      <td>USD</td>\n",
       "      <td>4.651920e+11</td>\n",
       "      <td>[{\"name\":\"Features\",\"value\":\"Easy Care\"},{\"nam...</td>\n",
       "      <td>[\"https://i5.walmartimages.com/seo/Jessica-Lon...</td>\n",
       "      <td>{\"negative\":{},\"positive\":{}}</td>\n",
       "      <td>{\"five_stars\":2}</td>\n",
       "      <td>...</td>\n",
       "      <td>[\"S\",\"M\",\"L\",\"1X\",\"2X\",\"3X\"]</td>\n",
       "      <td>[\"Aqua Sea\",\"Dark Olive Green\",\"Dark Sapphire\"...</td>\n",
       "      <td>Ful███aut███ran███</td>\n",
       "      <td>[{\"name\":\"Fabric Care Instructions\",\"value\":\"M...</td>\n",
       "      <td>[{\"name\":\"Bev███y F███\",\"rating\":5,\"review\":\"V...</td>\n",
       "      <td>NaN</td>\n",
       "      <td>37.99</td>\n",
       "      <td>$4.75</td>\n",
       "      <td>NaN</td>\n",
       "      <td>[\"Clothing\",\"Womens Plus\",\"Plus Size Tops\",\"Pl...</td>\n",
       "    </tr>\n",
       "    <tr>\n",
       "      <th>3</th>\n",
       "      <td>2024-08-24 00:00:00.000</td>\n",
       "      <td>https://www.walmart.com/ip/100-Cotton-King-Per...</td>\n",
       "      <td>49.99</td>\n",
       "      <td>161657830</td>\n",
       "      <td>USD</td>\n",
       "      <td>8.407081e+11</td>\n",
       "      <td>[{\"name\":\"Brand\",\"value\":\"Simply Put\"},{\"name\"...</td>\n",
       "      <td>[\"https://i5.walmartimages.com/asr/d88fe658-b9...</td>\n",
       "      <td>{\"negative\":{\"rating\":1,\"review\":\"[This review...</td>\n",
       "      <td>{\"five_stars\":78,\"four_stars\":17,\"one_star\":2,...</td>\n",
       "      <td>...</td>\n",
       "      <td>[\"Queen\",\"King\"]</td>\n",
       "      <td>[\"Beige\",\"Blue\",\"Gray\",\"Spa Blue\"]</td>\n",
       "      <td>IC ███bal███c</td>\n",
       "      <td>[{\"name\":\"Fabric Care Instructions\",\"value\":\"M...</td>\n",
       "      <td>[{\"name\":\"Jes███oge███\",\"rating\":5,\"review\":\"[...</td>\n",
       "      <td>NaN</td>\n",
       "      <td>71.99</td>\n",
       "      <td>$22.00</td>\n",
       "      <td>NaN</td>\n",
       "      <td>[\"Home\",\"Bedding\",\"Duvet Covers\",\"King Duvet C...</td>\n",
       "    </tr>\n",
       "    <tr>\n",
       "      <th>4</th>\n",
       "      <td>2024-08-25 00:00:00.000</td>\n",
       "      <td>https://www.walmart.com/ip/Disney-Boys-Graphic...</td>\n",
       "      <td>12.99</td>\n",
       "      <td>5397071399</td>\n",
       "      <td>USD</td>\n",
       "      <td>4.600086e+11</td>\n",
       "      <td>[{\"name\":\"Country of Origin - Textiles\",\"value...</td>\n",
       "      <td>[\"https://i5.walmartimages.com/seo/Disney-Boys...</td>\n",
       "      <td>{\"negative\":{\"rating\":1,\"review\":\"This size sh...</td>\n",
       "      <td>{\"five_stars\":12,\"one_star\":1,\"three_stars\":1,...</td>\n",
       "      <td>...</td>\n",
       "      <td>[\"2T\",\"3T\",\"3T-4T\",\"3-4 Years\",\"4-5 Years\",\"4-...</td>\n",
       "      <td>[\"1#Yellow Micky\",\"2#Pink Minnie\",\"3#Blue Dona...</td>\n",
       "      <td>Pat███</td>\n",
       "      <td>NaN</td>\n",
       "      <td>[{\"name\":\"Mary\",\"rating\":5,\"review\":\"Love thes...</td>\n",
       "      <td>NaN</td>\n",
       "      <td>29.00</td>\n",
       "      <td>$16.01</td>\n",
       "      <td>NaN</td>\n",
       "      <td>[\"Clothing\",\"Kids Clothing\",\"Boys Clothing\",\"B...</td>\n",
       "    </tr>\n",
       "  </tbody>\n",
       "</table>\n",
       "<p>5 rows × 44 columns</p>\n",
       "</div>"
      ],
      "text/plain": [
       "                 timestamp                                                url  \\\n",
       "0  2024-08-24 00:00:00.000  https://www.walmart.com/ip/Laura-Mercier-Cavia...   \n",
       "1  2024-08-24 00:00:00.000  https://www.walmart.com/ip/Exultantex-Grey-Bla...   \n",
       "2  2024-08-24 00:00:00.000  https://www.walmart.com/ip/Jessica-London-Wome...   \n",
       "3  2024-08-24 00:00:00.000  https://www.walmart.com/ip/100-Cotton-King-Per...   \n",
       "4  2024-08-25 00:00:00.000  https://www.walmart.com/ip/Disney-Boys-Graphic...   \n",
       "\n",
       "   final_price         sku currency          gtin  \\\n",
       "0        22.90   173530386      USD  7.361501e+11   \n",
       "1        47.88   430528189      USD  7.710779e+11   \n",
       "2        33.24  6013308220      USD  4.651920e+11   \n",
       "3        49.99   161657830      USD  8.407081e+11   \n",
       "4        12.99  5397071399      USD  4.600086e+11   \n",
       "\n",
       "                                      specifications  \\\n",
       "0  [{\"name\":\"Brand\",\"value\":\"Laura Mercier\"},{\"na...   \n",
       "1  [{\"name\":\"Brand\",\"value\":\"Exultantex\"},{\"name\"...   \n",
       "2  [{\"name\":\"Features\",\"value\":\"Easy Care\"},{\"nam...   \n",
       "3  [{\"name\":\"Brand\",\"value\":\"Simply Put\"},{\"name\"...   \n",
       "4  [{\"name\":\"Country of Origin - Textiles\",\"value...   \n",
       "\n",
       "                                          image_urls  \\\n",
       "0  [\"https://i5.walmartimages.com/seo/Laura-Merci...   \n",
       "1  [\"https://i5.walmartimages.com/seo/Exultantex-...   \n",
       "2  [\"https://i5.walmartimages.com/seo/Jessica-Lon...   \n",
       "3  [\"https://i5.walmartimages.com/asr/d88fe658-b9...   \n",
       "4  [\"https://i5.walmartimages.com/seo/Disney-Boys...   \n",
       "\n",
       "                                         top_reviews  \\\n",
       "0                      {\"negative\":{},\"positive\":{}}   \n",
       "1  {\"negative\":{\"rating\":1,\"review\":\"Color not ac...   \n",
       "2                      {\"negative\":{},\"positive\":{}}   \n",
       "3  {\"negative\":{\"rating\":1,\"review\":\"[This review...   \n",
       "4  {\"negative\":{\"rating\":1,\"review\":\"This size sh...   \n",
       "\n",
       "                                        rating_stars  ...  \\\n",
       "0      {\"five_stars\":2,\"four_stars\":3,\"two_stars\":1}  ...   \n",
       "1  {\"five_stars\":47,\"four_stars\":4,\"one_star\":4,\"...  ...   \n",
       "2                                   {\"five_stars\":2}  ...   \n",
       "3  {\"five_stars\":78,\"four_stars\":17,\"one_star\":2,...  ...   \n",
       "4  {\"five_stars\":12,\"one_star\":1,\"three_stars\":1,...  ...   \n",
       "\n",
       "                                               sizes  \\\n",
       "0                                                 []   \n",
       "1  [\"50\\\" x 54\\\"\",\"50\\\" x 63\\\"\",\"50\\\" x 84\\\"\",\"50...   \n",
       "2                       [\"S\",\"M\",\"L\",\"1X\",\"2X\",\"3X\"]   \n",
       "3                                   [\"Queen\",\"King\"]   \n",
       "4  [\"2T\",\"3T\",\"3T-4T\",\"3-4 Years\",\"4-5 Years\",\"4-...   \n",
       "\n",
       "                                              colors              seller  \\\n",
       "0                           [\"Sugar Frost\",\"Tuxedo\"]        Wal███t.c███   \n",
       "1  [\"Black\",\"Blue\",\"Green\",\"Gray\",\"Natural(Ivory)...  Exu███nte███ome███   \n",
       "2  [\"Aqua Sea\",\"Dark Olive Green\",\"Dark Sapphire\"...  Ful███aut███ran███   \n",
       "3                 [\"Beige\",\"Blue\",\"Gray\",\"Spa Blue\"]       IC ███bal███c   \n",
       "4  [\"1#Yellow Micky\",\"2#Pink Minnie\",\"3#Blue Dona...              Pat███   \n",
       "\n",
       "                                    other_attributes  \\\n",
       "0  [{\"name\":\"Instructions\",\"value\":\"Apply directl...   \n",
       "1  [{\"name\":\"Fabric Care Instructions\",\"value\":\"M...   \n",
       "2  [{\"name\":\"Fabric Care Instructions\",\"value\":\"M...   \n",
       "3  [{\"name\":\"Fabric Care Instructions\",\"value\":\"M...   \n",
       "4                                                NaN   \n",
       "\n",
       "                                    customer_reviews  \\\n",
       "0  [{\"name\":\"Jac███\",\"rating\":5,\"review\":\"My only...   \n",
       "1  [{\"name\":\"Dana\",\"rating\":5,\"review\":\"I love th...   \n",
       "2  [{\"name\":\"Bev███y F███\",\"rating\":5,\"review\":\"V...   \n",
       "3  [{\"name\":\"Jes███oge███\",\"rating\":5,\"review\":\"[...   \n",
       "4  [{\"name\":\"Mary\",\"rating\":5,\"review\":\"Love thes...   \n",
       "\n",
       "                                         ingredients  initial_price discount  \\\n",
       "0  Cyclopentasiloxane, trimethylsiloxysilicate, s...            NaN      NaN   \n",
       "1                                                NaN          70.80   $22.92   \n",
       "2                                                NaN          37.99    $4.75   \n",
       "3                                                NaN          71.99   $22.00   \n",
       "4                                                NaN          29.00   $16.01   \n",
       "\n",
       "                                    ingredients_full  \\\n",
       "0  [{\"type\":\"Ingredients\",\"values\":\"Cyclopentasil...   \n",
       "1                                                NaN   \n",
       "2                                                NaN   \n",
       "3                                                NaN   \n",
       "4                                                NaN   \n",
       "\n",
       "                                          categories  \n",
       "0  [\"Beauty\",\"Makeup\",\"Eye Makeup\",\"Eye Shadow\",\"...  \n",
       "1  [\"Home\",\"Decor\",\"Curtains & Window Treatments\"...  \n",
       "2  [\"Clothing\",\"Womens Plus\",\"Plus Size Tops\",\"Pl...  \n",
       "3  [\"Home\",\"Bedding\",\"Duvet Covers\",\"King Duvet C...  \n",
       "4  [\"Clothing\",\"Kids Clothing\",\"Boys Clothing\",\"B...  \n",
       "\n",
       "[5 rows x 44 columns]"
      ]
     },
     "execution_count": 2,
     "metadata": {},
     "output_type": "execute_result"
    }
   ],
   "source": [
    "df.head()"
   ]
  },
  {
   "cell_type": "code",
   "execution_count": 4,
   "id": "5b563b3d",
   "metadata": {},
   "outputs": [
    {
     "name": "stdout",
     "output_type": "stream",
     "text": [
      "Existing indexes: ['walmart-text', 'walmart-images']\n",
      "<pinecone.grpc.index_grpc.GRPCIndex object at 0x11799bed0>\n"
     ]
    },
    {
     "name": "stderr",
     "output_type": "stream",
     "text": [
      "  4%|▍         | 45/1000 [00:36<10:41,  1.49it/s]"
     ]
    },
    {
     "name": "stdout",
     "output_type": "stream",
     "text": [
      "Failed on row 5702523237: list index out of range\n"
     ]
    },
    {
     "name": "stderr",
     "output_type": "stream",
     "text": [
      "  9%|▉         | 90/1000 [01:57<11:05,  1.37it/s]  "
     ]
    },
    {
     "name": "stdout",
     "output_type": "stream",
     "text": [
      "Failed on row 422458903: list index out of range\n"
     ]
    },
    {
     "name": "stderr",
     "output_type": "stream",
     "text": [
      "  9%|▉         | 94/1000 [02:00<09:54,  1.52it/s]"
     ]
    },
    {
     "name": "stdout",
     "output_type": "stream",
     "text": [
      "Failed on row 247655086: list index out of range\n"
     ]
    },
    {
     "name": "stderr",
     "output_type": "stream",
     "text": [
      " 16%|█▌        | 155/1000 [03:20<20:16,  1.44s/it]  "
     ]
    },
    {
     "name": "stdout",
     "output_type": "stream",
     "text": [
      "Failed on row 689096319: list index out of range\n"
     ]
    },
    {
     "name": "stderr",
     "output_type": "stream",
     "text": [
      " 17%|█▋        | 168/1000 [03:40<12:35,  1.10it/s]"
     ]
    },
    {
     "name": "stdout",
     "output_type": "stream",
     "text": [
      "Failed on row 3808974443: list index out of range\n"
     ]
    },
    {
     "name": "stderr",
     "output_type": "stream",
     "text": [
      " 23%|██▎       | 234/1000 [04:56<13:03,  1.02s/it]"
     ]
    },
    {
     "name": "stdout",
     "output_type": "stream",
     "text": [
      "Failed on row 28926816: list index out of range\n"
     ]
    },
    {
     "name": "stderr",
     "output_type": "stream",
     "text": [
      " 25%|██▌       | 253/1000 [05:23<19:20,  1.55s/it]"
     ]
    },
    {
     "name": "stdout",
     "output_type": "stream",
     "text": [
      "Failed on row 1624985447: list index out of range\n"
     ]
    },
    {
     "name": "stderr",
     "output_type": "stream",
     "text": [
      " 29%|██▉       | 292/1000 [06:22<29:22,  2.49s/it]"
     ]
    },
    {
     "name": "stdout",
     "output_type": "stream",
     "text": [
      "Failed on row 10294756: list index out of range\n"
     ]
    },
    {
     "name": "stderr",
     "output_type": "stream",
     "text": [
      " 30%|███       | 303/1000 [06:32<10:38,  1.09it/s]"
     ]
    },
    {
     "name": "stdout",
     "output_type": "stream",
     "text": [
      "Failed on row 393061304: list index out of range\n"
     ]
    },
    {
     "name": "stderr",
     "output_type": "stream",
     "text": [
      " 33%|███▎      | 329/1000 [06:55<07:32,  1.48it/s]"
     ]
    },
    {
     "name": "stdout",
     "output_type": "stream",
     "text": [
      "Failed on row 1577779507: list index out of range\n"
     ]
    },
    {
     "name": "stderr",
     "output_type": "stream",
     "text": [
      " 35%|███▌      | 351/1000 [07:38<11:15,  1.04s/it]"
     ]
    },
    {
     "name": "stdout",
     "output_type": "stream",
     "text": [
      "Failed on row 832929384: list index out of range\n"
     ]
    },
    {
     "name": "stderr",
     "output_type": "stream",
     "text": [
      " 38%|███▊      | 384/1000 [08:09<07:18,  1.40it/s]"
     ]
    },
    {
     "name": "stdout",
     "output_type": "stream",
     "text": [
      "Failed on row 5642502722: list index out of range\n"
     ]
    },
    {
     "name": "stderr",
     "output_type": "stream",
     "text": [
      " 40%|███▉      | 398/1000 [08:37<10:42,  1.07s/it]"
     ]
    },
    {
     "name": "stdout",
     "output_type": "stream",
     "text": [
      "Failed on row 5118743904: list index out of range\n"
     ]
    },
    {
     "name": "stderr",
     "output_type": "stream",
     "text": [
      " 42%|████▏     | 421/1000 [08:59<08:13,  1.17it/s]"
     ]
    },
    {
     "name": "stdout",
     "output_type": "stream",
     "text": [
      "Failed on row 10801127: list index out of range\n"
     ]
    },
    {
     "name": "stderr",
     "output_type": "stream",
     "text": [
      " 44%|████▍     | 439/1000 [09:42<12:09,  1.30s/it]"
     ]
    },
    {
     "name": "stdout",
     "output_type": "stream",
     "text": [
      "Failed on row 189455189: list index out of range\n"
     ]
    },
    {
     "name": "stderr",
     "output_type": "stream",
     "text": [
      " 45%|████▌     | 452/1000 [09:53<06:06,  1.50it/s]"
     ]
    },
    {
     "name": "stdout",
     "output_type": "stream",
     "text": [
      "Failed on row 702951316: list index out of range\n"
     ]
    },
    {
     "name": "stderr",
     "output_type": "stream",
     "text": [
      " 50%|█████     | 505/1000 [10:52<07:31,  1.10it/s]"
     ]
    },
    {
     "name": "stdout",
     "output_type": "stream",
     "text": [
      "Failed on row 5495892018: list index out of range\n"
     ]
    },
    {
     "name": "stderr",
     "output_type": "stream",
     "text": [
      " 57%|█████▋    | 567/1000 [12:00<05:14,  1.38it/s]"
     ]
    },
    {
     "name": "stdout",
     "output_type": "stream",
     "text": [
      "Failed on row 366367982: list index out of range\n"
     ]
    },
    {
     "name": "stderr",
     "output_type": "stream",
     "text": [
      " 58%|█████▊    | 576/1000 [12:07<05:28,  1.29it/s]"
     ]
    },
    {
     "name": "stdout",
     "output_type": "stream",
     "text": [
      "Failed on row 284718781: list index out of range\n"
     ]
    },
    {
     "name": "stderr",
     "output_type": "stream",
     "text": [
      " 62%|██████▏   | 622/1000 [13:04<08:42,  1.38s/it]"
     ]
    },
    {
     "name": "stdout",
     "output_type": "stream",
     "text": [
      "Failed on row 1850447630: list index out of range\n"
     ]
    },
    {
     "name": "stderr",
     "output_type": "stream",
     "text": [
      " 67%|██████▋   | 674/1000 [14:11<04:40,  1.16it/s]"
     ]
    },
    {
     "name": "stdout",
     "output_type": "stream",
     "text": [
      "Failed on row 5491200472: list index out of range\n"
     ]
    },
    {
     "name": "stderr",
     "output_type": "stream",
     "text": [
      " 68%|██████▊   | 675/1000 [14:13<05:58,  1.10s/it]"
     ]
    },
    {
     "name": "stdout",
     "output_type": "stream",
     "text": [
      "Failed on row 132075558: list index out of range\n"
     ]
    },
    {
     "name": "stderr",
     "output_type": "stream",
     "text": [
      " 70%|██████▉   | 697/1000 [14:31<03:51,  1.31it/s]"
     ]
    },
    {
     "name": "stdout",
     "output_type": "stream",
     "text": [
      "Failed on row 3331024751: list index out of range\n"
     ]
    },
    {
     "name": "stderr",
     "output_type": "stream",
     "text": [
      " 72%|███████▏  | 718/1000 [15:04<04:49,  1.03s/it]"
     ]
    },
    {
     "name": "stdout",
     "output_type": "stream",
     "text": [
      "Failed on row 990631587: list index out of range\n"
     ]
    },
    {
     "name": "stderr",
     "output_type": "stream",
     "text": [
      " 75%|███████▍  | 749/1000 [15:52<20:39,  4.94s/it]"
     ]
    },
    {
     "name": "stdout",
     "output_type": "stream",
     "text": [
      "Failed on row 5492294359: list index out of range\n"
     ]
    },
    {
     "name": "stderr",
     "output_type": "stream",
     "text": [
      " 84%|████████▍ | 841/1000 [17:40<02:32,  1.04it/s]"
     ]
    },
    {
     "name": "stdout",
     "output_type": "stream",
     "text": [
      "Failed on row 199409627: list index out of range\n"
     ]
    },
    {
     "name": "stderr",
     "output_type": "stream",
     "text": [
      " 84%|████████▍ | 844/1000 [17:42<02:03,  1.27it/s]"
     ]
    },
    {
     "name": "stdout",
     "output_type": "stream",
     "text": [
      "Failed on row 887305646: list index out of range\n"
     ]
    },
    {
     "name": "stderr",
     "output_type": "stream",
     "text": [
      " 86%|████████▌ | 859/1000 [17:55<01:45,  1.34it/s]"
     ]
    },
    {
     "name": "stdout",
     "output_type": "stream",
     "text": [
      "Failed on row 162709782: list index out of range\n"
     ]
    },
    {
     "name": "stderr",
     "output_type": "stream",
     "text": [
      " 87%|████████▋ | 869/1000 [18:03<01:27,  1.50it/s]"
     ]
    },
    {
     "name": "stdout",
     "output_type": "stream",
     "text": [
      "Failed on row 1639387353: list index out of range\n"
     ]
    },
    {
     "name": "stderr",
     "output_type": "stream",
     "text": [
      "100%|█████████▉| 995/1000 [20:36<00:03,  1.54it/s]"
     ]
    },
    {
     "name": "stdout",
     "output_type": "stream",
     "text": [
      "Failed on row 537359758: status_code: 429, body: {'id': '21d7e93b-3af4-48cb-bd54-dbd86767f250', 'message': \"You are using a Trial key, which is limited to 1000 API calls / month. You can continue to use the Trial key for free or upgrade to a Production key with higher rate limits at 'https://dashboard.cohere.com/api-keys'. Contact us on 'https://discord.gg/XW44jPfYJu' or email us at support@cohere.com with any questions\"}\n"
     ]
    },
    {
     "name": "stderr",
     "output_type": "stream",
     "text": [
      "100%|█████████▉| 996/1000 [20:36<00:02,  1.72it/s]"
     ]
    },
    {
     "name": "stdout",
     "output_type": "stream",
     "text": [
      "Failed on row 637751827: status_code: 429, body: {'id': '20e7b7b5-7a93-4fb4-b691-096e1445cce7', 'message': \"You are using a Trial key, which is limited to 1000 API calls / month. You can continue to use the Trial key for free or upgrade to a Production key with higher rate limits at 'https://dashboard.cohere.com/api-keys'. Contact us on 'https://discord.gg/XW44jPfYJu' or email us at support@cohere.com with any questions\"}\n"
     ]
    },
    {
     "name": "stderr",
     "output_type": "stream",
     "text": [
      "100%|█████████▉| 997/1000 [20:37<00:01,  1.97it/s]"
     ]
    },
    {
     "name": "stdout",
     "output_type": "stream",
     "text": [
      "Failed on row 5494180543: status_code: 429, body: {'id': '95ca5b8e-20e5-4f99-8910-c1f568902979', 'message': \"You are using a Trial key, which is limited to 1000 API calls / month. You can continue to use the Trial key for free or upgrade to a Production key with higher rate limits at 'https://dashboard.cohere.com/api-keys'. Contact us on 'https://discord.gg/XW44jPfYJu' or email us at support@cohere.com with any questions\"}\n"
     ]
    },
    {
     "name": "stderr",
     "output_type": "stream",
     "text": [
      "100%|█████████▉| 998/1000 [20:37<00:00,  2.20it/s]"
     ]
    },
    {
     "name": "stdout",
     "output_type": "stream",
     "text": [
      "Failed on row 578943868: status_code: 429, body: {'id': '99d2e396-3251-4034-b0f1-54d34e8f9427', 'message': \"You are using a Trial key, which is limited to 1000 API calls / month. You can continue to use the Trial key for free or upgrade to a Production key with higher rate limits at 'https://dashboard.cohere.com/api-keys'. Contact us on 'https://discord.gg/XW44jPfYJu' or email us at support@cohere.com with any questions\"}\n"
     ]
    },
    {
     "name": "stderr",
     "output_type": "stream",
     "text": [
      "100%|█████████▉| 999/1000 [20:37<00:00,  2.34it/s]"
     ]
    },
    {
     "name": "stdout",
     "output_type": "stream",
     "text": [
      "Failed on row 5286825403: status_code: 429, body: {'id': '1c29b0f2-dc4d-4985-baae-02453a09a67d', 'message': \"You are using a Trial key, which is limited to 1000 API calls / month. You can continue to use the Trial key for free or upgrade to a Production key with higher rate limits at 'https://dashboard.cohere.com/api-keys'. Contact us on 'https://discord.gg/XW44jPfYJu' or email us at support@cohere.com with any questions\"}\n"
     ]
    },
    {
     "name": "stderr",
     "output_type": "stream",
     "text": [
      "100%|██████████| 1000/1000 [20:38<00:00,  1.24s/it]"
     ]
    },
    {
     "name": "stdout",
     "output_type": "stream",
     "text": [
      "Failed on row 669112285: status_code: 429, body: {'id': '798673fd-4818-4227-94d4-080b782a1fe0', 'message': \"You are using a Trial key, which is limited to 1000 API calls / month. You can continue to use the Trial key for free or upgrade to a Production key with higher rate limits at 'https://dashboard.cohere.com/api-keys'. Contact us on 'https://discord.gg/XW44jPfYJu' or email us at support@cohere.com with any questions\"}\n"
     ]
    },
    {
     "name": "stderr",
     "output_type": "stream",
     "text": [
      "\n"
     ]
    }
   ],
   "source": [
    "import cohere\n",
    "from pinecone.grpc import PineconeGRPC as Pinecone\n",
    "from pinecone import ServerlessSpec\n",
    "import pandas as pd\n",
    "import json\n",
    "from dotenv import load_dotenv\n",
    "import os\n",
    "from tqdm import tqdm\n",
    "\n",
    "# === CONFIG ===\n",
    "load_dotenv()\n",
    "COHERE_API_KEY = os.environ.get(\"Walmart-Text-Embedding\")\n",
    "PINECONE_API_KEY = os.getenv(\"PINECONE_API_KEY_FINAL\")\n",
    "INDEX_NAME = \"walmart-text\"\n",
    "EMBED_MODEL = \"embed-v4.0\"\n",
    "\n",
    "# === INIT ===\n",
    "co = cohere.ClientV2(COHERE_API_KEY)\n",
    "\n",
    "pc = Pinecone(api_key=PINECONE_API_KEY)\n",
    "print(\"Existing indexes:\", pc.list_indexes().names())\n",
    "pc.list_indexes()\n",
    "index = pc.Index(INDEX_NAME)\n",
    "print(index)\n",
    "\n",
    "\n",
    "# === LOAD DATA ===\n",
    "df = pd.read_csv(\"walmart-products.csv\")\n",
    "\n",
    "# === EMBED + UPSERT LOOP ===\n",
    "for i, row in tqdm(df.iterrows(), total=len(df)):\n",
    "    try:\n",
    "        specs = json.loads(row['specifications']) if pd.notna(row['specifications']) else []\n",
    "        spec_text = \" | \".join([f\"{s['name']}: {s['value']}\" for s in specs])\n",
    "\n",
    "        review_data = json.loads(row['customer_reviews']) if pd.notna(row['customer_reviews']) else []\n",
    "        review_text = \" | \".join([f\"{r.get('name', '')}: {r.get('review', '')}\" for r in review_data])\n",
    "\n",
    "        other_attrs = row['other_attributes'] if pd.notna(row['other_attributes']) else \"\"\n",
    "        ingredients = row['ingredients'] if pd.notna(row['ingredients']) else \"\"\n",
    "        sizes = row['sizes'] if pd.notna(row['sizes']) else \"\"\n",
    "        colors = row['colors'] if pd.notna(row['colors']) else \"\"\n",
    "        top_reviews = row['top_reviews'] if pd.notna(row['top_reviews']) else \"\"\n",
    "        rating = row['rating'] if pd.notna(row['rating']) else \"\"\n",
    "        main_image = row['main_image'] if pd.notna(row['main_image']) else \"\"\n",
    "        description = row['description'] if pd.notna(row['description']) else \"\"\n",
    "        category_name = row['category_name'] if pd.notna(row['category_name']) else \"\"\n",
    "        currency = row['currency'] if pd.notna(row['currency']) else \"\"\n",
    "\n",
    "        text = f\"\"\"\n",
    "        Product SKU: {row['sku']}\n",
    "        Title/Description: {description}\n",
    "        Brand Info: {spec_text}\n",
    "        Categories: {row['categories']}\n",
    "        Category Name: {category_name}\n",
    "        Price: {row['final_price']} {currency}\n",
    "        Currency: {currency}\n",
    "        Top Reviews: {top_reviews}\n",
    "        Ratings (out of 5): {rating}\n",
    "        Sizes: {sizes}\n",
    "        Colours: {colors}\n",
    "        Main Image: {main_image}\n",
    "        Other Attributes: {other_attrs}\n",
    "        Customer Reviews: {review_text}\n",
    "        Ingredients: {ingredients}\n",
    "        \"\"\"\n",
    "\n",
    "        # === Get Embedding from Cohere ===\n",
    "        response = co.v2.embed(\n",
    "            texts=[text],\n",
    "            model=EMBED_MODEL,\n",
    "            input_type=\"search_document\",  # use \"search_query\" when embedding queries\n",
    "            embedding_types=[\"float\"]  # specify embedding type\n",
    "        )\n",
    "        vector = response.embeddings.float[0]\n",
    "\n",
    "\n",
    "\n",
    "        # === Upsert to Pinecone ===\n",
    "        index.upsert([{\n",
    "            \"id\": str(row[\"sku\"]),\n",
    "            \"values\": vector,\n",
    "            \"metadata\": {\n",
    "                \"url\": row[\"url\"],\n",
    "                \"price\": row[\"final_price\"],\n",
    "                \"brand\": [s[\"value\"] for s in specs if s[\"name\"].lower() == \"brand\"][0] if specs else None,\n",
    "                \"categories\": row[\"categories\"]\n",
    "            }\n",
    "        }])\n",
    "\n",
    "\n",
    "    except Exception as e:\n",
    "        print(f\"Failed on row {row['sku']}: {e}\")"
   ]
  },
  {
   "cell_type": "code",
   "execution_count": 13,
   "id": "295837b1",
   "metadata": {},
   "outputs": [],
   "source": [
    "response = co.v2.embed(\n",
    "            texts=[\"100% ORGANIC COTTON Queen size bedsheet pink color\"],\n",
    "            model=EMBED_MODEL,\n",
    "            output_dimension=1024,\n",
    "            input_type=\"search_document\",\n",
    "            embedding_types=[\"float\"]  # specify embedding type\n",
    "        )\n",
    "vector = response.embeddings.float[0]"
   ]
  },
  {
   "cell_type": "code",
   "execution_count": 14,
   "id": "eb8f2eb3",
   "metadata": {},
   "outputs": [],
   "source": [
    "import pyperclip \n",
    "pyperclip.copy(vector)"
   ]
  },
  {
   "cell_type": "code",
   "execution_count": null,
   "id": "adfb07fc",
   "metadata": {},
   "outputs": [],
   "source": [
    "import cohere\n",
    "from PIL import Image\n",
    "from io import BytesIO\n",
    "import base64\n",
    "import requests\n",
    "import os\n",
    "from pinecone.grpc import PineconeGRPC as Pinecone\n",
    "from pinecone import ServerlessSpec\n",
    "import pandas as pd\n",
    "import json\n",
    "from dotenv import load_dotenv\n",
    "from tqdm import tqdm\n",
    "\n",
    "PINECONE_API_KEY = os.getenv(\"PINECONE_API_KEY_FINAL\")\n",
    "pc = Pinecone(api_key=PINECONE_API_KEY)\n",
    "INDEX_NAME = \"walmart-images\"\n",
    "EMBED_MODEL = \"embed-v4.0\"\n",
    "index = pc.Index(INDEX_NAME)\n",
    "\n",
    "COHERE_API_KEY = os.getenv(\"COHERE_API_KEY\")\n",
    "co = cohere.ClientV2(COHERE_API_KEY)\n",
    "\n",
    "df = pd.read_csv(\"walmart-products.csv\")\n",
    "\n",
    "def url_to_base64(image_url):\n",
    "    response = requests.get(image_url)\n",
    "    img = Image.open(BytesIO(response.content))\n",
    "    image_format = img.format.lower()\n",
    "    buffered = BytesIO()\n",
    "    img.save(buffered, format=img.format)\n",
    "    img_base64 = base64.b64encode(buffered.getvalue()).decode(\"utf-8\")\n",
    "    return f\"data:image/{image_format};base64,{img_base64}\"\n",
    "\n",
    "for _, row in tqdm(df.iterrows(), total=len(df)):\n",
    "    try:\n",
    "        specs = json.loads(row['specifications']) if pd.notna(row['specifications']) else []\n",
    "        spec_text = \" | \".join([f\"{s['name']}: {s['value']}\" for s in specs])\n",
    "\n",
    "        review_data = json.loads(row['customer_reviews']) if pd.notna(row['customer_reviews']) else []\n",
    "        review_text = \" | \".join([f\"{r.get('name', '')}: {r.get('review', '')}\" for r in review_data])\n",
    "        other_attrs = row['other_attributes'] if pd.notna(row['other_attributes']) else \"\"\n",
    "        sizes = row['sizes'] if pd.notna(row['sizes']) else \"\"\n",
    "        image_urls = row['image_urls'] if pd.notna(row['image_urls']) else []\n",
    "        image_urls = image_urls[1:-1]\n",
    "        for images in image_urls.split(\",\"):\n",
    "            input = {\n",
    "                \"content\": [\n",
    "                {\"type\": \"image_url\", \"image_url\": {\"url\": url_to_base64(images[1:-1])}}\n",
    "                ]\n",
    "            }\n",
    "\n",
    "            #=== Get Embedding from Cohere ===\n",
    "            response = co.v2.embed(\n",
    "                inputs=[input],\n",
    "                model=EMBED_MODEL,\n",
    "                input_type=\"search_document\",\n",
    "                embedding_types=[\"float\"]  # specify embedding type\n",
    "            )\n",
    "            image_vector = response.embeddings.float[0]\n",
    "            \n",
    "            # === Upsert to Pinecone ===\n",
    "            index.upsert([{\n",
    "                \"id\": str(row[\"sku\"])+str(i),\n",
    "                \"values\": image_vector,\n",
    "                \"metadata\": {\n",
    "                    \"sku\": row[\"sku\"],\n",
    "                    \"url\": row[\"url\"],\n",
    "                    \"price\": row[\"final_price\"],\n",
    "                    \"brand\": [s[\"value\"] for s in specs if s[\"name\"].lower() == \"brand\"][0] if specs else None,\n",
    "                    \"categories\": row[\"categories\"]\n",
    "                }\n",
    "            }])\n",
    "\n",
    "    except Exception as e:\n",
    "        print(f\"Failed on row {row['sku']}: {e}\")\n"
   ]
  },
  {
   "cell_type": "code",
   "execution_count": 16,
   "id": "4ff62567",
   "metadata": {},
   "outputs": [],
   "source": [
    "import pyperclip \n",
    "pyperclip.copy(image_vector)"
   ]
  },
  {
   "cell_type": "code",
   "execution_count": 15,
   "id": "22a63552",
   "metadata": {},
   "outputs": [],
   "source": [
    "response = co.v2.embed(\n",
    "        texts=[\"Black bottle with horse\"],\n",
    "        model=EMBED_MODEL,\n",
    "        output_dimension=1024,\n",
    "        input_type=\"search_document\",  # use \"search_query\" when embedding queries\n",
    "        embedding_types=[\"float\"]  # specify embedding type\n",
    "    )\n",
    "vector = response.embeddings.float[0]\n",
    "import pyperclip \n",
    "pyperclip.copy(vector)"
   ]
  },
  {
   "cell_type": "code",
   "execution_count": null,
   "id": "94bdb9c9",
   "metadata": {},
   "outputs": [],
   "source": [
    "def url_to_base64(image_url):\n",
    "    response = requests.get(image_url)\n",
    "    img = Image.open(BytesIO(response.content))\n",
    "    image_format = img.format.lower()\n",
    "    buffered = BytesIO()\n",
    "    img.save(buffered, format=img.format)\n",
    "    img_base64 = base64.b64encode(buffered.getvalue()).decode(\"utf-8\")\n",
    "    return f\"data:image/{image_format};base64,{img_base64}\"\n",
    "\n",
    "input = {\n",
    "    \"content\": [\n",
    "    {\"type\": \"image_url\", \"image_url\": {\"url\": url_to_base64(\"<testing-link>\")}}  # replace with your image URL\n",
    "    ]\n",
    "}\n",
    "\n",
    "# === Get Embedding from Cohere ===\n",
    "response = co.v2.embed(\n",
    "    inputs=[input],\n",
    "    model=EMBED_MODEL,\n",
    "    output_dimension=1024,\n",
    "    input_type=\"search_document\",\n",
    "    embedding_types=[\"float\"]  # specify embedding type\n",
    ")\n",
    "    \n",
    "image_vector =response.embeddings.float[0]\n",
    "\n",
    "# image_vector = response.embeddings.float[0]\n",
    "import pyperclip \n",
    "pyperclip.copy(image_vector)"
   ]
  }
 ],
 "metadata": {
  "kernelspec": {
   "display_name": "Python 3",
   "language": "python",
   "name": "python3"
  },
  "language_info": {
   "codemirror_mode": {
    "name": "ipython",
    "version": 3
   },
   "file_extension": ".py",
   "mimetype": "text/x-python",
   "name": "python",
   "nbconvert_exporter": "python",
   "pygments_lexer": "ipython3",
   "version": "3.13.3"
  }
 },
 "nbformat": 4,
 "nbformat_minor": 5
}
