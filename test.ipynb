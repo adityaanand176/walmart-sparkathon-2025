{
 "cells": [
  {
   "cell_type": "code",
   "execution_count": 22,
   "id": "0b2039e2",
   "metadata": {},
   "outputs": [],
   "source": [
    "import pandas as pd\n",
    "df = pd.read_csv(\"walmart-products.csv\")"
   ]
  },
  {
   "cell_type": "code",
   "execution_count": 23,
   "id": "017e9937",
   "metadata": {},
   "outputs": [
    {
     "data": {
      "text/html": [
       "<div>\n",
       "<style scoped>\n",
       "    .dataframe tbody tr th:only-of-type {\n",
       "        vertical-align: middle;\n",
       "    }\n",
       "\n",
       "    .dataframe tbody tr th {\n",
       "        vertical-align: top;\n",
       "    }\n",
       "\n",
       "    .dataframe thead th {\n",
       "        text-align: right;\n",
       "    }\n",
       "</style>\n",
       "<table border=\"1\" class=\"dataframe\">\n",
       "  <thead>\n",
       "    <tr style=\"text-align: right;\">\n",
       "      <th></th>\n",
       "      <th>timestamp</th>\n",
       "      <th>url</th>\n",
       "      <th>final_price</th>\n",
       "      <th>sku</th>\n",
       "      <th>currency</th>\n",
       "      <th>gtin</th>\n",
       "      <th>specifications</th>\n",
       "      <th>image_urls</th>\n",
       "      <th>top_reviews</th>\n",
       "      <th>rating_stars</th>\n",
       "      <th>...</th>\n",
       "      <th>sizes</th>\n",
       "      <th>colors</th>\n",
       "      <th>seller</th>\n",
       "      <th>other_attributes</th>\n",
       "      <th>customer_reviews</th>\n",
       "      <th>ingredients</th>\n",
       "      <th>initial_price</th>\n",
       "      <th>discount</th>\n",
       "      <th>ingredients_full</th>\n",
       "      <th>categories</th>\n",
       "    </tr>\n",
       "  </thead>\n",
       "  <tbody>\n",
       "    <tr>\n",
       "      <th>0</th>\n",
       "      <td>2024-08-24 00:00:00.000</td>\n",
       "      <td>https://www.walmart.com/ip/Laura-Mercier-Cavia...</td>\n",
       "      <td>22.90</td>\n",
       "      <td>173530386</td>\n",
       "      <td>USD</td>\n",
       "      <td>7.361501e+11</td>\n",
       "      <td>[{\"name\":\"Brand\",\"value\":\"Laura Mercier\"},{\"na...</td>\n",
       "      <td>[\"https://i5.walmartimages.com/seo/Laura-Merci...</td>\n",
       "      <td>{\"negative\":{},\"positive\":{}}</td>\n",
       "      <td>{\"five_stars\":2,\"four_stars\":3,\"two_stars\":1}</td>\n",
       "      <td>...</td>\n",
       "      <td>[]</td>\n",
       "      <td>[\"Sugar Frost\",\"Tuxedo\"]</td>\n",
       "      <td>Wal███t.c███</td>\n",
       "      <td>[{\"name\":\"Instructions\",\"value\":\"Apply directl...</td>\n",
       "      <td>[{\"name\":\"Jac███\",\"rating\":5,\"review\":\"My only...</td>\n",
       "      <td>Cyclopentasiloxane, trimethylsiloxysilicate, s...</td>\n",
       "      <td>NaN</td>\n",
       "      <td>NaN</td>\n",
       "      <td>[{\"type\":\"Ingredients\",\"values\":\"Cyclopentasil...</td>\n",
       "      <td>[\"Beauty\",\"Makeup\",\"Eye Makeup\",\"Eye Shadow\",\"...</td>\n",
       "    </tr>\n",
       "    <tr>\n",
       "      <th>1</th>\n",
       "      <td>2024-08-24 00:00:00.000</td>\n",
       "      <td>https://www.walmart.com/ip/Exultantex-Grey-Bla...</td>\n",
       "      <td>47.88</td>\n",
       "      <td>430528189</td>\n",
       "      <td>USD</td>\n",
       "      <td>7.710779e+11</td>\n",
       "      <td>[{\"name\":\"Brand\",\"value\":\"Exultantex\"},{\"name\"...</td>\n",
       "      <td>[\"https://i5.walmartimages.com/seo/Exultantex-...</td>\n",
       "      <td>{\"negative\":{\"rating\":1,\"review\":\"Color not ac...</td>\n",
       "      <td>{\"five_stars\":47,\"four_stars\":4,\"one_star\":4,\"...</td>\n",
       "      <td>...</td>\n",
       "      <td>[\"50\\\" x 54\\\"\",\"50\\\" x 63\\\"\",\"50\\\" x 84\\\"\",\"50...</td>\n",
       "      <td>[\"Black\",\"Blue\",\"Green\",\"Gray\",\"Natural(Ivory)...</td>\n",
       "      <td>Exu███nte███ome███</td>\n",
       "      <td>[{\"name\":\"Fabric Care Instructions\",\"value\":\"M...</td>\n",
       "      <td>[{\"name\":\"Dana\",\"rating\":5,\"review\":\"I love th...</td>\n",
       "      <td>NaN</td>\n",
       "      <td>70.80</td>\n",
       "      <td>$22.92</td>\n",
       "      <td>NaN</td>\n",
       "      <td>[\"Home\",\"Decor\",\"Curtains &amp; Window Treatments\"...</td>\n",
       "    </tr>\n",
       "    <tr>\n",
       "      <th>2</th>\n",
       "      <td>2024-08-24 00:00:00.000</td>\n",
       "      <td>https://www.walmart.com/ip/Jessica-London-Wome...</td>\n",
       "      <td>33.24</td>\n",
       "      <td>6013308220</td>\n",
       "      <td>USD</td>\n",
       "      <td>4.651920e+11</td>\n",
       "      <td>[{\"name\":\"Features\",\"value\":\"Easy Care\"},{\"nam...</td>\n",
       "      <td>[\"https://i5.walmartimages.com/seo/Jessica-Lon...</td>\n",
       "      <td>{\"negative\":{},\"positive\":{}}</td>\n",
       "      <td>{\"five_stars\":2}</td>\n",
       "      <td>...</td>\n",
       "      <td>[\"S\",\"M\",\"L\",\"1X\",\"2X\",\"3X\"]</td>\n",
       "      <td>[\"Aqua Sea\",\"Dark Olive Green\",\"Dark Sapphire\"...</td>\n",
       "      <td>Ful███aut███ran███</td>\n",
       "      <td>[{\"name\":\"Fabric Care Instructions\",\"value\":\"M...</td>\n",
       "      <td>[{\"name\":\"Bev███y F███\",\"rating\":5,\"review\":\"V...</td>\n",
       "      <td>NaN</td>\n",
       "      <td>37.99</td>\n",
       "      <td>$4.75</td>\n",
       "      <td>NaN</td>\n",
       "      <td>[\"Clothing\",\"Womens Plus\",\"Plus Size Tops\",\"Pl...</td>\n",
       "    </tr>\n",
       "    <tr>\n",
       "      <th>3</th>\n",
       "      <td>2024-08-24 00:00:00.000</td>\n",
       "      <td>https://www.walmart.com/ip/100-Cotton-King-Per...</td>\n",
       "      <td>49.99</td>\n",
       "      <td>161657830</td>\n",
       "      <td>USD</td>\n",
       "      <td>8.407081e+11</td>\n",
       "      <td>[{\"name\":\"Brand\",\"value\":\"Simply Put\"},{\"name\"...</td>\n",
       "      <td>[\"https://i5.walmartimages.com/asr/d88fe658-b9...</td>\n",
       "      <td>{\"negative\":{\"rating\":1,\"review\":\"[This review...</td>\n",
       "      <td>{\"five_stars\":78,\"four_stars\":17,\"one_star\":2,...</td>\n",
       "      <td>...</td>\n",
       "      <td>[\"Queen\",\"King\"]</td>\n",
       "      <td>[\"Beige\",\"Blue\",\"Gray\",\"Spa Blue\"]</td>\n",
       "      <td>IC ███bal███c</td>\n",
       "      <td>[{\"name\":\"Fabric Care Instructions\",\"value\":\"M...</td>\n",
       "      <td>[{\"name\":\"Jes███oge███\",\"rating\":5,\"review\":\"[...</td>\n",
       "      <td>NaN</td>\n",
       "      <td>71.99</td>\n",
       "      <td>$22.00</td>\n",
       "      <td>NaN</td>\n",
       "      <td>[\"Home\",\"Bedding\",\"Duvet Covers\",\"King Duvet C...</td>\n",
       "    </tr>\n",
       "    <tr>\n",
       "      <th>4</th>\n",
       "      <td>2024-08-25 00:00:00.000</td>\n",
       "      <td>https://www.walmart.com/ip/Disney-Boys-Graphic...</td>\n",
       "      <td>12.99</td>\n",
       "      <td>5397071399</td>\n",
       "      <td>USD</td>\n",
       "      <td>4.600086e+11</td>\n",
       "      <td>[{\"name\":\"Country of Origin - Textiles\",\"value...</td>\n",
       "      <td>[\"https://i5.walmartimages.com/seo/Disney-Boys...</td>\n",
       "      <td>{\"negative\":{\"rating\":1,\"review\":\"This size sh...</td>\n",
       "      <td>{\"five_stars\":12,\"one_star\":1,\"three_stars\":1,...</td>\n",
       "      <td>...</td>\n",
       "      <td>[\"2T\",\"3T\",\"3T-4T\",\"3-4 Years\",\"4-5 Years\",\"4-...</td>\n",
       "      <td>[\"1#Yellow Micky\",\"2#Pink Minnie\",\"3#Blue Dona...</td>\n",
       "      <td>Pat███</td>\n",
       "      <td>NaN</td>\n",
       "      <td>[{\"name\":\"Mary\",\"rating\":5,\"review\":\"Love thes...</td>\n",
       "      <td>NaN</td>\n",
       "      <td>29.00</td>\n",
       "      <td>$16.01</td>\n",
       "      <td>NaN</td>\n",
       "      <td>[\"Clothing\",\"Kids Clothing\",\"Boys Clothing\",\"B...</td>\n",
       "    </tr>\n",
       "  </tbody>\n",
       "</table>\n",
       "<p>5 rows × 44 columns</p>\n",
       "</div>"
      ],
      "text/plain": [
       "                 timestamp                                                url  \\\n",
       "0  2024-08-24 00:00:00.000  https://www.walmart.com/ip/Laura-Mercier-Cavia...   \n",
       "1  2024-08-24 00:00:00.000  https://www.walmart.com/ip/Exultantex-Grey-Bla...   \n",
       "2  2024-08-24 00:00:00.000  https://www.walmart.com/ip/Jessica-London-Wome...   \n",
       "3  2024-08-24 00:00:00.000  https://www.walmart.com/ip/100-Cotton-King-Per...   \n",
       "4  2024-08-25 00:00:00.000  https://www.walmart.com/ip/Disney-Boys-Graphic...   \n",
       "\n",
       "   final_price         sku currency          gtin  \\\n",
       "0        22.90   173530386      USD  7.361501e+11   \n",
       "1        47.88   430528189      USD  7.710779e+11   \n",
       "2        33.24  6013308220      USD  4.651920e+11   \n",
       "3        49.99   161657830      USD  8.407081e+11   \n",
       "4        12.99  5397071399      USD  4.600086e+11   \n",
       "\n",
       "                                      specifications  \\\n",
       "0  [{\"name\":\"Brand\",\"value\":\"Laura Mercier\"},{\"na...   \n",
       "1  [{\"name\":\"Brand\",\"value\":\"Exultantex\"},{\"name\"...   \n",
       "2  [{\"name\":\"Features\",\"value\":\"Easy Care\"},{\"nam...   \n",
       "3  [{\"name\":\"Brand\",\"value\":\"Simply Put\"},{\"name\"...   \n",
       "4  [{\"name\":\"Country of Origin - Textiles\",\"value...   \n",
       "\n",
       "                                          image_urls  \\\n",
       "0  [\"https://i5.walmartimages.com/seo/Laura-Merci...   \n",
       "1  [\"https://i5.walmartimages.com/seo/Exultantex-...   \n",
       "2  [\"https://i5.walmartimages.com/seo/Jessica-Lon...   \n",
       "3  [\"https://i5.walmartimages.com/asr/d88fe658-b9...   \n",
       "4  [\"https://i5.walmartimages.com/seo/Disney-Boys...   \n",
       "\n",
       "                                         top_reviews  \\\n",
       "0                      {\"negative\":{},\"positive\":{}}   \n",
       "1  {\"negative\":{\"rating\":1,\"review\":\"Color not ac...   \n",
       "2                      {\"negative\":{},\"positive\":{}}   \n",
       "3  {\"negative\":{\"rating\":1,\"review\":\"[This review...   \n",
       "4  {\"negative\":{\"rating\":1,\"review\":\"This size sh...   \n",
       "\n",
       "                                        rating_stars  ...  \\\n",
       "0      {\"five_stars\":2,\"four_stars\":3,\"two_stars\":1}  ...   \n",
       "1  {\"five_stars\":47,\"four_stars\":4,\"one_star\":4,\"...  ...   \n",
       "2                                   {\"five_stars\":2}  ...   \n",
       "3  {\"five_stars\":78,\"four_stars\":17,\"one_star\":2,...  ...   \n",
       "4  {\"five_stars\":12,\"one_star\":1,\"three_stars\":1,...  ...   \n",
       "\n",
       "                                               sizes  \\\n",
       "0                                                 []   \n",
       "1  [\"50\\\" x 54\\\"\",\"50\\\" x 63\\\"\",\"50\\\" x 84\\\"\",\"50...   \n",
       "2                       [\"S\",\"M\",\"L\",\"1X\",\"2X\",\"3X\"]   \n",
       "3                                   [\"Queen\",\"King\"]   \n",
       "4  [\"2T\",\"3T\",\"3T-4T\",\"3-4 Years\",\"4-5 Years\",\"4-...   \n",
       "\n",
       "                                              colors              seller  \\\n",
       "0                           [\"Sugar Frost\",\"Tuxedo\"]        Wal███t.c███   \n",
       "1  [\"Black\",\"Blue\",\"Green\",\"Gray\",\"Natural(Ivory)...  Exu███nte███ome███   \n",
       "2  [\"Aqua Sea\",\"Dark Olive Green\",\"Dark Sapphire\"...  Ful███aut███ran███   \n",
       "3                 [\"Beige\",\"Blue\",\"Gray\",\"Spa Blue\"]       IC ███bal███c   \n",
       "4  [\"1#Yellow Micky\",\"2#Pink Minnie\",\"3#Blue Dona...              Pat███   \n",
       "\n",
       "                                    other_attributes  \\\n",
       "0  [{\"name\":\"Instructions\",\"value\":\"Apply directl...   \n",
       "1  [{\"name\":\"Fabric Care Instructions\",\"value\":\"M...   \n",
       "2  [{\"name\":\"Fabric Care Instructions\",\"value\":\"M...   \n",
       "3  [{\"name\":\"Fabric Care Instructions\",\"value\":\"M...   \n",
       "4                                                NaN   \n",
       "\n",
       "                                    customer_reviews  \\\n",
       "0  [{\"name\":\"Jac███\",\"rating\":5,\"review\":\"My only...   \n",
       "1  [{\"name\":\"Dana\",\"rating\":5,\"review\":\"I love th...   \n",
       "2  [{\"name\":\"Bev███y F███\",\"rating\":5,\"review\":\"V...   \n",
       "3  [{\"name\":\"Jes███oge███\",\"rating\":5,\"review\":\"[...   \n",
       "4  [{\"name\":\"Mary\",\"rating\":5,\"review\":\"Love thes...   \n",
       "\n",
       "                                         ingredients  initial_price discount  \\\n",
       "0  Cyclopentasiloxane, trimethylsiloxysilicate, s...            NaN      NaN   \n",
       "1                                                NaN          70.80   $22.92   \n",
       "2                                                NaN          37.99    $4.75   \n",
       "3                                                NaN          71.99   $22.00   \n",
       "4                                                NaN          29.00   $16.01   \n",
       "\n",
       "                                    ingredients_full  \\\n",
       "0  [{\"type\":\"Ingredients\",\"values\":\"Cyclopentasil...   \n",
       "1                                                NaN   \n",
       "2                                                NaN   \n",
       "3                                                NaN   \n",
       "4                                                NaN   \n",
       "\n",
       "                                          categories  \n",
       "0  [\"Beauty\",\"Makeup\",\"Eye Makeup\",\"Eye Shadow\",\"...  \n",
       "1  [\"Home\",\"Decor\",\"Curtains & Window Treatments\"...  \n",
       "2  [\"Clothing\",\"Womens Plus\",\"Plus Size Tops\",\"Pl...  \n",
       "3  [\"Home\",\"Bedding\",\"Duvet Covers\",\"King Duvet C...  \n",
       "4  [\"Clothing\",\"Kids Clothing\",\"Boys Clothing\",\"B...  \n",
       "\n",
       "[5 rows x 44 columns]"
      ]
     },
     "execution_count": 23,
     "metadata": {},
     "output_type": "execute_result"
    }
   ],
   "source": [
    "df.head()"
   ]
  },
  {
   "cell_type": "code",
   "execution_count": 22,
   "id": "6cf5f73f",
   "metadata": {},
   "outputs": [
    {
     "data": {
      "text/plain": [
       "1000"
      ]
     },
     "execution_count": 22,
     "metadata": {},
     "output_type": "execute_result"
    }
   ],
   "source": [
    "df['sku'].nunique()"
   ]
  },
  {
   "cell_type": "code",
   "execution_count": 37,
   "id": "5b563b3d",
   "metadata": {},
   "outputs": [],
   "source": [
    "import cohere\n",
    "from pinecone.grpc import PineconeGRPC as Pinecone\n",
    "from pinecone import ServerlessSpec\n",
    "import pandas as pd\n",
    "import json\n",
    "from dotenv import load_dotenv\n",
    "import os\n",
    "from tqdm import tqdm\n",
    "\n",
    "# === CONFIG ===\n",
    "load_dotenv()\n",
    "COHERE_API_KEY = os.getenv(\"COHERE_API_KEY\")\n",
    "PINECONE_API_KEY = os.getenv(\"PINECONE_API_KEY\")\n",
    "INDEX_NAME = \"walmart-sparkathon-images\"\n",
    "EMBED_MODEL = \"embed-v4.0\"\n",
    "\n",
    "# === INIT ===\n",
    "co = cohere.ClientV2(COHERE_API_KEY)\n",
    "\n",
    "pc = Pinecone(api_key=PINECONE_API_KEY)\n",
    "pc.list_indexes()\n",
    "index = pc.Index(INDEX_NAME)\n",
    "\n",
    "\n",
    "# === LOAD DATA ===\n",
    "df = pd.read_csv(\"walmart-products.csv\")\n",
    "\n",
    "# # === EMBED + UPSERT LOOP ===\n",
    "# for _, row in tqdm(df.iterrows(), total=len(df)):\n",
    "#     try:\n",
    "#         specs = json.loads(row['specifications']) if pd.notna(row['specifications']) else []\n",
    "#         spec_text = \" | \".join([f\"{s['name']}: {s['value']}\" for s in specs])\n",
    "\n",
    "#         review_data = json.loads(row['customer_reviews']) if pd.notna(row['customer_reviews']) else []\n",
    "#         review_text = \" | \".join([f\"{r.get('name', '')}: {r.get('review', '')}\" for r in review_data])\n",
    "\n",
    "#         other_attrs = row['other_attributes'] if pd.notna(row['other_attributes']) else \"\"\n",
    "#         ingredients = row['ingredients'] if pd.notna(row['ingredients']) else \"\"\n",
    "#         sizes = row['sizes'] if pd.notna(row['sizes']) else \"\"\n",
    "#         colors = row['colors'] if pd.notna(row['colors']) else \"\"\n",
    "#         top_reviews = row['top_reviews'] if pd.notna(row['top_reviews']) else \"\"\n",
    "#         rating = row['rating'] if pd.notna(row['rating']) else \"\"\n",
    "#         main_image = row['main_image'] if pd.notna(row['main_image']) else \"\"\n",
    "#         description = row['description'] if pd.notna(row['description']) else \"\"\n",
    "#         category_name = row['category_name'] if pd.notna(row['category_name']) else \"\"\n",
    "#         currency = row['currency'] if pd.notna(row['currency']) else \"\"\n",
    "\n",
    "#         text = f\"\"\"\n",
    "#         Product SKU: {row['sku']}\n",
    "#         Title/Description: {description}\n",
    "#         Brand Info: {spec_text}\n",
    "#         Categories: {row['categories']}\n",
    "#         Category Name: {category_name}\n",
    "#         Price: {row['final_price']} {currency}\n",
    "#         Currency: {currency}\n",
    "#         Top Reviews: {top_reviews}\n",
    "#         Ratings (out of 5): {rating}\n",
    "#         Sizes: {sizes}\n",
    "#         Colours: {colors}\n",
    "#         Main Image: {main_image}\n",
    "#         Other Attributes: {other_attrs}\n",
    "#         Customer Reviews: {review_text}\n",
    "#         Ingredients: {ingredients}\n",
    "#         \"\"\"\n",
    "\n",
    "#         # === Get Embedding from Cohere ===\n",
    "#         response = co.v2.embed(\n",
    "#             texts=[text],\n",
    "#             model=EMBED_MODEL,\n",
    "#             output_dimension=1024,\n",
    "#             input_type=\"search_document\",  # use \"search_query\" when embedding queries\n",
    "#             embedding_types=[\"float\"]  # specify embedding type\n",
    "#         )\n",
    "#         vector = response.embeddings.float[0]\n",
    "\n",
    "\n",
    "\n",
    "#         # === Upsert to Pinecone ===\n",
    "#         index.upsert([{\n",
    "#             \"id\": str(row[\"sku\"]),\n",
    "#             \"values\": vector,\n",
    "#             \"metadata\": {\n",
    "#                 \"url\": row[\"url\"],\n",
    "#                 \"price\": row[\"final_price\"],\n",
    "#                 \"brand\": [s[\"value\"] for s in specs if s[\"name\"].lower() == \"brand\"][0] if specs else None,\n",
    "#                 \"categories\": row[\"categories\"]\n",
    "#             }\n",
    "#         }])\n",
    "#         break\n",
    "\n",
    "\n",
    "\n",
    "#     except Exception as e:\n",
    "#         print(f\"Failed on row {row['sku']}: {e}\")\n",
    "#         break"
   ]
  },
  {
   "cell_type": "code",
   "execution_count": null,
   "id": "295837b1",
   "metadata": {},
   "outputs": [],
   "source": [
    "response = co.v2.embed(\n",
    "            texts=[\"100% ORGANIC COTTON Queen size bedsheet pink color\"],\n",
    "            model=EMBED_MODEL,\n",
    "            output_dimension=1024,\n",
    "            input_type=\"search_document\",\n",
    "            embedding_types=[\"float\"]  # specify embedding type\n",
    "        )\n",
    "vector = response.embeddings.float[0]"
   ]
  },
  {
   "cell_type": "code",
   "execution_count": 42,
   "id": "eb8f2eb3",
   "metadata": {},
   "outputs": [],
   "source": [
    "import pyperclip \n",
    "pyperclip.copy(vector)"
   ]
  },
  {
   "cell_type": "code",
   "execution_count": null,
   "id": "adfb07fc",
   "metadata": {},
   "outputs": [
    {
     "name": "stderr",
     "output_type": "stream",
     "text": [
      "  0%|          | 0/1000 [00:00<?, ?it/s]"
     ]
    },
    {
     "name": "stdout",
     "output_type": "stream",
     "text": [
      "['https://i5.walmartimages.com/seo/Laura-Mercier-Caviar-Stick-Eye-Color-Sugar-Frost-1-64g-0-05oz_55297223-7af5-4a30-83c2-4d74d08969e3.8ca12dd7578ff564b6e01923e85ffd11.jpeg']\n"
     ]
    },
    {
     "name": "stderr",
     "output_type": "stream",
     "text": [
      "  0%|          | 1/1000 [00:16<4:33:55, 16.45s/it]"
     ]
    },
    {
     "name": "stdout",
     "output_type": "stream",
     "text": [
      "['https://i5.walmartimages.com/seo/Exultantex-Grey-Blackout-Curtains-for-Living-Room-Pom-Pom-Thermal-Window-Curtains-50-W-x-95-L-2-Panels-Rod-Pocket_f89aea0d-9d30-4bce-b65e-8c15732f1ca4.b20ae059333c322a0c8ea79bd569c7c7.jpeg']\n"
     ]
    },
    {
     "name": "stderr",
     "output_type": "stream",
     "text": [
      "  0%|          | 2/1000 [00:20<2:32:41,  9.18s/it]"
     ]
    },
    {
     "name": "stdout",
     "output_type": "stream",
     "text": [
      "['https://i5.walmartimages.com/seo/Jessica-London-Women-s-Plus-Size-Stretch-Knit-V-Neck-Swing-Tunic-1X-Raspberry_ad301f95-eee5-46f0-a07d-84befa229aee.b557dcd55539425f75e07446439149ca.jpeg']\n"
     ]
    },
    {
     "name": "stderr",
     "output_type": "stream",
     "text": [
      "  0%|          | 3/1000 [00:24<1:49:18,  6.58s/it]"
     ]
    },
    {
     "name": "stdout",
     "output_type": "stream",
     "text": [
      "['https://i5.walmartimages.com/asr/d88fe658-b9fa-48fa-ad77-456edf23b3a5_2.017c4cd5ba8d3df3f9e3863ae7811e48.jpeg']\n"
     ]
    },
    {
     "name": "stderr",
     "output_type": "stream",
     "text": [
      "  0%|          | 4/1000 [00:30<1:49:29,  6.60s/it]"
     ]
    },
    {
     "name": "stdout",
     "output_type": "stream",
     "text": [
      "['https://i5.walmartimages.com/seo/Disney-Boys-Graphic-Tee-Donald-Duck-Short-Sleeves-T-Shirt-Top-Summer-Outfits-Clothes-Sizes-3-10T_c2773cdf-d1b3-471a-9b40-20ab2d53817a.00bcaa73c02bc1af2a69dde8d6c3d28f.jpeg']\n"
     ]
    },
    {
     "name": "stderr",
     "output_type": "stream",
     "text": [
      "  0%|          | 5/1000 [00:32<1:21:23,  4.91s/it]"
     ]
    },
    {
     "name": "stdout",
     "output_type": "stream",
     "text": [
      "['https://i5.walmartimages.com/seo/Women-s-Vanity-Fair-75201-Nearly-Invisible-Full-Coverage-Underwire-Bra-Black-40C_66b9371f-8786-422e-a20f-dc58d9c33726.54d6e7ba62e1150e89fcff45c95f592a.jpeg']\n"
     ]
    },
    {
     "name": "stderr",
     "output_type": "stream",
     "text": [
      "  1%|          | 6/1000 [00:34<1:03:40,  3.84s/it]"
     ]
    },
    {
     "name": "stdout",
     "output_type": "stream",
     "text": [
      "['https://i5.walmartimages.com/seo/IBTOM-CASTLE-Women-s-One-Piece-Rash-Guard-Swimsuit-UV-Protection-Floral-Printed-Surfing-Zipper-Swimwear-Bathing-Suit-Beachwear-S-Green-Leaves_51122fef-9613-491a-a10e-ab00636060d3.1d7b8c779d54a268b2281f2f265095c2.jpeg']\n"
     ]
    },
    {
     "name": "stderr",
     "output_type": "stream",
     "text": [
      "  1%|          | 7/1000 [00:38<1:03:54,  3.86s/it]"
     ]
    },
    {
     "name": "stdout",
     "output_type": "stream",
     "text": [
      "['https://i5.walmartimages.com/seo/a-Jesdani-Women-s-Cardigan-Classic-Casual-Lightweight-Knit-Cardigan-Sweaters-S-XXL_9ffcabe3-1093-45c1-9d53-88eb2b7e84b1.267ee80039d689cb99b3e82193eb15d7.jpeg']\n"
     ]
    },
    {
     "name": "stderr",
     "output_type": "stream",
     "text": [
      "  1%|          | 8/1000 [00:43<1:11:15,  4.31s/it]"
     ]
    },
    {
     "name": "stdout",
     "output_type": "stream",
     "text": [
      "['https://i5.walmartimages.com/seo/4th-of-July-Women-s-Lounger-Sleepshirt-by-Way-To-Celebrate-Sizes-S-to-3X_44136af5-6e4b-487f-8073-271123862f61.c806a7fe5111a72de924a49b07ef4b77.jpeg']\n"
     ]
    },
    {
     "name": "stderr",
     "output_type": "stream",
     "text": [
      "  1%|          | 9/1000 [00:56<1:54:11,  6.91s/it]"
     ]
    },
    {
     "name": "stdout",
     "output_type": "stream",
     "text": [
      "['https://i5.walmartimages.com/seo/Vulcanodon-Mens-Pajama-Set-100-Cotton-Long-Sleeve-Button-Down-PJ-Set-for-Men-Plaid-Men-s-Sleepwear-Red-Blue-Plaid-Large_19f5ab18-9477-4d70-be8a-7b8298dcce0d.2571a25fbe8b6ebe7abafd2c59231fc6.jpeg']\n"
     ]
    },
    {
     "name": "stderr",
     "output_type": "stream",
     "text": [
      "  1%|          | 10/1000 [01:07<2:18:47,  8.41s/it]"
     ]
    },
    {
     "name": "stdout",
     "output_type": "stream",
     "text": [
      "['https://i5.walmartimages.com/seo/GrandeLash-MD-Serum-Lash-Enhancing-0-07-oz-3-Month-Suply_92438031-adc5-43a0-97c2-88ca22342a8b.34f0a41a8312b1077f80d9b14355007c.jpeg']\n"
     ]
    },
    {
     "name": "stderr",
     "output_type": "stream",
     "text": [
      "  1%|          | 11/1000 [01:11<1:52:58,  6.85s/it]"
     ]
    },
    {
     "name": "stdout",
     "output_type": "stream",
     "text": [
      "['https://i5.walmartimages.com/seo/nuLOOM-Vintage-Erline-Area-Rug_ced07d55-ed2d-4dec-9020-97ce527bd5cd.bf636aba1ebb0c219e829f63320dd778.jpeg']\n"
     ]
    },
    {
     "name": "stderr",
     "output_type": "stream",
     "text": [
      "  1%|          | 12/1000 [01:14<1:35:36,  5.81s/it]"
     ]
    },
    {
     "name": "stdout",
     "output_type": "stream",
     "text": [
      "['https://i5.walmartimages.com/seo/Georgia-Giant-Work-Boot-Size-10-5-W_df9f8afd-ac3e-4f43-85ea-666acfbcb2b4.fa428e726c279c5df1b560b4103e3d1f.jpeg']\n"
     ]
    },
    {
     "name": "stderr",
     "output_type": "stream",
     "text": [
      "  1%|▏         | 13/1000 [01:16<1:18:03,  4.75s/it]"
     ]
    },
    {
     "name": "stdout",
     "output_type": "stream",
     "text": [
      "['https://i5.walmartimages.com/seo/Amay-800-Thread-Count-100-Organic-Cotton-Short-Queen-Size-1PC-Flat-Sheet-90x102-Pink-Striped_6ddd474a-f6df-41c0-90c0-10b3f6c039c2.a08cb7e481300b72632c08ad51ef5675.jpeg']\n"
     ]
    },
    {
     "name": "stderr",
     "output_type": "stream",
     "text": [
      "  1%|▏         | 14/1000 [01:18<1:03:19,  3.85s/it]"
     ]
    },
    {
     "name": "stdout",
     "output_type": "stream",
     "text": [
      "['https://i5.walmartimages.com/seo/Hard-Tail-Women-s-French-Terry-Sweatshirt-and-Pant-Set-2-Piece-Sizes-S-3X_e9b8a0b2-b7de-4491-bd4e-973c028a8906.b1835f52e27909aeb4066120faf69eb1.jpeg']\n"
     ]
    },
    {
     "name": "stderr",
     "output_type": "stream",
     "text": [
      "  2%|▏         | 15/1000 [01:23<1:07:46,  4.13s/it]"
     ]
    },
    {
     "name": "stdout",
     "output_type": "stream",
     "text": [
      "['https://i5.walmartimages.com/seo/Men-s-The-Little-Mermaid-Vintage-Characters-Graphic-Tee-Turquoise-Medium_3797aac5-b895-49c0-a8b2-302426648d30_1.c25de960403f04ea32b746c9ec779f0a.jpeg']\n"
     ]
    },
    {
     "name": "stderr",
     "output_type": "stream",
     "text": [
      "  2%|▏         | 16/1000 [01:25<59:06,  3.60s/it]  "
     ]
    },
    {
     "name": "stdout",
     "output_type": "stream",
     "text": [
      "['https://i5.walmartimages.com/seo/Aiyino-Women-s-High-Waist-Yoga-Pants-Tummy-Control-Slimming-Booty-Leggings-Workout-Running-Butt-Lift-Tights_dc3b201c-4258-4a18-b585-6381d38e2cfc.f6e58a5d1ef425e4ff5c02db9096b134.jpeg']\n"
     ]
    },
    {
     "name": "stderr",
     "output_type": "stream",
     "text": [
      "  2%|▏         | 17/1000 [01:32<1:13:35,  4.49s/it]"
     ]
    },
    {
     "name": "stdout",
     "output_type": "stream",
     "text": [
      "['https://i5.walmartimages.com/seo/Jockey-Women-s-Rib-Knit-Tee_bdf85bc8-cb86-4dd9-9187-767547a35abb.7642045ba0d7b2802f818f5a99053f0d.jpeg']\n"
     ]
    },
    {
     "name": "stderr",
     "output_type": "stream",
     "text": [
      "  2%|▏         | 18/1000 [01:34<1:03:05,  3.85s/it]"
     ]
    },
    {
     "name": "stdout",
     "output_type": "stream",
     "text": [
      "['https://i5.walmartimages.com/seo/Bare-Home-Cozy-Fleece-Sheet-Set-Extra-Plush-Polar-Fleece-Deep-Pocket-Split-King-Black_192f58d3-11a4-4c8d-9e2b-cb782e236297.9b2d18407a717f44e10f99a953557d4c.jpeg']\n"
     ]
    },
    {
     "name": "stderr",
     "output_type": "stream",
     "text": [
      "  2%|▏         | 19/1000 [01:37<57:03,  3.49s/it]  "
     ]
    },
    {
     "name": "stdout",
     "output_type": "stream",
     "text": [
      "['https://i5.walmartimages.com/seo/Zenana-Womens-Plus-Stretch-Cotton-Foldover-Waist-Bootcut-Workout-Yoga-Pants_79f044df-5e15-487d-94c4-6036e8f2c335.5791910c2a671d0bde814367c60e19d3.jpeg']\n"
     ]
    },
    {
     "name": "stderr",
     "output_type": "stream",
     "text": [
      "  2%|▏         | 20/1000 [01:38<46:25,  2.84s/it]"
     ]
    },
    {
     "name": "stdout",
     "output_type": "stream",
     "text": [
      "['https://i5.walmartimages.com/seo/SONGMICS-3-Tier-Shoe-Rack-with-Shelves-for-Closet-Entryway-Black_96cf6d35-2e48-4c59-9e02-67e317c60eb1.f89f327b9b80f7e452b570e3f1c52720.jpeg']\n"
     ]
    },
    {
     "name": "stderr",
     "output_type": "stream",
     "text": [
      "  2%|▏         | 21/1000 [01:41<45:29,  2.79s/it]"
     ]
    },
    {
     "name": "stdout",
     "output_type": "stream",
     "text": [
      "['https://i5.walmartimages.com/seo/MOSHU-Summer-Womens-Tank-Tops-U-Neck-Casual-Flowy-Sleeveless-Shirts-for-Women_d89f6185-7408-4809-8abc-2fd578ae035a.d83a552d020c479c9e7bba2049c0f2fc.jpeg']\n"
     ]
    },
    {
     "name": "stderr",
     "output_type": "stream",
     "text": [
      "  2%|▏         | 22/1000 [01:43<43:22,  2.66s/it]"
     ]
    },
    {
     "name": "stdout",
     "output_type": "stream",
     "text": [
      "['https://i5.walmartimages.com/seo/Victorious-Men-s-Skinny-Fit-Unwashed-Raw-Denim-Jeans-DL938-Indigo-32-30_e5a876b3-fc35-4f23-a87d-f8fd5266f0a1.35641238d6b80ddbf3d96be00b3c8366.jpeg']\n"
     ]
    },
    {
     "name": "stderr",
     "output_type": "stream",
     "text": [
      "  2%|▏         | 23/1000 [01:50<1:01:17,  3.76s/it]"
     ]
    },
    {
     "name": "stdout",
     "output_type": "stream",
     "text": [
      "['https://i5.walmartimages.com/seo/16-Handwoven-Cotton-Throw-Pillow-Cover-with-Tufted-designs-and-Side-Tassels_da1a87ba-4fe9-4ca4-a63d-a73690b8ca75.d65a3194f2f276f640145b1e65eeac28.jpeg']\n"
     ]
    },
    {
     "name": "stderr",
     "output_type": "stream",
     "text": [
      "  2%|▏         | 24/1000 [01:52<52:10,  3.21s/it]  "
     ]
    },
    {
     "name": "stdout",
     "output_type": "stream",
     "text": [
      "['https://i5.walmartimages.com/seo/X-RAY-Jeans-Men-s-Slim-Fit-Skinny-Stretch-Comfy-Denim-Colored-Jeans-Comfortable-Commuter-Pants-Commuter-12038-Fig-34W-X-32L_afc5094d-e9f8-4594-a583-a438ef32618f.bb60805676ab1d923fab886f85b371c7.jpeg']\n"
     ]
    },
    {
     "name": "stderr",
     "output_type": "stream",
     "text": [
      "  2%|▎         | 25/1000 [01:54<48:28,  2.98s/it]"
     ]
    },
    {
     "name": "stdout",
     "output_type": "stream",
     "text": [
      "['https://i5.walmartimages.com/seo/Exclusivo-Mezcla-Waffle-Textured-Soft-Fleece-Blanket-King-Size-Bed-Blanket-Cozy-Warm-and-Lightweight-Dark-Grey-90x104-inches_e8bcabf6-6aec-4327-ad71-bbf3cca3991c.13532dd32b058b47be77d559c694302b.jpeg']\n"
     ]
    },
    {
     "name": "stderr",
     "output_type": "stream",
     "text": [
      "  3%|▎         | 26/1000 [01:56<42:57,  2.65s/it]"
     ]
    },
    {
     "name": "stdout",
     "output_type": "stream",
     "text": [
      "['https://i5.walmartimages.com/seo/Anastasia-Beverly-Hills-Norvina-PRO-Pigment-Eyeshadow-Palette-Vol-3_68c164ad-4f08-4ebd-ada2-80c7c8b41f72.6ec6e2ed419b92253025416438782964.jpeg']\n"
     ]
    },
    {
     "name": "stderr",
     "output_type": "stream",
     "text": [
      "  3%|▎         | 27/1000 [01:57<37:50,  2.33s/it]"
     ]
    },
    {
     "name": "stdout",
     "output_type": "stream",
     "text": [
      "['https://i5.walmartimages.com/seo/Amay-800TC-Organic-Cotton-Twin-XL-Size-Fitted-Sheet-39X80-Fits-Mattress-Upto-21-inches-Deep-Pocket-Ivory-Solid_ce4a1f51-cf7c-4f11-be3c-3230c4bd3680.44e2b50485a6acff3aef5f2cd32a5323.jpeg']\n"
     ]
    },
    {
     "name": "stderr",
     "output_type": "stream",
     "text": [
      "  3%|▎         | 28/1000 [01:59<33:10,  2.05s/it]"
     ]
    },
    {
     "name": "stdout",
     "output_type": "stream",
     "text": [
      "['https://i5.walmartimages.com/seo/LARACE-Women-s-Plus-Size-Tops-3-4-Sleeve-Tunic-Shirts-Casual-Button-V-neck-Blouse-Black-4X_c055384d-49e4-4530-9e88-22e6ec93bbc9.bab72ea9604d6e9383461d99ad694003.jpeg']\n"
     ]
    },
    {
     "name": "stderr",
     "output_type": "stream",
     "text": [
      "  3%|▎         | 29/1000 [02:06<57:59,  3.58s/it]"
     ]
    },
    {
     "name": "stdout",
     "output_type": "stream",
     "text": [
      "['https://i5.walmartimages.com/seo/FY24-Valentine-s-Day-Holiday-Deals-itsun-Lingerie-Sets-Women-Sexy-Plus-Size-Lace-Set-Strappy-Bra-Panty-Two-Piece-Crotchless-White_5fbb6e98-918d-4b21-92a3-3e90f809d0cb.eba3393f28c4e10df7155d53366070ef.jpeg']\n"
     ]
    },
    {
     "name": "stderr",
     "output_type": "stream",
     "text": [
      "  3%|▎         | 30/1000 [02:08<51:58,  3.22s/it]"
     ]
    },
    {
     "name": "stdout",
     "output_type": "stream",
     "text": [
      "['https://i5.walmartimages.com/seo/Rest-Haven-Upholstered-Square-Tufted-Headboard-Full-Charcoal_750c1da7-61aa-4369-8328-8db1235ac631.164df7cf3902cb01f6a0907043c86ae8.jpeg']\n"
     ]
    },
    {
     "name": "stderr",
     "output_type": "stream",
     "text": [
      "  3%|▎         | 31/1000 [02:11<49:06,  3.04s/it]"
     ]
    },
    {
     "name": "stdout",
     "output_type": "stream",
     "text": [
      "['https://i5.walmartimages.com/seo/LARACE-Women-s-Tops-Long-Sleeve-Dressy-Casual-Plus-Size-Tunic-Tops-to-Wear-with-Leggings-Loose-T-Shirt-Loose-Fit-Blouses-NavyBlue-1X_a4a8b5e7-cb51-4701-a896-dd2a50664557.64ee2046393d90f019440f75cb24adfb.jpeg']\n"
     ]
    },
    {
     "name": "stderr",
     "output_type": "stream",
     "text": [
      "  3%|▎         | 32/1000 [02:13<44:00,  2.73s/it]"
     ]
    },
    {
     "name": "stdout",
     "output_type": "stream",
     "text": [
      "['https://i5.walmartimages.com/seo/AUSTUFF-Swivel-Bar-Stools-Set-of-2-Velvet-Barstools-for-Kitchen-Island-30-Blue_a10c727b-d14f-4140-baec-4f5f2d87a271.5e848d98297b6c12554c97bfe2568dcd.jpeg']\n"
     ]
    },
    {
     "name": "stderr",
     "output_type": "stream",
     "text": [
      "  3%|▎         | 33/1000 [02:16<43:33,  2.70s/it]"
     ]
    },
    {
     "name": "stdout",
     "output_type": "stream",
     "text": [
      "['https://i5.walmartimages.com/seo/Fresh-Roasted-Coffee-Indian-Monsoon-Water-Decaf-Coffee-Medium-Dark-Roast-Whole-Bean-80-oz_28a27cb7-a0ee-4848-b77d-455e03696e3d.9319a64c83dec390195a7cdc4f0f9a70.jpeg']\n"
     ]
    },
    {
     "name": "stderr",
     "output_type": "stream",
     "text": [
      "  3%|▎         | 34/1000 [02:18<42:16,  2.63s/it]"
     ]
    },
    {
     "name": "stdout",
     "output_type": "stream",
     "text": [
      "['https://i5.walmartimages.com/seo/FaithHeart-Nordic-Viking-Vegvisir-Pirate-Compass-Ring-Men-Solid-Rune-Band-Rings-Black-Stainless-Steel-Jewelry-Punk-Valknut-Protection-Amulet-Gift-Rap_7adc64dd-1d1c-4ab1-ac91-1d794a8df73e.41b10bb4caad92a3d4824d65f655269e.jpeg']\n"
     ]
    },
    {
     "name": "stderr",
     "output_type": "stream",
     "text": [
      "  4%|▎         | 35/1000 [02:20<40:49,  2.54s/it]"
     ]
    },
    {
     "name": "stdout",
     "output_type": "stream",
     "text": [
      "['https://i5.walmartimages.com/seo/Scoop-Women-s-V-Neck-Top-with-Volume-Sleeves-Sizes-XS-XXL_06a585c1-d3b7-4b6f-b497-457222cda9a7.3dca11289bbf63fc75540376d7a4922e.jpeg']\n"
     ]
    },
    {
     "name": "stderr",
     "output_type": "stream",
     "text": [
      "  4%|▎         | 36/1000 [02:23<40:47,  2.54s/it]"
     ]
    },
    {
     "name": "stdout",
     "output_type": "stream",
     "text": [
      "['https://i5.walmartimages.com/seo/SmartMouth-Original-Activated-Breath-Rinse-16-oz-Adult_bc538826-8632-4c9a-9135-00682f2a4c8c.03ff0b0e94349ea22688b5382bccbb78.png']\n"
     ]
    },
    {
     "name": "stderr",
     "output_type": "stream",
     "text": [
      "  4%|▎         | 37/1000 [02:28<54:46,  3.41s/it]"
     ]
    },
    {
     "name": "stdout",
     "output_type": "stream",
     "text": [
      "['https://i5.walmartimages.com/seo/WestinTrends-Julia-10-Ft-Outdoor-Patio-Cantilever-Umbrella-Base-Included-Market-Hanging-Offset-4-Pieces-Fillable-Weight-Coffee_377fd973-eb26-40bc-be22-0d387eb9d7b9.9560b9dc6acf53030f0ebb77db8f3720.jpeg']\n"
     ]
    },
    {
     "name": "stderr",
     "output_type": "stream",
     "text": [
      "  4%|▍         | 38/1000 [02:31<50:08,  3.13s/it]"
     ]
    },
    {
     "name": "stdout",
     "output_type": "stream",
     "text": [
      "['https://i5.walmartimages.com/seo/Newborn-Baby-Girl-Summer-Clothes-Ribbed-Strap-Romper-Bodysuit-Drawstring-Shorts-Pink-18-24-Months_a360c649-2d8e-41b5-95e6-e6ef8d67246e.96ace42730f49c1ca20e0c88490ae6b0.jpeg']\n"
     ]
    },
    {
     "name": "stderr",
     "output_type": "stream",
     "text": [
      "  4%|▍         | 39/1000 [02:32<42:31,  2.66s/it]"
     ]
    },
    {
     "name": "stdout",
     "output_type": "stream",
     "text": [
      "['https://i5.walmartimages.com/seo/UDPATIO-High-Back-Outdoor-Dining-Chairs-Set-of-4-All-Weather-Swivel-Patio-Chairs-Breathable-Garden-Outdoor-Furniture-for-Backyard-Deck_96a72726-5b0c-4f62-b3ae-94dd3a53d8c8.7d93495de8869702d46824952bc29a76.jpeg']\n"
     ]
    },
    {
     "name": "stderr",
     "output_type": "stream",
     "text": [
      "  4%|▍         | 40/1000 [02:36<48:23,  3.02s/it]"
     ]
    },
    {
     "name": "stdout",
     "output_type": "stream",
     "text": [
      "['https://i5.walmartimages.com/seo/Exclusivo-Mezcla-Bed-Quilt-Set-Twin-Size-All-Seasons-Stitched-Pattern-Quilted-Bedspread-Bedding-Set-Coverlet-1-Pillow-sham-Lightweight-Soft-Turquoise_1ff150ff-62fa-4fba-b466-4aa31dbedf9d.cc9bb34efde370143cac6c2c387eaf4b.jpeg']\n"
     ]
    },
    {
     "name": "stderr",
     "output_type": "stream",
     "text": [
      "  4%|▍         | 41/1000 [02:40<49:57,  3.13s/it]"
     ]
    },
    {
     "name": "stdout",
     "output_type": "stream",
     "text": [
      "['https://i5.walmartimages.com/seo/Hanes-Beefy-T-Unisex-Long-Sleeve-T-Shirt-2-Pack-Deep-Royal-S_e8fb1790-aba4-4fa7-bc01-ef41018520f4.19c0335416cb75fe73ea603fc8a59f07.jpeg']\n"
     ]
    },
    {
     "name": "stderr",
     "output_type": "stream",
     "text": [
      "  4%|▍         | 42/1000 [02:43<52:14,  3.27s/it]"
     ]
    },
    {
     "name": "stdout",
     "output_type": "stream",
     "text": [
      "['https://i5.walmartimages.com/seo/Amay-100-Cotton-600-Thread-Count-4-PCs-Sheet-Set-Easily-Fit-upto-21-Inch-Deep-Pockets-Solid-California-King-White_4f167707-8335-4b0b-8788-33d7138be1fb.e2fea14195e1435e2d146df8161b46e0.jpeg']\n"
     ]
    },
    {
     "name": "stderr",
     "output_type": "stream",
     "text": [
      "  4%|▍         | 43/1000 [02:46<50:57,  3.20s/it]"
     ]
    },
    {
     "name": "stdout",
     "output_type": "stream",
     "text": [
      "['https://i5.walmartimages.com/seo/Simply-Silver-Mint-Breath-Spray-For-Dry-Mouth-and-Freshening-All-Natural-Fluoride-Free-2-Fl-Oz_c1287d38-43ee-4204-a7df-57005d386a7e.a941b15f3bd1c89e4c4ac6c2f03e4323.jpeg']\n"
     ]
    },
    {
     "name": "stderr",
     "output_type": "stream",
     "text": [
      "  4%|▍         | 44/1000 [02:49<47:14,  2.97s/it]"
     ]
    },
    {
     "name": "stdout",
     "output_type": "stream",
     "text": [
      "['https://i5.walmartimages.com/seo/Demotime-Men-s-Polo-Shirts-Casual-Button-Down-Shirts-Short-Sleeve-Polo-Shirts-Blue-L-V-Neck-T-Shirts-Big-and-Tall-Golf-Solid-Classic-Stylish-Tops_0d65516a-78ce-43d6-9e5b-e3d5f396fad0.11b97944e7edb01455411c2b8726d08f.jpeg']\n"
     ]
    },
    {
     "name": "stderr",
     "output_type": "stream",
     "text": [
      "  4%|▍         | 45/1000 [02:51<43:30,  2.73s/it]"
     ]
    },
    {
     "name": "stdout",
     "output_type": "stream",
     "text": [
      "Failed on row 5702523237: list index out of range\n",
      "['https://i5.walmartimages.com/seo/FindChic-Men-Triple-Moon-Goddess-Ring-Balck-Rotatable-Anxiety-Ring-Width-8mm-Size-7-to-14-Send-Gift-Box_9dd91d19-379f-4ca1-a2c5-989b0da8af6e.b231aecefa61d2b905f59452f64d54df.jpeg']\n"
     ]
    },
    {
     "name": "stderr",
     "output_type": "stream",
     "text": [
      "  5%|▍         | 46/1000 [02:53<39:31,  2.49s/it]"
     ]
    },
    {
     "name": "stdout",
     "output_type": "stream",
     "text": [
      "['https://i5.walmartimages.com/seo/Casual-Nights-Women-s-Zipper-Front-House-Dress-Sleeveless-Seersucker-Housecoat-Duster-Lounger_dad07d21-0d2c-42a9-a1af-3794ace44993_1.52c5bf04deeecd1fedc342241f6ecaf0.jpeg']\n"
     ]
    },
    {
     "name": "stderr",
     "output_type": "stream",
     "text": [
      "  5%|▍         | 47/1000 [02:55<36:29,  2.30s/it]"
     ]
    },
    {
     "name": "stdout",
     "output_type": "stream",
     "text": [
      "['https://i5.walmartimages.com/seo/J-Adams-Camila-Block-Heeled-Strappy-Sandals-for-Women-Nude-PU-9_d5872ecb-fbad-4678-adb5-c19749e587c2.014f1bb7b39a2b141a8bd801d3fb6c51.jpeg']\n"
     ]
    },
    {
     "name": "stderr",
     "output_type": "stream",
     "text": [
      "  5%|▍         | 48/1000 [02:56<32:14,  2.03s/it]"
     ]
    },
    {
     "name": "stdout",
     "output_type": "stream",
     "text": [
      "['https://i5.walmartimages.com/seo/TheLovely-Women-Plus-Front-and-Back-Reversible-Spaghetti-Strap-Flowy-Cami-Tank-Tops_7640a0fc-19be-4667-9f8e-18c1e84ff551.655627375df98cdf24bb4e27423bfd08.jpeg']\n"
     ]
    },
    {
     "name": "stderr",
     "output_type": "stream",
     "text": [
      "  5%|▍         | 49/1000 [02:59<34:29,  2.18s/it]"
     ]
    },
    {
     "name": "stdout",
     "output_type": "stream",
     "text": [
      "['https://i5.walmartimages.com/seo/UVN-Square-Neck-Sweatshirt-for-Women-Long-Sleeve-Shirt-Fall-Tunic-Tops_e9927de1-8b43-4a09-b417-3bf260d37fff.a0094ffbd794cef167284758f6d174b1.jpeg']\n"
     ]
    },
    {
     "name": "stderr",
     "output_type": "stream",
     "text": [
      "  5%|▌         | 50/1000 [03:03<42:43,  2.70s/it]"
     ]
    },
    {
     "name": "stdout",
     "output_type": "stream",
     "text": [
      "['https://i5.walmartimages.com/seo/Amay-800-Thread-Count-100-Organic-Cotton-Grand-King-Super-King-Size-1PC-Flat-Sheet-110x125-Royal-Blue-Striped_5101cb02-1bf8-4f27-b8f3-0d44d84ecc8d.2092d965c1d7ec6e8be6b3ca5fa9e47f.jpeg']\n"
     ]
    },
    {
     "name": "stderr",
     "output_type": "stream",
     "text": [
      "  5%|▌         | 51/1000 [03:05<42:59,  2.72s/it]"
     ]
    },
    {
     "name": "stdout",
     "output_type": "stream",
     "text": [
      "['https://i5.walmartimages.com/seo/VOUA-Electric-Heated-Mattress-Pad-White-King_05ee1748-f364-4825-bec1-9c029ef019bc.0ca2a0ca6e14404979ac6953a6b7e2ea.jpeg']\n"
     ]
    },
    {
     "name": "stderr",
     "output_type": "stream",
     "text": [
      "  5%|▌         | 52/1000 [03:15<1:17:35,  4.91s/it]"
     ]
    },
    {
     "name": "stdout",
     "output_type": "stream",
     "text": [
      "['https://i5.walmartimages.com/seo/Caroma-Electric-Scooter-Adult-30Miles-Range-20Mph-Power-20-Off-Road-Tire-Height-Adjustable-Seat-Foldable-E-Bike-Mountains-Snow-Road-Black_0348a909-97a3-40b5-8443-88b1d92d5d1a.2fcb8c12df6c06a9f4edc7d65b32e4c6.jpeg']\n"
     ]
    },
    {
     "name": "stderr",
     "output_type": "stream",
     "text": [
      "  5%|▌         | 53/1000 [03:18<1:05:59,  4.18s/it]"
     ]
    },
    {
     "name": "stdout",
     "output_type": "stream",
     "text": [
      "['https://i5.walmartimages.com/seo/LifeStride-Womens-Suki-Pumps-Medium-Wide-Width_6c8cad2e-960d-46b8-b059-9fc6e711c7bc.32cb26754757a4ac0f3d7b8860f756f0.jpeg']\n"
     ]
    },
    {
     "name": "stderr",
     "output_type": "stream",
     "text": [
      "  5%|▌         | 54/1000 [03:21<1:00:02,  3.81s/it]"
     ]
    },
    {
     "name": "stdout",
     "output_type": "stream",
     "text": [
      "['https://i5.walmartimages.com/seo/Solaray-Food-Carotene-Vitamin-A-as-Beta-Carotene-25000IU-Carotenoids-for-Healthy-Skin-Eyes-Antioxidant-Activity-Immune-System-Support-200ct_8d2c556b-bb26-45fd-92ad-1cc6ed37295d_1.85d55f094605ab5d544ce9ca6ab8545a.jpeg']\n"
     ]
    },
    {
     "name": "stderr",
     "output_type": "stream",
     "text": [
      "  6%|▌         | 55/1000 [03:22<49:07,  3.12s/it]  "
     ]
    },
    {
     "name": "stdout",
     "output_type": "stream",
     "text": [
      "['https://i5.walmartimages.com/seo/Ruimatai-Women-s-Plus-Size-Elastic-Waist-Guipure-Lace-Hem-Solid-Shorts_dc1d7faf-b532-40c0-9604-2b4868ddd4b1.53649c8dd80b8b7c988a3c851438def3.jpeg']\n"
     ]
    },
    {
     "name": "stderr",
     "output_type": "stream",
     "text": [
      "  6%|▌         | 56/1000 [03:25<46:28,  2.95s/it]"
     ]
    },
    {
     "name": "stdout",
     "output_type": "stream",
     "text": [
      "['https://i5.walmartimages.com/seo/Roaman-s-Women-s-Plus-Size-Tall-Complete-Cotton-Seamed-Jean-20-W-Indigo-Wash_fcb5af97-2ddb-49ce-9e46-d3a3f623fa2c.0a40ca651a9943dd0ac19ed17539d8b7.jpeg']\n"
     ]
    },
    {
     "name": "stderr",
     "output_type": "stream",
     "text": [
      "  6%|▌         | 57/1000 [03:27<43:47,  2.79s/it]"
     ]
    },
    {
     "name": "stdout",
     "output_type": "stream",
     "text": [
      "['https://i5.walmartimages.com/asr/46a3607c-94f4-492f-b526-710e127a67b9_1.7502a077e6ef979f8be3079f96abb80d.jpeg']\n"
     ]
    },
    {
     "name": "stderr",
     "output_type": "stream",
     "text": [
      "  6%|▌         | 58/1000 [03:30<45:12,  2.88s/it]"
     ]
    },
    {
     "name": "stdout",
     "output_type": "stream",
     "text": [
      "['https://i5.walmartimages.com/seo/LifeStride-Womens-Deja-Vu-Skimmers-Medium-Wide-Width_7d971c08-3fc7-4f26-9cf2-a3c7246c5a5f.b09136b76a734fda47f7ff6942f35d36.jpeg']\n"
     ]
    },
    {
     "name": "stderr",
     "output_type": "stream",
     "text": [
      "  6%|▌         | 59/1000 [03:34<50:33,  3.22s/it]"
     ]
    },
    {
     "name": "stdout",
     "output_type": "stream",
     "text": [
      "['https://i5.walmartimages.com/seo/Zenana-Women-Plus-Basic-Cotton-Relaxed-Fit-V-Neck-Long-Sleeve-Plain-Active-Casual-T-ShirtTop-S-3X_2adf3843-aabf-41d6-a04f-958ab4964fb1_1.efedca8eccbf0d3abb184a8da814a6c6.jpeg']\n"
     ]
    },
    {
     "name": "stderr",
     "output_type": "stream",
     "text": [
      "  6%|▌         | 60/1000 [03:37<46:23,  2.96s/it]"
     ]
    },
    {
     "name": "stdout",
     "output_type": "stream",
     "text": [
      "['https://i5.walmartimages.com/seo/Bed-Sheet-Set-4-Piece-Bed-Sheet-set-Deep-Pocket-HypoAllergenic-Queen-Sage-Green_6a44ad96-55dc-4a3e-bec9-180e5b6957e7_1.8bd73d78d94efaea53cbd8d931c91305.jpeg']\n"
     ]
    },
    {
     "name": "stderr",
     "output_type": "stream",
     "text": [
      "  6%|▌         | 61/1000 [03:38<39:23,  2.52s/it]"
     ]
    },
    {
     "name": "stdout",
     "output_type": "stream",
     "text": [
      "['https://i5.walmartimages.com/seo/Feather-Stitch-2-Piece-Pillowcase-Set-Standard-Size-White-100-Cotton-Damask-Stripe-Pillow-Cases-500-Thread-Count-20x30-Inches-Ultra-Soft-Luxury-Satee_b7c5a6c6-2a1a-4484-9ea4-87b4d8b2761b.df4035b1e5d6cb9c511de71ad1d78587.jpeg']\n"
     ]
    },
    {
     "name": "stderr",
     "output_type": "stream",
     "text": [
      "  6%|▌         | 62/1000 [03:40<35:28,  2.27s/it]"
     ]
    },
    {
     "name": "stdout",
     "output_type": "stream",
     "text": [
      "['https://i5.walmartimages.com/seo/Amay-Grommet-Top-Blackout-Curtain-Panel-White-120-inch-Wide-by-120-inch-Long-1-Panel_145f2ea0-ce32-424b-9884-0d64f3dd121a.326107fbfad2300b182e2c5c1f84ac28.jpeg']\n"
     ]
    },
    {
     "name": "stderr",
     "output_type": "stream",
     "text": [
      "  6%|▋         | 63/1000 [03:48<1:03:46,  4.08s/it]"
     ]
    },
    {
     "name": "stdout",
     "output_type": "stream",
     "text": [
      "['https://i5.walmartimages.com/seo/SGI-Bedding-16-Inch-Wrap-Around-Bed-Skirt-Microfiber-Fade-Resistant-Wrinkle-Free-Anti-static-Decorative-Extra-Storage-Space-Clutter-Free-Queen-Light_001b523c-831b-4c49-940a-51914337836b.312b3a2c3378572e0a812e114e372acb.jpeg']\n"
     ]
    },
    {
     "name": "stderr",
     "output_type": "stream",
     "text": [
      "  6%|▋         | 64/1000 [03:50<51:53,  3.33s/it]  "
     ]
    },
    {
     "name": "stdout",
     "output_type": "stream",
     "text": [
      "['https://i5.walmartimages.com/seo/Amay-800TC-Organic-Cotton-Alaska-King-Size-Fitted-Sheet-108X108-Fits-Mattress-Upto-12-15-inches-Light-Blue-Stripe_3306d942-26c2-4eb6-9b32-c66a94ed3c4a.a85ff4aefbc094b9211175899892043c.jpeg']\n"
     ]
    },
    {
     "name": "stderr",
     "output_type": "stream",
     "text": [
      "  6%|▋         | 65/1000 [03:51<42:00,  2.70s/it]"
     ]
    },
    {
     "name": "stdout",
     "output_type": "stream",
     "text": [
      "['https://i5.walmartimages.com/seo/NELEUS-Mens-Running-Tank-Top-Dry-Fit-Y-Back-Athletic-Workout-Tank-Tops-3-Pack-Purple-Pink-White-US-Size-L_2b72ee22-f6b2-414d-afad-151951c1ab0a.414a8c5b6c732aa4d08106327a64af14.jpeg']\n"
     ]
    },
    {
     "name": "stderr",
     "output_type": "stream",
     "text": [
      "  7%|▋         | 66/1000 [03:53<37:48,  2.43s/it]"
     ]
    },
    {
     "name": "stdout",
     "output_type": "stream",
     "text": [
      "['https://i5.walmartimages.com/seo/Mellanni-Sheet-Set-Hotel-Luxury-Brushed-Microfiber-Deep-Pocket-Sheet-3-Piece-Twin-Ivory_b349a0f3-1869-4f28-9458-758d41351a02.394162177efe422f0686310d1da3e52b.jpeg']\n"
     ]
    },
    {
     "name": "stderr",
     "output_type": "stream",
     "text": [
      "  7%|▋         | 67/1000 [03:55<38:04,  2.45s/it]"
     ]
    },
    {
     "name": "stdout",
     "output_type": "stream",
     "text": [
      "['https://i5.walmartimages.com/seo/Ecetana-Womens-Walking-Shoes-Lightweight-Breathable-Mesh-Air-Cushion-Sneakers_bfe77c76-956d-44d4-9270-7c962a5e954c.582963deb32957be953652b26e39e1a7.jpeg']\n"
     ]
    },
    {
     "name": "stderr",
     "output_type": "stream",
     "text": [
      "  7%|▋         | 68/1000 [03:57<32:34,  2.10s/it]"
     ]
    },
    {
     "name": "stdout",
     "output_type": "stream",
     "text": [
      "['https://i5.walmartimages.com/seo/Uvplove-Women-s-Summer-Loose-Casual-Short-Sleeve-Chiffon-Top-T-Shirt-Blouse-Grey-M_fae36b76-d58e-4eac-986c-3f7bdec8dcb3.19c3e7ec0e43ce736674cec8afad75ad.jpeg']\n"
     ]
    },
    {
     "name": "stderr",
     "output_type": "stream",
     "text": [
      "  7%|▋         | 69/1000 [03:59<33:20,  2.15s/it]"
     ]
    },
    {
     "name": "stdout",
     "output_type": "stream",
     "text": [
      "['https://i5.walmartimages.com/seo/JWD-Womens-Nightgown-Short-Sleeves-Sleepwear-Soft-Loose-Sleepshirt-Scoopneck-Pleated-Nightshirt-Loungewear_ee51fac8-e012-48ba-bf01-bc66369266eb.5fb61319bda658aa21728c075919135d.jpeg']\n"
     ]
    },
    {
     "name": "stderr",
     "output_type": "stream",
     "text": [
      "  7%|▋         | 70/1000 [04:01<34:48,  2.25s/it]"
     ]
    },
    {
     "name": "stdout",
     "output_type": "stream",
     "text": [
      "['https://i5.walmartimages.com/seo/Men-s-Marvel-Deadpool-No-One-Cares-Graphic-Tee-Black-1X-Big-Tall_cd2cf943-99ca-46f1-a973-d28c4f49bc23.fdf620c9bb0eb187355e3d28ab0992d5.jpeg']\n"
     ]
    },
    {
     "name": "stderr",
     "output_type": "stream",
     "text": [
      "  7%|▋         | 71/1000 [04:04<36:04,  2.33s/it]"
     ]
    },
    {
     "name": "stdout",
     "output_type": "stream",
     "text": [
      "['https://i5.walmartimages.com/seo/Pntutb-Womens-Plus-Size-Clearance-Women-s-Printed-Yoga-Fitness-Leggings-Running-Gym-Stretch-Sports-Pants-Trousers_4be08f39-d0b2-4cc8-8491-be7d88f51813.67b0592ebbd1429064cb7f1151eecf4c.jpeg']\n"
     ]
    },
    {
     "name": "stderr",
     "output_type": "stream",
     "text": [
      "  7%|▋         | 72/1000 [04:05<30:53,  2.00s/it]"
     ]
    },
    {
     "name": "stdout",
     "output_type": "stream",
     "text": [
      "['https://i5.walmartimages.com/seo/MINTREUS-Womens-Ribbed-Knit-Pajama-Set-Homewear-Set-Short-Sleeve-Top-and-Long-Pants-Sleepwear-Set-Two-Piece-Matching-Outfits-Set_56d65982-db73-4e43-a214-fb32a0c1b0b9.4f7f6849f8bdbec6c9b552e3fa7956e7.jpeg']\n"
     ]
    },
    {
     "name": "stderr",
     "output_type": "stream",
     "text": [
      "  7%|▋         | 73/1000 [04:08<36:48,  2.38s/it]"
     ]
    },
    {
     "name": "stdout",
     "output_type": "stream",
     "text": [
      "['https://i5.walmartimages.com/seo/PiccoCasa-Soft-190GSM-Brushed-Polyester-16-Deep-Pocket-Fitted-Sheets-Black-Full_197d1327-4bd4-4a59-abb8-52b7c980d582.b2a9b2dcae20f1f27f6f702043a93565.jpeg']\n"
     ]
    },
    {
     "name": "stderr",
     "output_type": "stream",
     "text": [
      "  7%|▋         | 74/1000 [04:11<38:13,  2.48s/it]"
     ]
    },
    {
     "name": "stdout",
     "output_type": "stream",
     "text": [
      "['https://i5.walmartimages.com/seo/Zenana-Womens-s-Cotton-Stretch-Mid-Thigh-Length-Leggings-Fitness-Sport-Biker-Shorts_a46b8cd5-477c-46d4-86fe-2eed7d875105.ecca95bd900d8a9647593c1454b20863.jpeg']\n"
     ]
    },
    {
     "name": "stderr",
     "output_type": "stream",
     "text": [
      "  8%|▊         | 75/1000 [04:19<1:03:08,  4.10s/it]"
     ]
    },
    {
     "name": "stdout",
     "output_type": "stream",
     "text": [
      "['https://i5.walmartimages.com/seo/Zukes-Mini-Naturals-Duck-Recipe-Dog-Training-Treats_6872ec6d-19f1-4449-944f-4aa5b163bd9b.4977c122ea4f9a9ff597f4c899ba51d8.jpeg']\n"
     ]
    },
    {
     "name": "stderr",
     "output_type": "stream",
     "text": [
      "  8%|▊         | 76/1000 [04:22<57:32,  3.74s/it]  "
     ]
    },
    {
     "name": "stdout",
     "output_type": "stream",
     "text": [
      "['https://i5.walmartimages.com/seo/Ralph-Lauren-Polo-Double-Black-For-Men_c1b5e71b-1acb-404e-85b0-753da79fe513_1.100d8004afe59e8dbef860545581aaff.jpeg']\n"
     ]
    },
    {
     "name": "stderr",
     "output_type": "stream",
     "text": [
      "  8%|▊         | 77/1000 [04:24<49:48,  3.24s/it]"
     ]
    },
    {
     "name": "stdout",
     "output_type": "stream",
     "text": [
      "['https://i5.walmartimages.com/seo/Reebok-Boys-Power-Blast-Muscle-Active-Tank-Sizes-4-18_db8f6517-430b-451e-9005-4a4576f3a213.7a2d144e94a1eeab5c2914ac6dd3af33.jpeg']\n"
     ]
    },
    {
     "name": "stderr",
     "output_type": "stream",
     "text": [
      "  8%|▊         | 78/1000 [04:26<45:45,  2.98s/it]"
     ]
    },
    {
     "name": "stdout",
     "output_type": "stream",
     "text": [
      "['https://i5.walmartimages.com/seo/Russell-Athletic-Men-s-Lux-Tech-Fleece-Pants-Sizes-S-XL_658967f0-51e1-4534-bd85-d59d0a8311b9.b90a54788aa69601bd43e1aa4454ed17.jpeg']\n"
     ]
    },
    {
     "name": "stderr",
     "output_type": "stream",
     "text": [
      "  8%|▊         | 79/1000 [04:29<42:42,  2.78s/it]"
     ]
    },
    {
     "name": "stdout",
     "output_type": "stream",
     "text": [
      "['https://i5.walmartimages.com/seo/Hanes-Men-s-and-Big-Men-s-Beefy-Tee-with-Short-Sleeves-2-Pack-Sizes-S-6XL_f860b6c6-58c3-4153-9766-5c364e787838_1.f4591f8d732b2954c0ddd22c6769df37.jpeg']\n"
     ]
    },
    {
     "name": "stderr",
     "output_type": "stream",
     "text": [
      "  8%|▊         | 80/1000 [04:31<40:46,  2.66s/it]"
     ]
    },
    {
     "name": "stdout",
     "output_type": "stream",
     "text": [
      "['https://i5.walmartimages.com/seo/Clubman-Pinaud-Styptic-Pencil_9ded8724-b644-4ed8-8bb7-daf4410d3949.e31d815d089120b661d5fde8beb89877.jpeg']\n"
     ]
    },
    {
     "name": "stderr",
     "output_type": "stream",
     "text": [
      "  8%|▊         | 81/1000 [04:39<1:06:13,  4.32s/it]"
     ]
    },
    {
     "name": "stdout",
     "output_type": "stream",
     "text": [
      "['https://i5.walmartimages.com/seo/Muk-Luks-Soft-Knit-Matching-Family-Pajama-Set-Grey-Fairisle-Dogs-T-3X_2925387a-a799-4fec-bf1a-1998207d5076.3bfd252d298ed08ac821cd415f773f23.jpeg']\n"
     ]
    },
    {
     "name": "stderr",
     "output_type": "stream",
     "text": [
      "  8%|▊         | 82/1000 [04:42<1:01:32,  4.02s/it]"
     ]
    },
    {
     "name": "stdout",
     "output_type": "stream",
     "text": [
      "['https://i5.walmartimages.com/seo/RAW-X-Boy-s-Skinny-Fit-Stretch-Jeans-Fashion-Rips-Destroyed-Distressed-Washed-Denim-Jean-Pants-for-Boys-Dark-Blue-99013-2T_d6160100-af48-4dd1-a86d-610ec60b8505.1607f1074ef2b172a4c6629b5c990845.jpeg']\n"
     ]
    },
    {
     "name": "stderr",
     "output_type": "stream",
     "text": [
      "  8%|▊         | 83/1000 [04:45<56:50,  3.72s/it]  "
     ]
    },
    {
     "name": "stdout",
     "output_type": "stream",
     "text": [
      "['https://i5.walmartimages.com/seo/Roaman-s-Women-s-Plus-Size-Soft-Knit-Bermuda-Short-5X-Orange-Melon_570ad547-100a-4070-adcd-adba81726e7a.1fea6869a23a80f0faf8aee88b065f85.jpeg']\n"
     ]
    },
    {
     "name": "stderr",
     "output_type": "stream",
     "text": [
      "  8%|▊         | 84/1000 [04:48<50:07,  3.28s/it]"
     ]
    },
    {
     "name": "stdout",
     "output_type": "stream",
     "text": [
      "['https://i5.walmartimages.com/seo/LifeStride-Womens-Minimalist-Pumps-Medium-Wide-Width_6216c959-6bd3-49f9-8bb4-1b74355c2980.79e686246584100bbbfdaffce65bce8b.jpeg']\n"
     ]
    },
    {
     "name": "stderr",
     "output_type": "stream",
     "text": [
      "  8%|▊         | 85/1000 [04:50<46:35,  3.06s/it]"
     ]
    },
    {
     "name": "stdout",
     "output_type": "stream",
     "text": [
      "['https://i5.walmartimages.com/seo/Clara-Clark-Twin-Size-Deep-Pocket-3-Piece-Bed-Sheets-Set-1800-Series-Hotel-Luxury-Soft-Microfiber-Brown_e597136d-cf7a-4d1a-9747-35c9f0bdcda4.8f39893626fccb12e319765099291753.jpeg']\n"
     ]
    },
    {
     "name": "stderr",
     "output_type": "stream",
     "text": [
      "  9%|▊         | 86/1000 [04:54<50:19,  3.30s/it]"
     ]
    },
    {
     "name": "stdout",
     "output_type": "stream",
     "text": [
      "['https://i5.walmartimages.com/seo/COMFREE-Women-s-Camisole-with-Built-in-Bra-Plus-Size-Tank-Top-Cami-Flowy-Casual-Tops-with-Adjustable-Strap-S-4XL_ab6f6abe-d4a2-4047-a585-d36c75906f2b.cbe2c7cac5f1f661e0b4a4dd4d761fc2.jpeg']\n"
     ]
    },
    {
     "name": "stderr",
     "output_type": "stream",
     "text": [
      "  9%|▊         | 87/1000 [04:57<46:14,  3.04s/it]"
     ]
    },
    {
     "name": "stdout",
     "output_type": "stream",
     "text": [
      "['https://i5.walmartimages.com/seo/IBTOM-CASTLE-Baby-Girls-Formal-Dress-Lace-Bowknot-Baptism-Embroidery-Princess-Birthday-Wedding-Flower-Tutu-Gown-with-Headwear-3-6-Months-Red_9a35e391-de04-49d7-9f73-4fe91b98cd48.8b9dbd73625399cf265aee6b9d0f5b23.png']\n"
     ]
    },
    {
     "name": "stderr",
     "output_type": "stream",
     "text": [
      "  9%|▉         | 88/1000 [04:59<42:01,  2.77s/it]"
     ]
    },
    {
     "name": "stdout",
     "output_type": "stream",
     "text": [
      "['https://i5.walmartimages.com/seo/Zenana-Women-Plus-Relaxed-Fit-Scoop-Neck-Sleeveless-Round-Hem-Blouse-Tank-Top_99c480f9-881a-40b3-babb-a3bdac289ebc.ff73bebc59e00846e3886239c95d7606.jpeg']\n"
     ]
    },
    {
     "name": "stderr",
     "output_type": "stream",
     "text": [
      "  9%|▉         | 89/1000 [05:03<46:59,  3.10s/it]"
     ]
    },
    {
     "name": "stdout",
     "output_type": "stream",
     "text": [
      "['https://i5.walmartimages.com/seo/Zbar-Chocolate-Chip-Iced-Oatmeal-Cookie-Variety-Pack-Soft-Baked-Whole-Grain-Snack-Bars-USDA-Organic-Non-GMO-Plant-Based-1-27-oz-24-Count_75e30b3e-89cc-482f-96d5-0905c0ce8b83.a388ad8dea295358b01d2a20df47dc4f.jpeg']\n"
     ]
    },
    {
     "name": "stderr",
     "output_type": "stream",
     "text": [
      "  9%|▉         | 90/1000 [05:05<43:14,  2.85s/it]"
     ]
    },
    {
     "name": "stdout",
     "output_type": "stream",
     "text": [
      "Failed on row 422458903: list index out of range\n",
      "['https://i5.walmartimages.com/seo/EDX-10-Drawer-Dresser-Wide-Chest-Of-Drawers-Nightstand-Storage-Tower-Dresser-Fabric-With-Wood-Top-Living-Room-Bedroom-Hallway-Nursery-Grey_9de572df-11fb-4562-90b2-f88931563caa.45b9b60960784f7daea7d8e5c65347b6.jpeg']\n"
     ]
    },
    {
     "name": "stderr",
     "output_type": "stream",
     "text": [
      "  9%|▉         | 91/1000 [05:10<55:40,  3.67s/it]"
     ]
    },
    {
     "name": "stdout",
     "output_type": "stream",
     "text": [
      "['https://i5.walmartimages.com/seo/Vanity-Fair-Womens-Beauty-Back-Minimizer-Bra-Style-76-080_0c4fb2cf-a22d-4496-9495-e75d476f8466.956c1066960c5decff18aa28596db47c.jpeg']\n"
     ]
    },
    {
     "name": "stderr",
     "output_type": "stream",
     "text": [
      "  9%|▉         | 92/1000 [05:12<43:59,  2.91s/it]"
     ]
    },
    {
     "name": "stdout",
     "output_type": "stream",
     "text": [
      "['https://i5.walmartimages.com/asr/615e6ce3-68cd-466b-b53f-323792898479.227b7ca15cbaa67e91d1053ef00d5210.jpeg']\n"
     ]
    },
    {
     "name": "stderr",
     "output_type": "stream",
     "text": [
      "  9%|▉         | 93/1000 [05:14<41:40,  2.76s/it]"
     ]
    },
    {
     "name": "stdout",
     "output_type": "stream",
     "text": [
      "['https://i5.walmartimages.com/seo/Mellanni-Bedspread-Coverlet-Set-Light-Gray-Reversible-Bedding-Cover-Oversized-Quilt-Set-2-Piece-Twin-Twin-XL-Light-Gray_cab2e82e-b934-4009-9c07-d37bf9db88cb.58b8ef23edf0ae5386bcef15f2bd12d8.jpeg']\n"
     ]
    },
    {
     "name": "stderr",
     "output_type": "stream",
     "text": [
      "  9%|▉         | 94/1000 [05:16<39:55,  2.64s/it]"
     ]
    },
    {
     "name": "stdout",
     "output_type": "stream",
     "text": [
      "Failed on row 247655086: list index out of range\n",
      "['https://i5.walmartimages.com/seo/ChainsHouse-Snake-Ring-Women-Men-Stainless-Steel-Retro-Punk-Gothic-Jewelry-Antique-Octopus-Serpent-Reptile-Rings-Holiday-Party-Gift-Size-7-14-Box_e7380b18-610e-427e-b606-f9987ce5265e.35b74a44e23f07ba68f67e22ca7d65be.jpeg']\n"
     ]
    },
    {
     "name": "stderr",
     "output_type": "stream",
     "text": [
      " 10%|▉         | 95/1000 [05:17<31:55,  2.12s/it]"
     ]
    },
    {
     "name": "stdout",
     "output_type": "stream",
     "text": [
      "['https://i5.walmartimages.com/seo/Women-s-Knee-length-Color-Block-Dress-with-Pockets_dc9f7ca9-097c-4969-b6d3-25ca18490e3d.9d31006565856ed957b05abca656b24b.jpeg']\n"
     ]
    },
    {
     "name": "stderr",
     "output_type": "stream",
     "text": [
      " 10%|▉         | 96/1000 [05:20<33:41,  2.24s/it]"
     ]
    },
    {
     "name": "stdout",
     "output_type": "stream",
     "text": [
      "['https://i5.walmartimages.com/seo/Amay-800TC-Organic-Cotton-Queen-Size-Fitted-Sheet-60X80-Fits-Mattress-Upto-12-15-inches-Gold-Solid_e6aff303-0370-414d-ac43-41c4cc79161d.b57d22381caef3cac58571230668c300.jpeg']\n"
     ]
    },
    {
     "name": "stderr",
     "output_type": "stream",
     "text": [
      " 10%|▉         | 97/1000 [05:21<30:47,  2.05s/it]"
     ]
    },
    {
     "name": "stdout",
     "output_type": "stream",
     "text": [
      "['https://i5.walmartimages.com/seo/Amay-Blackout-Grommet-Curtain-Panel-Beige-42-Inch-Wide-by-108-Inch-Long-1Panel_493092cf-3981-4557-b425-a758672d7968.f102b92a14aa313434a322fcd583c216.jpeg']\n"
     ]
    },
    {
     "name": "stderr",
     "output_type": "stream",
     "text": [
      " 10%|▉         | 98/1000 [05:23<30:16,  2.01s/it]"
     ]
    },
    {
     "name": "stdout",
     "output_type": "stream",
     "text": [
      "['https://i5.walmartimages.com/seo/Carve-Designs-Carson-Jean-Womens-Favorite-Fade-8_7b9142b5-a1ab-4920-a69d-1ca8f2ef5cf3.70b8afdf52f0b6b0b1eb79c52c55e101.jpeg']\n"
     ]
    },
    {
     "name": "stderr",
     "output_type": "stream",
     "text": [
      " 10%|▉         | 99/1000 [05:25<29:30,  1.96s/it]"
     ]
    },
    {
     "name": "stdout",
     "output_type": "stream",
     "text": [
      "['https://i5.walmartimages.com/seo/LifeStride-Womens-Impact-Ballet-Flats-Various-Widths-Available_3ea03789-47dd-4eea-8009-558d163352f4.e481979bf1ed25603b984c9c348ce54a.jpeg']\n"
     ]
    },
    {
     "name": "stderr",
     "output_type": "stream",
     "text": [
      " 10%|█         | 100/1000 [05:28<32:03,  2.14s/it]"
     ]
    },
    {
     "name": "stdout",
     "output_type": "stream",
     "text": [
      "['https://i5.walmartimages.com/seo/Cocokind-Vitamin-C-Serum-Glow-Facial-Serum-Hydrating-Brightening-with-Hyaluronic-Acid-1-Oz_2e37617e-2380-4de4-a069-907308fea37d.893c85e8d167696b29a44f012f4966c5.jpeg']\n"
     ]
    },
    {
     "name": "stderr",
     "output_type": "stream",
     "text": [
      " 10%|█         | 101/1000 [05:35<56:34,  3.78s/it]"
     ]
    },
    {
     "name": "stdout",
     "output_type": "stream",
     "text": [
      "['https://i5.walmartimages.com/seo/NINA-NEW-YORK-Womens-Silver-Goring-Embellished-Nadette-Round-Toe-Wedge-Slip-On-Dress-Sandals-Shoes-5-5-M_6fbca8ed-90fc-41ea-a9dd-a7a223f2d2ba.f566d185c91457f7b67ea0a26be0ed86.jpeg']\n"
     ]
    },
    {
     "name": "stderr",
     "output_type": "stream",
     "text": [
      " 10%|█         | 101/1000 [05:37<50:02,  3.34s/it]\n"
     ]
    },
    {
     "ename": "KeyboardInterrupt",
     "evalue": "",
     "output_type": "error",
     "traceback": [
      "\u001b[31m---------------------------------------------------------------------------\u001b[39m",
      "\u001b[31mKeyboardInterrupt\u001b[39m                         Traceback (most recent call last)",
      "\u001b[36mCell\u001b[39m\u001b[36m \u001b[39m\u001b[32mIn[76]\u001b[39m\u001b[32m, line 43\u001b[39m\n\u001b[32m     41\u001b[39m \u001b[38;5;66;03m# === Get Embedding from Cohere ===\u001b[39;00m\n\u001b[32m     42\u001b[39m \u001b[38;5;28mprint\u001b[39m([main_image[\u001b[32m1\u001b[39m:-\u001b[32m1\u001b[39m]])\n\u001b[32m---> \u001b[39m\u001b[32m43\u001b[39m response = \u001b[43mco\u001b[49m\u001b[43m.\u001b[49m\u001b[43mv2\u001b[49m\u001b[43m.\u001b[49m\u001b[43membed\u001b[49m\u001b[43m(\u001b[49m\n\u001b[32m     44\u001b[39m \u001b[43m    \u001b[49m\u001b[43minputs\u001b[49m\u001b[43m=\u001b[49m\u001b[43m[\u001b[49m\u001b[38;5;28;43minput\u001b[39;49m\u001b[43m]\u001b[49m\u001b[43m,\u001b[49m\n\u001b[32m     45\u001b[39m \u001b[43m    \u001b[49m\u001b[43mmodel\u001b[49m\u001b[43m=\u001b[49m\u001b[43mEMBED_MODEL\u001b[49m\u001b[43m,\u001b[49m\n\u001b[32m     46\u001b[39m \u001b[43m    \u001b[49m\u001b[43moutput_dimension\u001b[49m\u001b[43m=\u001b[49m\u001b[32;43m1024\u001b[39;49m\u001b[43m,\u001b[49m\n\u001b[32m     47\u001b[39m \u001b[43m    \u001b[49m\u001b[43minput_type\u001b[49m\u001b[43m=\u001b[49m\u001b[33;43m\"\u001b[39;49m\u001b[33;43msearch_document\u001b[39;49m\u001b[33;43m\"\u001b[39;49m\u001b[43m,\u001b[49m\u001b[43m  \u001b[49m\u001b[38;5;66;43;03m# use \"search_query\" when embedding queries\u001b[39;49;00m\n\u001b[32m     48\u001b[39m \u001b[43m    \u001b[49m\u001b[43membedding_types\u001b[49m\u001b[43m=\u001b[49m\u001b[43m[\u001b[49m\u001b[33;43m\"\u001b[39;49m\u001b[33;43mfloat\u001b[39;49m\u001b[33;43m\"\u001b[39;49m\u001b[43m]\u001b[49m\u001b[43m  \u001b[49m\u001b[38;5;66;43;03m# specify embedding type\u001b[39;49;00m\n\u001b[32m     49\u001b[39m \u001b[43m\u001b[49m\u001b[43m)\u001b[49m\n\u001b[32m     50\u001b[39m image_vector = response.embeddings.float[\u001b[32m0\u001b[39m]\n\u001b[32m     53\u001b[39m \u001b[38;5;66;03m# === Upsert to Pinecone ===\u001b[39;00m\n",
      "\u001b[36mFile \u001b[39m\u001b[32m/Library/Frameworks/Python.framework/Versions/3.13/lib/python3.13/site-packages/cohere/v2/client.py:818\u001b[39m, in \u001b[36mV2Client.embed\u001b[39m\u001b[34m(self, model, input_type, embedding_types, texts, images, inputs, max_tokens, output_dimension, truncate, request_options)\u001b[39m\n\u001b[32m    721\u001b[39m \u001b[38;5;28;01mdef\u001b[39;00m\u001b[38;5;250m \u001b[39m\u001b[34membed\u001b[39m(\n\u001b[32m    722\u001b[39m     \u001b[38;5;28mself\u001b[39m,\n\u001b[32m    723\u001b[39m     *,\n\u001b[32m   (...)\u001b[39m\u001b[32m    733\u001b[39m     request_options: typing.Optional[RequestOptions] = \u001b[38;5;28;01mNone\u001b[39;00m,\n\u001b[32m    734\u001b[39m ) -> EmbedByTypeResponse:\n\u001b[32m    735\u001b[39m \u001b[38;5;250m    \u001b[39m\u001b[33;03m\"\"\"\u001b[39;00m\n\u001b[32m    736\u001b[39m \u001b[33;03m    This endpoint returns text embeddings. An embedding is a list of floating point numbers that captures semantic information about the text that it represents.\u001b[39;00m\n\u001b[32m    737\u001b[39m \n\u001b[32m   (...)\u001b[39m\u001b[32m    816\u001b[39m \u001b[33;03m    )\u001b[39;00m\n\u001b[32m    817\u001b[39m \u001b[33;03m    \"\"\"\u001b[39;00m\n\u001b[32m--> \u001b[39m\u001b[32m818\u001b[39m     _response = \u001b[38;5;28;43mself\u001b[39;49m\u001b[43m.\u001b[49m\u001b[43m_client_wrapper\u001b[49m\u001b[43m.\u001b[49m\u001b[43mhttpx_client\u001b[49m\u001b[43m.\u001b[49m\u001b[43mrequest\u001b[49m\u001b[43m(\u001b[49m\n\u001b[32m    819\u001b[39m \u001b[43m        \u001b[49m\u001b[33;43m\"\u001b[39;49m\u001b[33;43mv2/embed\u001b[39;49m\u001b[33;43m\"\u001b[39;49m\u001b[43m,\u001b[49m\n\u001b[32m    820\u001b[39m \u001b[43m        \u001b[49m\u001b[43mmethod\u001b[49m\u001b[43m=\u001b[49m\u001b[33;43m\"\u001b[39;49m\u001b[33;43mPOST\u001b[39;49m\u001b[33;43m\"\u001b[39;49m\u001b[43m,\u001b[49m\n\u001b[32m    821\u001b[39m \u001b[43m        \u001b[49m\u001b[43mjson\u001b[49m\u001b[43m=\u001b[49m\u001b[43m{\u001b[49m\n\u001b[32m    822\u001b[39m \u001b[43m            \u001b[49m\u001b[33;43m\"\u001b[39;49m\u001b[33;43mtexts\u001b[39;49m\u001b[33;43m\"\u001b[39;49m\u001b[43m:\u001b[49m\u001b[43m \u001b[49m\u001b[43mtexts\u001b[49m\u001b[43m,\u001b[49m\n\u001b[32m    823\u001b[39m \u001b[43m            \u001b[49m\u001b[33;43m\"\u001b[39;49m\u001b[33;43mimages\u001b[39;49m\u001b[33;43m\"\u001b[39;49m\u001b[43m:\u001b[49m\u001b[43m \u001b[49m\u001b[43mimages\u001b[49m\u001b[43m,\u001b[49m\n\u001b[32m    824\u001b[39m \u001b[43m            \u001b[49m\u001b[33;43m\"\u001b[39;49m\u001b[33;43mmodel\u001b[39;49m\u001b[33;43m\"\u001b[39;49m\u001b[43m:\u001b[49m\u001b[43m \u001b[49m\u001b[43mmodel\u001b[49m\u001b[43m,\u001b[49m\n\u001b[32m    825\u001b[39m \u001b[43m            \u001b[49m\u001b[33;43m\"\u001b[39;49m\u001b[33;43minput_type\u001b[39;49m\u001b[33;43m\"\u001b[39;49m\u001b[43m:\u001b[49m\u001b[43m \u001b[49m\u001b[43minput_type\u001b[49m\u001b[43m,\u001b[49m\n\u001b[32m    826\u001b[39m \u001b[43m            \u001b[49m\u001b[33;43m\"\u001b[39;49m\u001b[33;43minputs\u001b[39;49m\u001b[33;43m\"\u001b[39;49m\u001b[43m:\u001b[49m\u001b[43m \u001b[49m\u001b[43mconvert_and_respect_annotation_metadata\u001b[49m\u001b[43m(\u001b[49m\n\u001b[32m    827\u001b[39m \u001b[43m                \u001b[49m\u001b[43mobject_\u001b[49m\u001b[43m=\u001b[49m\u001b[43minputs\u001b[49m\u001b[43m,\u001b[49m\u001b[43m \u001b[49m\u001b[43mannotation\u001b[49m\u001b[43m=\u001b[49m\u001b[43mtyping\u001b[49m\u001b[43m.\u001b[49m\u001b[43mSequence\u001b[49m\u001b[43m[\u001b[49m\u001b[43mEmbedInput\u001b[49m\u001b[43m]\u001b[49m\u001b[43m,\u001b[49m\u001b[43m \u001b[49m\u001b[43mdirection\u001b[49m\u001b[43m=\u001b[49m\u001b[33;43m\"\u001b[39;49m\u001b[33;43mwrite\u001b[39;49m\u001b[33;43m\"\u001b[39;49m\n\u001b[32m    828\u001b[39m \u001b[43m            \u001b[49m\u001b[43m)\u001b[49m\u001b[43m,\u001b[49m\n\u001b[32m    829\u001b[39m \u001b[43m            \u001b[49m\u001b[33;43m\"\u001b[39;49m\u001b[33;43mmax_tokens\u001b[39;49m\u001b[33;43m\"\u001b[39;49m\u001b[43m:\u001b[49m\u001b[43m \u001b[49m\u001b[43mmax_tokens\u001b[49m\u001b[43m,\u001b[49m\n\u001b[32m    830\u001b[39m \u001b[43m            \u001b[49m\u001b[33;43m\"\u001b[39;49m\u001b[33;43moutput_dimension\u001b[39;49m\u001b[33;43m\"\u001b[39;49m\u001b[43m:\u001b[49m\u001b[43m \u001b[49m\u001b[43moutput_dimension\u001b[49m\u001b[43m,\u001b[49m\n\u001b[32m    831\u001b[39m \u001b[43m            \u001b[49m\u001b[33;43m\"\u001b[39;49m\u001b[33;43membedding_types\u001b[39;49m\u001b[33;43m\"\u001b[39;49m\u001b[43m:\u001b[49m\u001b[43m \u001b[49m\u001b[43membedding_types\u001b[49m\u001b[43m,\u001b[49m\n\u001b[32m    832\u001b[39m \u001b[43m            \u001b[49m\u001b[33;43m\"\u001b[39;49m\u001b[33;43mtruncate\u001b[39;49m\u001b[33;43m\"\u001b[39;49m\u001b[43m:\u001b[49m\u001b[43m \u001b[49m\u001b[43mtruncate\u001b[49m\u001b[43m,\u001b[49m\n\u001b[32m    833\u001b[39m \u001b[43m        \u001b[49m\u001b[43m}\u001b[49m\u001b[43m,\u001b[49m\n\u001b[32m    834\u001b[39m \u001b[43m        \u001b[49m\u001b[43mheaders\u001b[49m\u001b[43m=\u001b[49m\u001b[43m{\u001b[49m\n\u001b[32m    835\u001b[39m \u001b[43m            \u001b[49m\u001b[33;43m\"\u001b[39;49m\u001b[33;43mcontent-type\u001b[39;49m\u001b[33;43m\"\u001b[39;49m\u001b[43m:\u001b[49m\u001b[43m \u001b[49m\u001b[33;43m\"\u001b[39;49m\u001b[33;43mapplication/json\u001b[39;49m\u001b[33;43m\"\u001b[39;49m\u001b[43m,\u001b[49m\n\u001b[32m    836\u001b[39m \u001b[43m        \u001b[49m\u001b[43m}\u001b[49m\u001b[43m,\u001b[49m\n\u001b[32m    837\u001b[39m \u001b[43m        \u001b[49m\u001b[43mrequest_options\u001b[49m\u001b[43m=\u001b[49m\u001b[43mrequest_options\u001b[49m\u001b[43m,\u001b[49m\n\u001b[32m    838\u001b[39m \u001b[43m        \u001b[49m\u001b[43momit\u001b[49m\u001b[43m=\u001b[49m\u001b[43mOMIT\u001b[49m\u001b[43m,\u001b[49m\n\u001b[32m    839\u001b[39m \u001b[43m    \u001b[49m\u001b[43m)\u001b[49m\n\u001b[32m    840\u001b[39m     \u001b[38;5;28;01mtry\u001b[39;00m:\n\u001b[32m    841\u001b[39m         \u001b[38;5;28;01mif\u001b[39;00m \u001b[32m200\u001b[39m <= _response.status_code < \u001b[32m300\u001b[39m:\n",
      "\u001b[36mFile \u001b[39m\u001b[32m/Library/Frameworks/Python.framework/Versions/3.13/lib/python3.13/site-packages/cohere/core/http_client.py:198\u001b[39m, in \u001b[36mHttpClient.request\u001b[39m\u001b[34m(self, path, method, base_url, params, json, data, content, files, headers, request_options, retries, omit)\u001b[39m\n\u001b[32m    190\u001b[39m timeout = (\n\u001b[32m    191\u001b[39m     request_options.get(\u001b[33m\"\u001b[39m\u001b[33mtimeout_in_seconds\u001b[39m\u001b[33m\"\u001b[39m)\n\u001b[32m    192\u001b[39m     \u001b[38;5;28;01mif\u001b[39;00m request_options \u001b[38;5;129;01mis\u001b[39;00m \u001b[38;5;129;01mnot\u001b[39;00m \u001b[38;5;28;01mNone\u001b[39;00m \u001b[38;5;129;01mand\u001b[39;00m request_options.get(\u001b[33m\"\u001b[39m\u001b[33mtimeout_in_seconds\u001b[39m\u001b[33m\"\u001b[39m) \u001b[38;5;129;01mis\u001b[39;00m \u001b[38;5;129;01mnot\u001b[39;00m \u001b[38;5;28;01mNone\u001b[39;00m\n\u001b[32m    193\u001b[39m     \u001b[38;5;28;01melse\u001b[39;00m \u001b[38;5;28mself\u001b[39m.base_timeout()\n\u001b[32m    194\u001b[39m )\n\u001b[32m    196\u001b[39m json_body, data_body = get_request_body(json=json, data=data, request_options=request_options, omit=omit)\n\u001b[32m--> \u001b[39m\u001b[32m198\u001b[39m response = \u001b[38;5;28;43mself\u001b[39;49m\u001b[43m.\u001b[49m\u001b[43mhttpx_client\u001b[49m\u001b[43m.\u001b[49m\u001b[43mrequest\u001b[49m\u001b[43m(\u001b[49m\n\u001b[32m    199\u001b[39m \u001b[43m    \u001b[49m\u001b[43mmethod\u001b[49m\u001b[43m=\u001b[49m\u001b[43mmethod\u001b[49m\u001b[43m,\u001b[49m\n\u001b[32m    200\u001b[39m \u001b[43m    \u001b[49m\u001b[43murl\u001b[49m\u001b[43m=\u001b[49m\u001b[43murllib\u001b[49m\u001b[43m.\u001b[49m\u001b[43mparse\u001b[49m\u001b[43m.\u001b[49m\u001b[43murljoin\u001b[49m\u001b[43m(\u001b[49m\u001b[33;43mf\u001b[39;49m\u001b[33;43m\"\u001b[39;49m\u001b[38;5;132;43;01m{\u001b[39;49;00m\u001b[43mbase_url\u001b[49m\u001b[38;5;132;43;01m}\u001b[39;49;00m\u001b[33;43m/\u001b[39;49m\u001b[33;43m\"\u001b[39;49m\u001b[43m,\u001b[49m\u001b[43m \u001b[49m\u001b[43mpath\u001b[49m\u001b[43m)\u001b[49m\u001b[43m,\u001b[49m\n\u001b[32m    201\u001b[39m \u001b[43m    \u001b[49m\u001b[43mheaders\u001b[49m\u001b[43m=\u001b[49m\u001b[43mjsonable_encoder\u001b[49m\u001b[43m(\u001b[49m\n\u001b[32m    202\u001b[39m \u001b[43m        \u001b[49m\u001b[43mremove_none_from_dict\u001b[49m\u001b[43m(\u001b[49m\n\u001b[32m    203\u001b[39m \u001b[43m            \u001b[49m\u001b[43m{\u001b[49m\n\u001b[32m    204\u001b[39m \u001b[43m                \u001b[49m\u001b[43m*\u001b[49m\u001b[43m*\u001b[49m\u001b[38;5;28;43mself\u001b[39;49m\u001b[43m.\u001b[49m\u001b[43mbase_headers\u001b[49m\u001b[43m(\u001b[49m\u001b[43m)\u001b[49m\u001b[43m,\u001b[49m\n\u001b[32m    205\u001b[39m \u001b[43m                \u001b[49m\u001b[43m*\u001b[49m\u001b[43m*\u001b[49m\u001b[43m(\u001b[49m\u001b[43mheaders\u001b[49m\u001b[43m \u001b[49m\u001b[38;5;28;43;01mif\u001b[39;49;00m\u001b[43m \u001b[49m\u001b[43mheaders\u001b[49m\u001b[43m \u001b[49m\u001b[38;5;129;43;01mis\u001b[39;49;00m\u001b[43m \u001b[49m\u001b[38;5;129;43;01mnot\u001b[39;49;00m\u001b[43m \u001b[49m\u001b[38;5;28;43;01mNone\u001b[39;49;00m\u001b[43m \u001b[49m\u001b[38;5;28;43;01melse\u001b[39;49;00m\u001b[43m \u001b[49m\u001b[43m{\u001b[49m\u001b[43m}\u001b[49m\u001b[43m)\u001b[49m\u001b[43m,\u001b[49m\n\u001b[32m    206\u001b[39m \u001b[43m                \u001b[49m\u001b[43m*\u001b[49m\u001b[43m*\u001b[49m\u001b[43m(\u001b[49m\u001b[43mrequest_options\u001b[49m\u001b[43m.\u001b[49m\u001b[43mget\u001b[49m\u001b[43m(\u001b[49m\u001b[33;43m\"\u001b[39;49m\u001b[33;43madditional_headers\u001b[39;49m\u001b[33;43m\"\u001b[39;49m\u001b[43m,\u001b[49m\u001b[43m \u001b[49m\u001b[43m{\u001b[49m\u001b[43m}\u001b[49m\u001b[43m)\u001b[49m\u001b[43m \u001b[49m\u001b[38;5;129;43;01mor\u001b[39;49;00m\u001b[43m \u001b[49m\u001b[43m{\u001b[49m\u001b[43m}\u001b[49m\u001b[43m \u001b[49m\u001b[38;5;28;43;01mif\u001b[39;49;00m\u001b[43m \u001b[49m\u001b[43mrequest_options\u001b[49m\u001b[43m \u001b[49m\u001b[38;5;129;43;01mis\u001b[39;49;00m\u001b[43m \u001b[49m\u001b[38;5;129;43;01mnot\u001b[39;49;00m\u001b[43m \u001b[49m\u001b[38;5;28;43;01mNone\u001b[39;49;00m\u001b[43m \u001b[49m\u001b[38;5;28;43;01melse\u001b[39;49;00m\u001b[43m \u001b[49m\u001b[43m{\u001b[49m\u001b[43m}\u001b[49m\u001b[43m)\u001b[49m\u001b[43m,\u001b[49m\n\u001b[32m    207\u001b[39m \u001b[43m            \u001b[49m\u001b[43m}\u001b[49m\n\u001b[32m    208\u001b[39m \u001b[43m        \u001b[49m\u001b[43m)\u001b[49m\n\u001b[32m    209\u001b[39m \u001b[43m    \u001b[49m\u001b[43m)\u001b[49m\u001b[43m,\u001b[49m\n\u001b[32m    210\u001b[39m \u001b[43m    \u001b[49m\u001b[43mparams\u001b[49m\u001b[43m=\u001b[49m\u001b[43mencode_query\u001b[49m\u001b[43m(\u001b[49m\n\u001b[32m    211\u001b[39m \u001b[43m        \u001b[49m\u001b[43mjsonable_encoder\u001b[49m\u001b[43m(\u001b[49m\n\u001b[32m    212\u001b[39m \u001b[43m            \u001b[49m\u001b[43mremove_none_from_dict\u001b[49m\u001b[43m(\u001b[49m\n\u001b[32m    213\u001b[39m \u001b[43m                \u001b[49m\u001b[43mremove_omit_from_dict\u001b[49m\u001b[43m(\u001b[49m\n\u001b[32m    214\u001b[39m \u001b[43m                    \u001b[49m\u001b[43m{\u001b[49m\n\u001b[32m    215\u001b[39m \u001b[43m                        \u001b[49m\u001b[43m*\u001b[49m\u001b[43m*\u001b[49m\u001b[43m(\u001b[49m\u001b[43mparams\u001b[49m\u001b[43m \u001b[49m\u001b[38;5;28;43;01mif\u001b[39;49;00m\u001b[43m \u001b[49m\u001b[43mparams\u001b[49m\u001b[43m \u001b[49m\u001b[38;5;129;43;01mis\u001b[39;49;00m\u001b[43m \u001b[49m\u001b[38;5;129;43;01mnot\u001b[39;49;00m\u001b[43m \u001b[49m\u001b[38;5;28;43;01mNone\u001b[39;49;00m\u001b[43m \u001b[49m\u001b[38;5;28;43;01melse\u001b[39;49;00m\u001b[43m \u001b[49m\u001b[43m{\u001b[49m\u001b[43m}\u001b[49m\u001b[43m)\u001b[49m\u001b[43m,\u001b[49m\n\u001b[32m    216\u001b[39m \u001b[43m                        \u001b[49m\u001b[43m*\u001b[49m\u001b[43m*\u001b[49m\u001b[43m(\u001b[49m\n\u001b[32m    217\u001b[39m \u001b[43m                            \u001b[49m\u001b[43mrequest_options\u001b[49m\u001b[43m.\u001b[49m\u001b[43mget\u001b[49m\u001b[43m(\u001b[49m\u001b[33;43m\"\u001b[39;49m\u001b[33;43madditional_query_parameters\u001b[39;49m\u001b[33;43m\"\u001b[39;49m\u001b[43m,\u001b[49m\u001b[43m \u001b[49m\u001b[43m{\u001b[49m\u001b[43m}\u001b[49m\u001b[43m)\u001b[49m\u001b[43m \u001b[49m\u001b[38;5;129;43;01mor\u001b[39;49;00m\u001b[43m \u001b[49m\u001b[43m{\u001b[49m\u001b[43m}\u001b[49m\n\u001b[32m    218\u001b[39m \u001b[43m                            \u001b[49m\u001b[38;5;28;43;01mif\u001b[39;49;00m\u001b[43m \u001b[49m\u001b[43mrequest_options\u001b[49m\u001b[43m \u001b[49m\u001b[38;5;129;43;01mis\u001b[39;49;00m\u001b[43m \u001b[49m\u001b[38;5;129;43;01mnot\u001b[39;49;00m\u001b[43m \u001b[49m\u001b[38;5;28;43;01mNone\u001b[39;49;00m\n\u001b[32m    219\u001b[39m \u001b[43m                            \u001b[49m\u001b[38;5;28;43;01melse\u001b[39;49;00m\u001b[43m \u001b[49m\u001b[43m{\u001b[49m\u001b[43m}\u001b[49m\n\u001b[32m    220\u001b[39m \u001b[43m                        \u001b[49m\u001b[43m)\u001b[49m\u001b[43m,\u001b[49m\n\u001b[32m    221\u001b[39m \u001b[43m                    \u001b[49m\u001b[43m}\u001b[49m\u001b[43m,\u001b[49m\n\u001b[32m    222\u001b[39m \u001b[43m                    \u001b[49m\u001b[43momit\u001b[49m\u001b[43m,\u001b[49m\n\u001b[32m    223\u001b[39m \u001b[43m                \u001b[49m\u001b[43m)\u001b[49m\n\u001b[32m    224\u001b[39m \u001b[43m            \u001b[49m\u001b[43m)\u001b[49m\n\u001b[32m    225\u001b[39m \u001b[43m        \u001b[49m\u001b[43m)\u001b[49m\n\u001b[32m    226\u001b[39m \u001b[43m    \u001b[49m\u001b[43m)\u001b[49m\u001b[43m,\u001b[49m\n\u001b[32m    227\u001b[39m \u001b[43m    \u001b[49m\u001b[43mjson\u001b[49m\u001b[43m=\u001b[49m\u001b[43mjson_body\u001b[49m\u001b[43m,\u001b[49m\n\u001b[32m    228\u001b[39m \u001b[43m    \u001b[49m\u001b[43mdata\u001b[49m\u001b[43m=\u001b[49m\u001b[43mdata_body\u001b[49m\u001b[43m,\u001b[49m\n\u001b[32m    229\u001b[39m \u001b[43m    \u001b[49m\u001b[43mcontent\u001b[49m\u001b[43m=\u001b[49m\u001b[43mcontent\u001b[49m\u001b[43m,\u001b[49m\n\u001b[32m    230\u001b[39m \u001b[43m    \u001b[49m\u001b[43mfiles\u001b[49m\u001b[43m=\u001b[49m\u001b[43m(\u001b[49m\n\u001b[32m    231\u001b[39m \u001b[43m        \u001b[49m\u001b[43mconvert_file_dict_to_httpx_tuples\u001b[49m\u001b[43m(\u001b[49m\u001b[43mremove_omit_from_dict\u001b[49m\u001b[43m(\u001b[49m\u001b[43mremove_none_from_dict\u001b[49m\u001b[43m(\u001b[49m\u001b[43mfiles\u001b[49m\u001b[43m)\u001b[49m\u001b[43m,\u001b[49m\u001b[43m \u001b[49m\u001b[43momit\u001b[49m\u001b[43m)\u001b[49m\u001b[43m)\u001b[49m\n\u001b[32m    232\u001b[39m \u001b[43m        \u001b[49m\u001b[38;5;28;43;01mif\u001b[39;49;00m\u001b[43m \u001b[49m\u001b[43m(\u001b[49m\u001b[43mfiles\u001b[49m\u001b[43m \u001b[49m\u001b[38;5;129;43;01mis\u001b[39;49;00m\u001b[43m \u001b[49m\u001b[38;5;129;43;01mnot\u001b[39;49;00m\u001b[43m \u001b[49m\u001b[38;5;28;43;01mNone\u001b[39;49;00m\u001b[43m \u001b[49m\u001b[38;5;129;43;01mand\u001b[39;49;00m\u001b[43m \u001b[49m\u001b[43mfiles\u001b[49m\u001b[43m \u001b[49m\u001b[38;5;129;43;01mis\u001b[39;49;00m\u001b[43m \u001b[49m\u001b[38;5;129;43;01mnot\u001b[39;49;00m\u001b[43m \u001b[49m\u001b[43momit\u001b[49m\u001b[43m)\u001b[49m\n\u001b[32m    233\u001b[39m \u001b[43m        \u001b[49m\u001b[38;5;28;43;01melse\u001b[39;49;00m\u001b[43m \u001b[49m\u001b[38;5;28;43;01mNone\u001b[39;49;00m\n\u001b[32m    234\u001b[39m \u001b[43m    \u001b[49m\u001b[43m)\u001b[49m\u001b[43m,\u001b[49m\n\u001b[32m    235\u001b[39m \u001b[43m    \u001b[49m\u001b[43mtimeout\u001b[49m\u001b[43m=\u001b[49m\u001b[43mtimeout\u001b[49m\u001b[43m,\u001b[49m\n\u001b[32m    236\u001b[39m \u001b[43m\u001b[49m\u001b[43m)\u001b[49m\n\u001b[32m    238\u001b[39m max_retries: \u001b[38;5;28mint\u001b[39m = request_options.get(\u001b[33m\"\u001b[39m\u001b[33mmax_retries\u001b[39m\u001b[33m\"\u001b[39m, \u001b[32m0\u001b[39m) \u001b[38;5;28;01mif\u001b[39;00m request_options \u001b[38;5;129;01mis\u001b[39;00m \u001b[38;5;129;01mnot\u001b[39;00m \u001b[38;5;28;01mNone\u001b[39;00m \u001b[38;5;28;01melse\u001b[39;00m \u001b[32m0\u001b[39m\n\u001b[32m    239\u001b[39m \u001b[38;5;28;01mif\u001b[39;00m _should_retry(response=response):\n",
      "\u001b[36mFile \u001b[39m\u001b[32m/Library/Frameworks/Python.framework/Versions/3.13/lib/python3.13/site-packages/httpx/_client.py:825\u001b[39m, in \u001b[36mClient.request\u001b[39m\u001b[34m(self, method, url, content, data, files, json, params, headers, cookies, auth, follow_redirects, timeout, extensions)\u001b[39m\n\u001b[32m    810\u001b[39m     warnings.warn(message, \u001b[38;5;167;01mDeprecationWarning\u001b[39;00m, stacklevel=\u001b[32m2\u001b[39m)\n\u001b[32m    812\u001b[39m request = \u001b[38;5;28mself\u001b[39m.build_request(\n\u001b[32m    813\u001b[39m     method=method,\n\u001b[32m    814\u001b[39m     url=url,\n\u001b[32m   (...)\u001b[39m\u001b[32m    823\u001b[39m     extensions=extensions,\n\u001b[32m    824\u001b[39m )\n\u001b[32m--> \u001b[39m\u001b[32m825\u001b[39m \u001b[38;5;28;01mreturn\u001b[39;00m \u001b[38;5;28;43mself\u001b[39;49m\u001b[43m.\u001b[49m\u001b[43msend\u001b[49m\u001b[43m(\u001b[49m\u001b[43mrequest\u001b[49m\u001b[43m,\u001b[49m\u001b[43m \u001b[49m\u001b[43mauth\u001b[49m\u001b[43m=\u001b[49m\u001b[43mauth\u001b[49m\u001b[43m,\u001b[49m\u001b[43m \u001b[49m\u001b[43mfollow_redirects\u001b[49m\u001b[43m=\u001b[49m\u001b[43mfollow_redirects\u001b[49m\u001b[43m)\u001b[49m\n",
      "\u001b[36mFile \u001b[39m\u001b[32m/Library/Frameworks/Python.framework/Versions/3.13/lib/python3.13/site-packages/httpx/_client.py:914\u001b[39m, in \u001b[36mClient.send\u001b[39m\u001b[34m(self, request, stream, auth, follow_redirects)\u001b[39m\n\u001b[32m    910\u001b[39m \u001b[38;5;28mself\u001b[39m._set_timeout(request)\n\u001b[32m    912\u001b[39m auth = \u001b[38;5;28mself\u001b[39m._build_request_auth(request, auth)\n\u001b[32m--> \u001b[39m\u001b[32m914\u001b[39m response = \u001b[38;5;28;43mself\u001b[39;49m\u001b[43m.\u001b[49m\u001b[43m_send_handling_auth\u001b[49m\u001b[43m(\u001b[49m\n\u001b[32m    915\u001b[39m \u001b[43m    \u001b[49m\u001b[43mrequest\u001b[49m\u001b[43m,\u001b[49m\n\u001b[32m    916\u001b[39m \u001b[43m    \u001b[49m\u001b[43mauth\u001b[49m\u001b[43m=\u001b[49m\u001b[43mauth\u001b[49m\u001b[43m,\u001b[49m\n\u001b[32m    917\u001b[39m \u001b[43m    \u001b[49m\u001b[43mfollow_redirects\u001b[49m\u001b[43m=\u001b[49m\u001b[43mfollow_redirects\u001b[49m\u001b[43m,\u001b[49m\n\u001b[32m    918\u001b[39m \u001b[43m    \u001b[49m\u001b[43mhistory\u001b[49m\u001b[43m=\u001b[49m\u001b[43m[\u001b[49m\u001b[43m]\u001b[49m\u001b[43m,\u001b[49m\n\u001b[32m    919\u001b[39m \u001b[43m\u001b[49m\u001b[43m)\u001b[49m\n\u001b[32m    920\u001b[39m \u001b[38;5;28;01mtry\u001b[39;00m:\n\u001b[32m    921\u001b[39m     \u001b[38;5;28;01mif\u001b[39;00m \u001b[38;5;129;01mnot\u001b[39;00m stream:\n",
      "\u001b[36mFile \u001b[39m\u001b[32m/Library/Frameworks/Python.framework/Versions/3.13/lib/python3.13/site-packages/httpx/_client.py:942\u001b[39m, in \u001b[36mClient._send_handling_auth\u001b[39m\u001b[34m(self, request, auth, follow_redirects, history)\u001b[39m\n\u001b[32m    939\u001b[39m request = \u001b[38;5;28mnext\u001b[39m(auth_flow)\n\u001b[32m    941\u001b[39m \u001b[38;5;28;01mwhile\u001b[39;00m \u001b[38;5;28;01mTrue\u001b[39;00m:\n\u001b[32m--> \u001b[39m\u001b[32m942\u001b[39m     response = \u001b[38;5;28;43mself\u001b[39;49m\u001b[43m.\u001b[49m\u001b[43m_send_handling_redirects\u001b[49m\u001b[43m(\u001b[49m\n\u001b[32m    943\u001b[39m \u001b[43m        \u001b[49m\u001b[43mrequest\u001b[49m\u001b[43m,\u001b[49m\n\u001b[32m    944\u001b[39m \u001b[43m        \u001b[49m\u001b[43mfollow_redirects\u001b[49m\u001b[43m=\u001b[49m\u001b[43mfollow_redirects\u001b[49m\u001b[43m,\u001b[49m\n\u001b[32m    945\u001b[39m \u001b[43m        \u001b[49m\u001b[43mhistory\u001b[49m\u001b[43m=\u001b[49m\u001b[43mhistory\u001b[49m\u001b[43m,\u001b[49m\n\u001b[32m    946\u001b[39m \u001b[43m    \u001b[49m\u001b[43m)\u001b[49m\n\u001b[32m    947\u001b[39m     \u001b[38;5;28;01mtry\u001b[39;00m:\n\u001b[32m    948\u001b[39m         \u001b[38;5;28;01mtry\u001b[39;00m:\n",
      "\u001b[36mFile \u001b[39m\u001b[32m/Library/Frameworks/Python.framework/Versions/3.13/lib/python3.13/site-packages/httpx/_client.py:979\u001b[39m, in \u001b[36mClient._send_handling_redirects\u001b[39m\u001b[34m(self, request, follow_redirects, history)\u001b[39m\n\u001b[32m    976\u001b[39m \u001b[38;5;28;01mfor\u001b[39;00m hook \u001b[38;5;129;01min\u001b[39;00m \u001b[38;5;28mself\u001b[39m._event_hooks[\u001b[33m\"\u001b[39m\u001b[33mrequest\u001b[39m\u001b[33m\"\u001b[39m]:\n\u001b[32m    977\u001b[39m     hook(request)\n\u001b[32m--> \u001b[39m\u001b[32m979\u001b[39m response = \u001b[38;5;28;43mself\u001b[39;49m\u001b[43m.\u001b[49m\u001b[43m_send_single_request\u001b[49m\u001b[43m(\u001b[49m\u001b[43mrequest\u001b[49m\u001b[43m)\u001b[49m\n\u001b[32m    980\u001b[39m \u001b[38;5;28;01mtry\u001b[39;00m:\n\u001b[32m    981\u001b[39m     \u001b[38;5;28;01mfor\u001b[39;00m hook \u001b[38;5;129;01min\u001b[39;00m \u001b[38;5;28mself\u001b[39m._event_hooks[\u001b[33m\"\u001b[39m\u001b[33mresponse\u001b[39m\u001b[33m\"\u001b[39m]:\n",
      "\u001b[36mFile \u001b[39m\u001b[32m/Library/Frameworks/Python.framework/Versions/3.13/lib/python3.13/site-packages/httpx/_client.py:1014\u001b[39m, in \u001b[36mClient._send_single_request\u001b[39m\u001b[34m(self, request)\u001b[39m\n\u001b[32m   1009\u001b[39m     \u001b[38;5;28;01mraise\u001b[39;00m \u001b[38;5;167;01mRuntimeError\u001b[39;00m(\n\u001b[32m   1010\u001b[39m         \u001b[33m\"\u001b[39m\u001b[33mAttempted to send an async request with a sync Client instance.\u001b[39m\u001b[33m\"\u001b[39m\n\u001b[32m   1011\u001b[39m     )\n\u001b[32m   1013\u001b[39m \u001b[38;5;28;01mwith\u001b[39;00m request_context(request=request):\n\u001b[32m-> \u001b[39m\u001b[32m1014\u001b[39m     response = \u001b[43mtransport\u001b[49m\u001b[43m.\u001b[49m\u001b[43mhandle_request\u001b[49m\u001b[43m(\u001b[49m\u001b[43mrequest\u001b[49m\u001b[43m)\u001b[49m\n\u001b[32m   1016\u001b[39m \u001b[38;5;28;01massert\u001b[39;00m \u001b[38;5;28misinstance\u001b[39m(response.stream, SyncByteStream)\n\u001b[32m   1018\u001b[39m response.request = request\n",
      "\u001b[36mFile \u001b[39m\u001b[32m/Library/Frameworks/Python.framework/Versions/3.13/lib/python3.13/site-packages/httpx/_transports/default.py:250\u001b[39m, in \u001b[36mHTTPTransport.handle_request\u001b[39m\u001b[34m(self, request)\u001b[39m\n\u001b[32m    237\u001b[39m req = httpcore.Request(\n\u001b[32m    238\u001b[39m     method=request.method,\n\u001b[32m    239\u001b[39m     url=httpcore.URL(\n\u001b[32m   (...)\u001b[39m\u001b[32m    247\u001b[39m     extensions=request.extensions,\n\u001b[32m    248\u001b[39m )\n\u001b[32m    249\u001b[39m \u001b[38;5;28;01mwith\u001b[39;00m map_httpcore_exceptions():\n\u001b[32m--> \u001b[39m\u001b[32m250\u001b[39m     resp = \u001b[38;5;28;43mself\u001b[39;49m\u001b[43m.\u001b[49m\u001b[43m_pool\u001b[49m\u001b[43m.\u001b[49m\u001b[43mhandle_request\u001b[49m\u001b[43m(\u001b[49m\u001b[43mreq\u001b[49m\u001b[43m)\u001b[49m\n\u001b[32m    252\u001b[39m \u001b[38;5;28;01massert\u001b[39;00m \u001b[38;5;28misinstance\u001b[39m(resp.stream, typing.Iterable)\n\u001b[32m    254\u001b[39m \u001b[38;5;28;01mreturn\u001b[39;00m Response(\n\u001b[32m    255\u001b[39m     status_code=resp.status,\n\u001b[32m    256\u001b[39m     headers=resp.headers,\n\u001b[32m    257\u001b[39m     stream=ResponseStream(resp.stream),\n\u001b[32m    258\u001b[39m     extensions=resp.extensions,\n\u001b[32m    259\u001b[39m )\n",
      "\u001b[36mFile \u001b[39m\u001b[32m/Library/Frameworks/Python.framework/Versions/3.13/lib/python3.13/site-packages/httpcore/_sync/connection_pool.py:256\u001b[39m, in \u001b[36mConnectionPool.handle_request\u001b[39m\u001b[34m(self, request)\u001b[39m\n\u001b[32m    253\u001b[39m         closing = \u001b[38;5;28mself\u001b[39m._assign_requests_to_connections()\n\u001b[32m    255\u001b[39m     \u001b[38;5;28mself\u001b[39m._close_connections(closing)\n\u001b[32m--> \u001b[39m\u001b[32m256\u001b[39m     \u001b[38;5;28;01mraise\u001b[39;00m exc \u001b[38;5;28;01mfrom\u001b[39;00m\u001b[38;5;250m \u001b[39m\u001b[38;5;28;01mNone\u001b[39;00m\n\u001b[32m    258\u001b[39m \u001b[38;5;66;03m# Return the response. Note that in this case we still have to manage\u001b[39;00m\n\u001b[32m    259\u001b[39m \u001b[38;5;66;03m# the point at which the response is closed.\u001b[39;00m\n\u001b[32m    260\u001b[39m \u001b[38;5;28;01massert\u001b[39;00m \u001b[38;5;28misinstance\u001b[39m(response.stream, typing.Iterable)\n",
      "\u001b[36mFile \u001b[39m\u001b[32m/Library/Frameworks/Python.framework/Versions/3.13/lib/python3.13/site-packages/httpcore/_sync/connection_pool.py:236\u001b[39m, in \u001b[36mConnectionPool.handle_request\u001b[39m\u001b[34m(self, request)\u001b[39m\n\u001b[32m    232\u001b[39m connection = pool_request.wait_for_connection(timeout=timeout)\n\u001b[32m    234\u001b[39m \u001b[38;5;28;01mtry\u001b[39;00m:\n\u001b[32m    235\u001b[39m     \u001b[38;5;66;03m# Send the request on the assigned connection.\u001b[39;00m\n\u001b[32m--> \u001b[39m\u001b[32m236\u001b[39m     response = \u001b[43mconnection\u001b[49m\u001b[43m.\u001b[49m\u001b[43mhandle_request\u001b[49m\u001b[43m(\u001b[49m\n\u001b[32m    237\u001b[39m \u001b[43m        \u001b[49m\u001b[43mpool_request\u001b[49m\u001b[43m.\u001b[49m\u001b[43mrequest\u001b[49m\n\u001b[32m    238\u001b[39m \u001b[43m    \u001b[49m\u001b[43m)\u001b[49m\n\u001b[32m    239\u001b[39m \u001b[38;5;28;01mexcept\u001b[39;00m ConnectionNotAvailable:\n\u001b[32m    240\u001b[39m     \u001b[38;5;66;03m# In some cases a connection may initially be available to\u001b[39;00m\n\u001b[32m    241\u001b[39m     \u001b[38;5;66;03m# handle a request, but then become unavailable.\u001b[39;00m\n\u001b[32m    242\u001b[39m     \u001b[38;5;66;03m#\u001b[39;00m\n\u001b[32m    243\u001b[39m     \u001b[38;5;66;03m# In this case we clear the connection and try again.\u001b[39;00m\n\u001b[32m    244\u001b[39m     pool_request.clear_connection()\n",
      "\u001b[36mFile \u001b[39m\u001b[32m/Library/Frameworks/Python.framework/Versions/3.13/lib/python3.13/site-packages/httpcore/_sync/connection.py:103\u001b[39m, in \u001b[36mHTTPConnection.handle_request\u001b[39m\u001b[34m(self, request)\u001b[39m\n\u001b[32m    100\u001b[39m     \u001b[38;5;28mself\u001b[39m._connect_failed = \u001b[38;5;28;01mTrue\u001b[39;00m\n\u001b[32m    101\u001b[39m     \u001b[38;5;28;01mraise\u001b[39;00m exc\n\u001b[32m--> \u001b[39m\u001b[32m103\u001b[39m \u001b[38;5;28;01mreturn\u001b[39;00m \u001b[38;5;28;43mself\u001b[39;49m\u001b[43m.\u001b[49m\u001b[43m_connection\u001b[49m\u001b[43m.\u001b[49m\u001b[43mhandle_request\u001b[49m\u001b[43m(\u001b[49m\u001b[43mrequest\u001b[49m\u001b[43m)\u001b[49m\n",
      "\u001b[36mFile \u001b[39m\u001b[32m/Library/Frameworks/Python.framework/Versions/3.13/lib/python3.13/site-packages/httpcore/_sync/http11.py:136\u001b[39m, in \u001b[36mHTTP11Connection.handle_request\u001b[39m\u001b[34m(self, request)\u001b[39m\n\u001b[32m    134\u001b[39m     \u001b[38;5;28;01mwith\u001b[39;00m Trace(\u001b[33m\"\u001b[39m\u001b[33mresponse_closed\u001b[39m\u001b[33m\"\u001b[39m, logger, request) \u001b[38;5;28;01mas\u001b[39;00m trace:\n\u001b[32m    135\u001b[39m         \u001b[38;5;28mself\u001b[39m._response_closed()\n\u001b[32m--> \u001b[39m\u001b[32m136\u001b[39m \u001b[38;5;28;01mraise\u001b[39;00m exc\n",
      "\u001b[36mFile \u001b[39m\u001b[32m/Library/Frameworks/Python.framework/Versions/3.13/lib/python3.13/site-packages/httpcore/_sync/http11.py:106\u001b[39m, in \u001b[36mHTTP11Connection.handle_request\u001b[39m\u001b[34m(self, request)\u001b[39m\n\u001b[32m     95\u001b[39m     \u001b[38;5;28;01mpass\u001b[39;00m\n\u001b[32m     97\u001b[39m \u001b[38;5;28;01mwith\u001b[39;00m Trace(\n\u001b[32m     98\u001b[39m     \u001b[33m\"\u001b[39m\u001b[33mreceive_response_headers\u001b[39m\u001b[33m\"\u001b[39m, logger, request, kwargs\n\u001b[32m     99\u001b[39m ) \u001b[38;5;28;01mas\u001b[39;00m trace:\n\u001b[32m    100\u001b[39m     (\n\u001b[32m    101\u001b[39m         http_version,\n\u001b[32m    102\u001b[39m         status,\n\u001b[32m    103\u001b[39m         reason_phrase,\n\u001b[32m    104\u001b[39m         headers,\n\u001b[32m    105\u001b[39m         trailing_data,\n\u001b[32m--> \u001b[39m\u001b[32m106\u001b[39m     ) = \u001b[38;5;28;43mself\u001b[39;49m\u001b[43m.\u001b[49m\u001b[43m_receive_response_headers\u001b[49m\u001b[43m(\u001b[49m\u001b[43m*\u001b[49m\u001b[43m*\u001b[49m\u001b[43mkwargs\u001b[49m\u001b[43m)\u001b[49m\n\u001b[32m    107\u001b[39m     trace.return_value = (\n\u001b[32m    108\u001b[39m         http_version,\n\u001b[32m    109\u001b[39m         status,\n\u001b[32m    110\u001b[39m         reason_phrase,\n\u001b[32m    111\u001b[39m         headers,\n\u001b[32m    112\u001b[39m     )\n\u001b[32m    114\u001b[39m network_stream = \u001b[38;5;28mself\u001b[39m._network_stream\n",
      "\u001b[36mFile \u001b[39m\u001b[32m/Library/Frameworks/Python.framework/Versions/3.13/lib/python3.13/site-packages/httpcore/_sync/http11.py:177\u001b[39m, in \u001b[36mHTTP11Connection._receive_response_headers\u001b[39m\u001b[34m(self, request)\u001b[39m\n\u001b[32m    174\u001b[39m timeout = timeouts.get(\u001b[33m\"\u001b[39m\u001b[33mread\u001b[39m\u001b[33m\"\u001b[39m, \u001b[38;5;28;01mNone\u001b[39;00m)\n\u001b[32m    176\u001b[39m \u001b[38;5;28;01mwhile\u001b[39;00m \u001b[38;5;28;01mTrue\u001b[39;00m:\n\u001b[32m--> \u001b[39m\u001b[32m177\u001b[39m     event = \u001b[38;5;28;43mself\u001b[39;49m\u001b[43m.\u001b[49m\u001b[43m_receive_event\u001b[49m\u001b[43m(\u001b[49m\u001b[43mtimeout\u001b[49m\u001b[43m=\u001b[49m\u001b[43mtimeout\u001b[49m\u001b[43m)\u001b[49m\n\u001b[32m    178\u001b[39m     \u001b[38;5;28;01mif\u001b[39;00m \u001b[38;5;28misinstance\u001b[39m(event, h11.Response):\n\u001b[32m    179\u001b[39m         \u001b[38;5;28;01mbreak\u001b[39;00m\n",
      "\u001b[36mFile \u001b[39m\u001b[32m/Library/Frameworks/Python.framework/Versions/3.13/lib/python3.13/site-packages/httpcore/_sync/http11.py:217\u001b[39m, in \u001b[36mHTTP11Connection._receive_event\u001b[39m\u001b[34m(self, timeout)\u001b[39m\n\u001b[32m    214\u001b[39m     event = \u001b[38;5;28mself\u001b[39m._h11_state.next_event()\n\u001b[32m    216\u001b[39m \u001b[38;5;28;01mif\u001b[39;00m event \u001b[38;5;129;01mis\u001b[39;00m h11.NEED_DATA:\n\u001b[32m--> \u001b[39m\u001b[32m217\u001b[39m     data = \u001b[38;5;28;43mself\u001b[39;49m\u001b[43m.\u001b[49m\u001b[43m_network_stream\u001b[49m\u001b[43m.\u001b[49m\u001b[43mread\u001b[49m\u001b[43m(\u001b[49m\n\u001b[32m    218\u001b[39m \u001b[43m        \u001b[49m\u001b[38;5;28;43mself\u001b[39;49m\u001b[43m.\u001b[49m\u001b[43mREAD_NUM_BYTES\u001b[49m\u001b[43m,\u001b[49m\u001b[43m \u001b[49m\u001b[43mtimeout\u001b[49m\u001b[43m=\u001b[49m\u001b[43mtimeout\u001b[49m\n\u001b[32m    219\u001b[39m \u001b[43m    \u001b[49m\u001b[43m)\u001b[49m\n\u001b[32m    221\u001b[39m     \u001b[38;5;66;03m# If we feed this case through h11 we'll raise an exception like:\u001b[39;00m\n\u001b[32m    222\u001b[39m     \u001b[38;5;66;03m#\u001b[39;00m\n\u001b[32m    223\u001b[39m     \u001b[38;5;66;03m#     httpcore.RemoteProtocolError: can't handle event type\u001b[39;00m\n\u001b[32m   (...)\u001b[39m\u001b[32m    227\u001b[39m     \u001b[38;5;66;03m# perspective. Instead we handle this case distinctly and treat\u001b[39;00m\n\u001b[32m    228\u001b[39m     \u001b[38;5;66;03m# it as a ConnectError.\u001b[39;00m\n\u001b[32m    229\u001b[39m     \u001b[38;5;28;01mif\u001b[39;00m data == \u001b[33mb\u001b[39m\u001b[33m\"\u001b[39m\u001b[33m\"\u001b[39m \u001b[38;5;129;01mand\u001b[39;00m \u001b[38;5;28mself\u001b[39m._h11_state.their_state == h11.SEND_RESPONSE:\n",
      "\u001b[36mFile \u001b[39m\u001b[32m/Library/Frameworks/Python.framework/Versions/3.13/lib/python3.13/site-packages/httpcore/_backends/sync.py:128\u001b[39m, in \u001b[36mSyncStream.read\u001b[39m\u001b[34m(self, max_bytes, timeout)\u001b[39m\n\u001b[32m    126\u001b[39m \u001b[38;5;28;01mwith\u001b[39;00m map_exceptions(exc_map):\n\u001b[32m    127\u001b[39m     \u001b[38;5;28mself\u001b[39m._sock.settimeout(timeout)\n\u001b[32m--> \u001b[39m\u001b[32m128\u001b[39m     \u001b[38;5;28;01mreturn\u001b[39;00m \u001b[38;5;28;43mself\u001b[39;49m\u001b[43m.\u001b[49m\u001b[43m_sock\u001b[49m\u001b[43m.\u001b[49m\u001b[43mrecv\u001b[49m\u001b[43m(\u001b[49m\u001b[43mmax_bytes\u001b[49m\u001b[43m)\u001b[49m\n",
      "\u001b[36mFile \u001b[39m\u001b[32m/Library/Frameworks/Python.framework/Versions/3.13/lib/python3.13/ssl.py:1285\u001b[39m, in \u001b[36mSSLSocket.recv\u001b[39m\u001b[34m(self, buflen, flags)\u001b[39m\n\u001b[32m   1281\u001b[39m     \u001b[38;5;28;01mif\u001b[39;00m flags != \u001b[32m0\u001b[39m:\n\u001b[32m   1282\u001b[39m         \u001b[38;5;28;01mraise\u001b[39;00m \u001b[38;5;167;01mValueError\u001b[39;00m(\n\u001b[32m   1283\u001b[39m             \u001b[33m\"\u001b[39m\u001b[33mnon-zero flags not allowed in calls to recv() on \u001b[39m\u001b[38;5;132;01m%s\u001b[39;00m\u001b[33m\"\u001b[39m %\n\u001b[32m   1284\u001b[39m             \u001b[38;5;28mself\u001b[39m.\u001b[34m__class__\u001b[39m)\n\u001b[32m-> \u001b[39m\u001b[32m1285\u001b[39m     \u001b[38;5;28;01mreturn\u001b[39;00m \u001b[38;5;28;43mself\u001b[39;49m\u001b[43m.\u001b[49m\u001b[43mread\u001b[49m\u001b[43m(\u001b[49m\u001b[43mbuflen\u001b[49m\u001b[43m)\u001b[49m\n\u001b[32m   1286\u001b[39m \u001b[38;5;28;01melse\u001b[39;00m:\n\u001b[32m   1287\u001b[39m     \u001b[38;5;28;01mreturn\u001b[39;00m \u001b[38;5;28msuper\u001b[39m().recv(buflen, flags)\n",
      "\u001b[36mFile \u001b[39m\u001b[32m/Library/Frameworks/Python.framework/Versions/3.13/lib/python3.13/ssl.py:1140\u001b[39m, in \u001b[36mSSLSocket.read\u001b[39m\u001b[34m(self, len, buffer)\u001b[39m\n\u001b[32m   1138\u001b[39m         \u001b[38;5;28;01mreturn\u001b[39;00m \u001b[38;5;28mself\u001b[39m._sslobj.read(\u001b[38;5;28mlen\u001b[39m, buffer)\n\u001b[32m   1139\u001b[39m     \u001b[38;5;28;01melse\u001b[39;00m:\n\u001b[32m-> \u001b[39m\u001b[32m1140\u001b[39m         \u001b[38;5;28;01mreturn\u001b[39;00m \u001b[38;5;28;43mself\u001b[39;49m\u001b[43m.\u001b[49m\u001b[43m_sslobj\u001b[49m\u001b[43m.\u001b[49m\u001b[43mread\u001b[49m\u001b[43m(\u001b[49m\u001b[38;5;28;43mlen\u001b[39;49m\u001b[43m)\u001b[49m\n\u001b[32m   1141\u001b[39m \u001b[38;5;28;01mexcept\u001b[39;00m SSLError \u001b[38;5;28;01mas\u001b[39;00m x:\n\u001b[32m   1142\u001b[39m     \u001b[38;5;28;01mif\u001b[39;00m x.args[\u001b[32m0\u001b[39m] == SSL_ERROR_EOF \u001b[38;5;129;01mand\u001b[39;00m \u001b[38;5;28mself\u001b[39m.suppress_ragged_eofs:\n",
      "\u001b[31mKeyboardInterrupt\u001b[39m: "
     ]
    }
   ],
   "source": [
    "import cohere\n",
    "from PIL import Image\n",
    "from io import BytesIO\n",
    "import base64\n",
    "import requests\n",
    "\n",
    "df = pd.read_csv(\"walmart-products.csv\")\n",
    "\n",
    "def url_to_base64(image_url):\n",
    "    response = requests.get(image_url)\n",
    "    img = Image.open(BytesIO(response.content))\n",
    "    image_format = img.format.lower()\n",
    "    buffered = BytesIO()\n",
    "    img.save(buffered, format=img.format)\n",
    "    img_base64 = base64.b64encode(buffered.getvalue()).decode(\"utf-8\")\n",
    "    return f\"data:image/{image_format};base64,{img_base64}\"\n",
    "\n",
    "\n",
    "# for _, row in tqdm(df.iterrows(), total=len(df)):\n",
    "#     try:\n",
    "#         specs = json.loads(row['specifications']) if pd.notna(row['specifications']) else []\n",
    "#         spec_text = \" | \".join([f\"{s['name']}: {s['value']}\" for s in specs])\n",
    "\n",
    "#         review_data = json.loads(row['customer_reviews']) if pd.notna(row['customer_reviews']) else []\n",
    "#         review_text = \" | \".join([f\"{r.get('name', '')}: {r.get('review', '')}\" for r in review_data])\n",
    "#         other_attrs = row['other_attributes'] if pd.notna(row['other_attributes']) else \"\"\n",
    "#         sizes = row['sizes'] if pd.notna(row['sizes']) else \"\"\n",
    "#         main_image = row['main_image'] if pd.notna(row['main_image']) else \"\"\n",
    "\n",
    "        \n",
    "#         input = {\n",
    "#             \"content\": [\n",
    "#             {\"type\": \"image_url\", \"image_url\": {\"url\": url_to_base64(main_image[1:-1])}}\n",
    "#             ]\n",
    "#         }\n",
    "\n",
    "#         # === Get Embedding from Cohere ===\n",
    "#         response = co.v2.embed(\n",
    "#             inputs=[input],\n",
    "#             model=EMBED_MODEL,\n",
    "#             output_dimension=1024,\n",
    "#             input_type=\"search_document\",\n",
    "#             embedding_types=[\"float\"]  # specify embedding type\n",
    "#         )\n",
    "#         image_vector = response.embeddings.float[0]\n",
    "\n",
    "\n",
    "#         # === Upsert to Pinecone ===\n",
    "#         index.upsert([{\n",
    "#             \"id\": str(row[\"sku\"]),\n",
    "#             \"values\": image_vector,\n",
    "#             \"metadata\": {\n",
    "#                 \"url\": row[\"url\"],\n",
    "#                 \"price\": row[\"final_price\"],\n",
    "#                 \"brand\": [s[\"value\"] for s in specs if s[\"name\"].lower() == \"brand\"][0] if specs else None,\n",
    "#                 \"categories\": row[\"categories\"]\n",
    "#             }\n",
    "#         }])\n",
    "\n",
    "\n",
    "\n",
    "#     except Exception as e:\n",
    "#         print(f\"Failed on row {row['sku']}: {e}\")\n"
   ]
  },
  {
   "cell_type": "code",
   "execution_count": 16,
   "id": "4ff62567",
   "metadata": {},
   "outputs": [],
   "source": [
    "import pyperclip \n",
    "pyperclip.copy(vector)"
   ]
  },
  {
   "cell_type": "code",
   "execution_count": 14,
   "id": "22a63552",
   "metadata": {},
   "outputs": [],
   "source": [
    "response = co.v2.embed(\n",
    "        texts=[\"एक मेकअप आइटम जो मेरी त्वचा की दीर्घायु को बढ़ाएगा\"],\n",
    "        model=EMBED_MODEL,\n",
    "        output_dimension=1024,\n",
    "        input_type=\"search_document\",  # use \"search_query\" when embedding queries\n",
    "        embedding_types=[\"float\"]  # specify embedding type\n",
    "    )\n",
    "vector = response.embeddings.float[0]\n"
   ]
  },
  {
   "cell_type": "code",
   "execution_count": 18,
   "id": "b6712c8f",
   "metadata": {},
   "outputs": [],
   "source": [
    "results=index.query(\n",
    "    vector=vector,\n",
    "    top_k=5,\n",
    "    include_values=True,\n",
    "    include_metadata=True\n",
    ")"
   ]
  },
  {
   "cell_type": "code",
   "execution_count": 59,
   "id": "e2158249",
   "metadata": {},
   "outputs": [
    {
     "data": {
      "text/plain": [
       "[\n",
       "    {\n",
       "        \"name\": \"sparkathon-walmart\",\n",
       "        \"metric\": \"cosine\",\n",
       "        \"host\": \"sparkathon-walmart-qt6qhli.svc.aped-4627-b74a.pinecone.io\",\n",
       "        \"spec\": {\n",
       "            \"serverless\": {\n",
       "                \"cloud\": \"aws\",\n",
       "                \"region\": \"us-east-1\"\n",
       "            }\n",
       "        },\n",
       "        \"status\": {\n",
       "            \"ready\": true,\n",
       "            \"state\": \"Ready\"\n",
       "        },\n",
       "        \"vector_type\": \"dense\",\n",
       "        \"dimension\": 1024,\n",
       "        \"deletion_protection\": \"enabled\",\n",
       "        \"tags\": null\n",
       "    }\n",
       "]"
      ]
     },
     "execution_count": 59,
     "metadata": {},
     "output_type": "execute_result"
    }
   ],
   "source": [
    "pc.list_indexes()"
   ]
  },
  {
   "cell_type": "code",
   "execution_count": 19,
   "id": "456b69cf",
   "metadata": {},
   "outputs": [
    {
     "name": "stdout",
     "output_type": "stream",
     "text": [
      "ID: 3440558193\n",
      "Score: 0.2975403\n",
      "URL: https://www.walmart.com/ip/Cocokind-Vitamin-C-Serum-Glow-Facial-Serum-Hydrating-Brightening-with-Hyaluronic-Acid-1-Oz/3440558193\n",
      "----------------------------------------\n",
      "ID: 908232424\n",
      "Score: 0.27275896\n",
      "URL: https://www.walmart.com/ip/GrandeLash-MD-Serum-Lash-Enhancing-0-07-oz-3-Month-Suply/908232424\n",
      "----------------------------------------\n",
      "ID: 5062553620\n",
      "Score: 0.22299968\n",
      "URL: https://www.walmart.com/ip/SmartMouth-Original-Activated-Breath-Rinse-16-oz-Adult/5062553620\n",
      "----------------------------------------\n",
      "ID: 102593173\n",
      "Score: 0.20512384\n",
      "URL: https://www.walmart.com/ip/Hanes-Beefy-T-Unisex-Long-Sleeve-T-Shirt-2-Pack-Deep-Royal-S/102593173\n",
      "----------------------------------------\n",
      "ID: 179112912\n",
      "Score: 0.19541287\n",
      "URL: https://www.walmart.com/ip/Solaray-Food-Carotene-Vitamin-A-as-Beta-Carotene-25000IU-Carotenoids-for-Healthy-Skin-Eyes-Antioxidant-Activity-Immune-System-Support-200ct/179112912\n",
      "----------------------------------------\n"
     ]
    }
   ],
   "source": [
    "for match in results[\"matches\"]:\n",
    "    print(\"ID:\", match[\"id\"])\n",
    "    print(\"Score:\", match[\"score\"])\n",
    "    print(\"URL:\", match[\"metadata\"][\"url\"])\n",
    "    print(\"-\" * 40)"
   ]
  },
  {
   "cell_type": "code",
   "execution_count": 29,
   "id": "100afb08",
   "metadata": {},
   "outputs": [
    {
     "name": "stdout",
     "output_type": "stream",
     "text": [
      "<class 'str'>\n"
     ]
    }
   ],
   "source": [
    "print(type(results[\"matches\"][0][\"id\"]))"
   ]
  },
  {
   "cell_type": "code",
   "execution_count": 39,
   "id": "58b5be2c",
   "metadata": {},
   "outputs": [],
   "source": [
    "from PIL import Image\n",
    "from io import BytesIO\n",
    "import base64\n",
    "import requests\n",
    "\n",
    "def url_to_base64(image_url):\n",
    "    response = requests.get(image_url)\n",
    "    img = Image.open(BytesIO(response.content))\n",
    "    image_format = img.format.lower()\n",
    "    buffered = BytesIO()\n",
    "    img.save(buffered, format=img.format)\n",
    "    img_base64 = base64.b64encode(buffered.getvalue()).decode(\"utf-8\")\n",
    "    return f\"data:image/{image_format};base64,{img_base64}\"\n",
    "image_url = url_to_base64(\"https://i5.walmartimages.com/asr/615e6ce3-68cd-466b-b53f-323792898479.227b7ca15cbaa67e91d1053ef00d5210.jpeg\")"
   ]
  },
  {
   "cell_type": "code",
   "execution_count": 41,
   "id": "c17d1716",
   "metadata": {},
   "outputs": [],
   "source": [
    "response = co.v2.embed(\n",
    "            images=[image_url],\n",
    "            model=EMBED_MODEL,\n",
    "            output_dimension=1024,\n",
    "            input_type=\"search_document\",\n",
    "            embedding_types=[\"float\"]  # specify embedding type\n",
    "        )"
   ]
  },
  {
   "cell_type": "code",
   "execution_count": 46,
   "id": "bb02a120",
   "metadata": {},
   "outputs": [
    {
     "data": {
      "text/plain": [
       "[0.027709961,\n",
       " -0.028442383,\n",
       " 0.040527344,\n",
       " 0.009216309,\n",
       " -0.046875,\n",
       " -0.0065612793,\n",
       " -0.022949219,\n",
       " 0.041992188,\n",
       " -0.015625,\n",
       " -0.031982422,\n",
       " 0.025756836,\n",
       " 0.020507812,\n",
       " 0.013977051,\n",
       " -0.045410156,\n",
       " 0.046142578,\n",
       " -0.018432617,\n",
       " -0.008422852,\n",
       " 0.024291992,\n",
       " 0.016967773,\n",
       " 0.00340271,\n",
       " -0.010070801,\n",
       " 0.03125,\n",
       " 0.0064697266,\n",
       " -0.03515625,\n",
       " 0.052490234,\n",
       " -0.015625,\n",
       " 0.041503906,\n",
       " 0.03112793,\n",
       " -0.040527344,\n",
       " -0.03881836,\n",
       " -0.00680542,\n",
       " -0.013366699,\n",
       " 0.0234375,\n",
       " -0.026123047,\n",
       " -0.042236328,\n",
       " -0.017822266,\n",
       " 0.0064697266,\n",
       " -0.022216797,\n",
       " 0.023071289,\n",
       " -0.037353516,\n",
       " 0.029418945,\n",
       " -0.025390625,\n",
       " -0.018676758,\n",
       " -0.02758789,\n",
       " 0.017333984,\n",
       " -0.020507812,\n",
       " -0.017578125,\n",
       " -0.007873535,\n",
       " -0.010070801,\n",
       " -0.041748047,\n",
       " 0.048583984,\n",
       " 0.0077209473,\n",
       " -0.011779785,\n",
       " 0.064941406,\n",
       " 0.02709961,\n",
       " 0.029907227,\n",
       " 0.03955078,\n",
       " -0.014709473,\n",
       " -0.03173828,\n",
       " -0.02709961,\n",
       " -0.003112793,\n",
       " -0.087402344,\n",
       " 0.03173828,\n",
       " -0.028564453,\n",
       " 0.028930664,\n",
       " -0.020507812,\n",
       " 0.0099487305,\n",
       " -0.04272461,\n",
       " -0.068847656,\n",
       " -0.026611328,\n",
       " -0.009887695,\n",
       " 0.013793945,\n",
       " 0.02746582,\n",
       " 0.04272461,\n",
       " 0.039794922,\n",
       " -0.017211914,\n",
       " -0.04736328,\n",
       " 0.036376953,\n",
       " -0.022338867,\n",
       " -0.051757812,\n",
       " -0.008117676,\n",
       " -0.0025177002,\n",
       " -0.004638672,\n",
       " -0.036865234,\n",
       " 0.008361816,\n",
       " 0.015563965,\n",
       " 0.011169434,\n",
       " -0.009521484,\n",
       " -0.018432617,\n",
       " 0.015197754,\n",
       " -0.03466797,\n",
       " -0.005065918,\n",
       " -0.020019531,\n",
       " 0.009643555,\n",
       " 0.037353516,\n",
       " 0.010803223,\n",
       " -0.020751953,\n",
       " -0.017944336,\n",
       " -0.010070801,\n",
       " -0.002380371,\n",
       " 0.02368164,\n",
       " 0.014282227,\n",
       " 0.014770508,\n",
       " 0.003967285,\n",
       " -0.024291992,\n",
       " 0.050048828,\n",
       " -0.11767578,\n",
       " -0.049560547,\n",
       " 0.050048828,\n",
       " -0.03955078,\n",
       " -0.0070495605,\n",
       " 0.025390625,\n",
       " -0.024414062,\n",
       " 0.01586914,\n",
       " -0.013122559,\n",
       " 0.055419922,\n",
       " -0.028686523,\n",
       " 0.061279297,\n",
       " 0.021728516,\n",
       " 0.07128906,\n",
       " 0.025390625,\n",
       " -0.04345703,\n",
       " -0.029418945,\n",
       " 0.0027008057,\n",
       " -0.0055236816,\n",
       " 0.005645752,\n",
       " 0.03125,\n",
       " -0.051757812,\n",
       " 0.017089844,\n",
       " 0.005859375,\n",
       " 0.011047363,\n",
       " -0.009216309,\n",
       " 0.026245117,\n",
       " -0.037109375,\n",
       " -0.011962891,\n",
       " -0.017944336,\n",
       " 0.03173828,\n",
       " 0.06933594,\n",
       " -0.015625,\n",
       " 0.02355957,\n",
       " -0.0059814453,\n",
       " -0.005554199,\n",
       " 0.002029419,\n",
       " 0.0067749023,\n",
       " -0.024291992,\n",
       " -0.016967773,\n",
       " -0.017333984,\n",
       " 0.014099121,\n",
       " -0.05493164,\n",
       " 0.0095825195,\n",
       " 0.009765625,\n",
       " 0.028198242,\n",
       " -0.068359375,\n",
       " -0.046142578,\n",
       " -0.017822266,\n",
       " -0.03564453,\n",
       " -0.004333496,\n",
       " -0.03125,\n",
       " 0.008361816,\n",
       " 0.024902344,\n",
       " 0.0019683838,\n",
       " -0.019165039,\n",
       " -0.03857422,\n",
       " -0.001953125,\n",
       " 0.012023926,\n",
       " 0.018188477,\n",
       " -0.040039062,\n",
       " -0.006652832,\n",
       " -0.020996094,\n",
       " 0.0063476562,\n",
       " -0.005859375,\n",
       " 0.039794922,\n",
       " -0.016601562,\n",
       " -0.019042969,\n",
       " 0.010681152,\n",
       " 0.009521484,\n",
       " 0.011779785,\n",
       " 0.051513672,\n",
       " -0.0071411133,\n",
       " -0.011352539,\n",
       " -0.017944336,\n",
       " -0.048828125,\n",
       " -0.006134033,\n",
       " -0.004852295,\n",
       " -0.014282227,\n",
       " -0.017333984,\n",
       " -0.057128906,\n",
       " 0.033203125,\n",
       " -0.013977051,\n",
       " 0.01184082,\n",
       " 0.05053711,\n",
       " -0.022949219,\n",
       " 0.010681152,\n",
       " 0.026123047,\n",
       " -0.01373291,\n",
       " 0.0040893555,\n",
       " -0.05517578,\n",
       " -0.029907227,\n",
       " 0.01159668,\n",
       " 0.021850586,\n",
       " -0.041992188,\n",
       " -0.024902344,\n",
       " 0.017822266,\n",
       " -0.095703125,\n",
       " -0.045410156,\n",
       " -0.016967773,\n",
       " -0.026611328,\n",
       " -0.012878418,\n",
       " 0.004760742,\n",
       " 0.022949219,\n",
       " -0.033447266,\n",
       " -0.0033874512,\n",
       " 0.017333984,\n",
       " -0.013793945,\n",
       " 0.008911133,\n",
       " 0.037597656,\n",
       " 0.007232666,\n",
       " 0.011291504,\n",
       " -0.004333496,\n",
       " 0.012939453,\n",
       " 0.031982422,\n",
       " -0.044677734,\n",
       " -0.0003681183,\n",
       " 0.0703125,\n",
       " 0.00039482117,\n",
       " -0.020019531,\n",
       " -0.017822266,\n",
       " 0.006072998,\n",
       " -0.05444336,\n",
       " 0.029541016,\n",
       " -0.015991211,\n",
       " -0.0035858154,\n",
       " -0.072753906,\n",
       " -0.01159668,\n",
       " 0.04711914,\n",
       " 0.008422852,\n",
       " 0.005126953,\n",
       " 0.08642578,\n",
       " -0.037597656,\n",
       " -0.015991211,\n",
       " -0.040283203,\n",
       " -0.026245117,\n",
       " 0.010559082,\n",
       " 0.0025939941,\n",
       " 0.0115356445,\n",
       " 0.061279297,\n",
       " -0.010925293,\n",
       " 0.004333496,\n",
       " 0.010681152,\n",
       " 0.041992188,\n",
       " 0.032958984,\n",
       " 8.106232e-06,\n",
       " -0.04321289,\n",
       " -0.026245117,\n",
       " 0.028076172,\n",
       " 0.032470703,\n",
       " 0.022705078,\n",
       " 0.022583008,\n",
       " 0.029907227,\n",
       " -0.024047852,\n",
       " -0.025268555,\n",
       " 0.022949219,\n",
       " 0.0013656616,\n",
       " -0.008056641,\n",
       " 0.027709961,\n",
       " 0.030639648,\n",
       " -0.079589844,\n",
       " 0.012756348,\n",
       " 0.004058838,\n",
       " -0.060058594,\n",
       " -0.029785156,\n",
       " -0.041992188,\n",
       " 0.00289917,\n",
       " -0.032958984,\n",
       " -0.005432129,\n",
       " 0.044677734,\n",
       " 0.01586914,\n",
       " -0.0049743652,\n",
       " -0.008422852,\n",
       " 0.0051879883,\n",
       " -0.004547119,\n",
       " 0.010925293,\n",
       " 0.009216309,\n",
       " -0.015991211,\n",
       " -0.0015792847,\n",
       " -0.048583984,\n",
       " -0.0077819824,\n",
       " 0.00970459,\n",
       " 0.016601562,\n",
       " -0.04638672,\n",
       " -0.0009994507,\n",
       " 0.034423828,\n",
       " -0.0033569336,\n",
       " 0.0234375,\n",
       " 0.04638672,\n",
       " -0.035888672,\n",
       " 0.092285156,\n",
       " 0.068359375,\n",
       " -0.014282227,\n",
       " 0.018188477,\n",
       " -0.0024108887,\n",
       " 0.01586914,\n",
       " 0.01965332,\n",
       " -0.0061950684,\n",
       " 0.0016708374,\n",
       " 0.00592041,\n",
       " -0.060058594,\n",
       " 0.020263672,\n",
       " -0.03125,\n",
       " -0.034423828,\n",
       " 0.056396484,\n",
       " -0.0077819824,\n",
       " 0.003692627,\n",
       " 0.043701172,\n",
       " -0.007232666,\n",
       " 0.03955078,\n",
       " -0.056884766,\n",
       " 0.010009766,\n",
       " -0.02709961,\n",
       " -0.055419922,\n",
       " 0.009094238,\n",
       " -0.049560547,\n",
       " 0.06225586,\n",
       " -0.05883789,\n",
       " 0.011779785,\n",
       " 0.009460449,\n",
       " 0.0071411133,\n",
       " 0.03881836,\n",
       " 0.044433594,\n",
       " -0.025756836,\n",
       " 0.013549805,\n",
       " -0.059814453,\n",
       " -0.052246094,\n",
       " 0.06689453,\n",
       " -0.01940918,\n",
       " -0.025024414,\n",
       " -0.01940918,\n",
       " -0.016845703,\n",
       " 0.06933594,\n",
       " 0.04321289,\n",
       " 0.0027008057,\n",
       " 0.03173828,\n",
       " 0.092285156,\n",
       " -0.044189453,\n",
       " -0.061767578,\n",
       " 0.0010604858,\n",
       " -0.0234375,\n",
       " 0.017089844,\n",
       " -0.014953613,\n",
       " 0.018432617,\n",
       " -0.0043945312,\n",
       " -0.0043029785,\n",
       " 0.002532959,\n",
       " -0.018554688,\n",
       " 0.028198242,\n",
       " 0.04272461,\n",
       " -0.0390625,\n",
       " -0.02746582,\n",
       " 0.011108398,\n",
       " 0.050048828,\n",
       " -0.0032806396,\n",
       " 0.012390137,\n",
       " 0.056152344,\n",
       " -0.020751953,\n",
       " 0.064941406,\n",
       " 0.0138549805,\n",
       " -0.017822266,\n",
       " -0.0390625,\n",
       " -0.0017471313,\n",
       " -0.033447266,\n",
       " 0.01965332,\n",
       " -0.023925781,\n",
       " 0.04321289,\n",
       " 0.029418945,\n",
       " 0.028076172,\n",
       " 0.03930664,\n",
       " 0.012512207,\n",
       " -0.024291992,\n",
       " 0.017944336,\n",
       " -0.025878906,\n",
       " -0.020263672,\n",
       " -0.0067749023,\n",
       " 0.026733398,\n",
       " 0.016723633,\n",
       " 0.009216309,\n",
       " 0.01586914,\n",
       " 0.017089844,\n",
       " -0.024291992,\n",
       " 0.008300781,\n",
       " -0.009216309,\n",
       " 0.011779785,\n",
       " -0.00046539307,\n",
       " -0.028198242,\n",
       " -0.030029297,\n",
       " -0.055419922,\n",
       " 0.037841797,\n",
       " -0.052490234,\n",
       " 0.011474609,\n",
       " 0.017578125,\n",
       " 0.018432617,\n",
       " -0.03515625,\n",
       " 0.0047912598,\n",
       " 0.032958984,\n",
       " 0.045410156,\n",
       " 0.035888672,\n",
       " -0.038330078,\n",
       " -0.02722168,\n",
       " -0.032958984,\n",
       " 0.017578125,\n",
       " 0.04711914,\n",
       " 0.029907227,\n",
       " 0.0138549805,\n",
       " 0.010681152,\n",
       " -0.056884766,\n",
       " 0.013305664,\n",
       " 0.008605957,\n",
       " 0.036376953,\n",
       " 0.011169434,\n",
       " 0.036376953,\n",
       " -0.025268555,\n",
       " -0.013793945,\n",
       " 0.018188477,\n",
       " -0.0028381348,\n",
       " 0.027954102,\n",
       " 0.034423828,\n",
       " -0.034179688,\n",
       " -0.06640625,\n",
       " 0.0027313232,\n",
       " 0.037597656,\n",
       " -0.028198242,\n",
       " 0.02355957,\n",
       " 0.038330078,\n",
       " -0.025756836,\n",
       " -0.034423828,\n",
       " -0.00046730042,\n",
       " 0.026611328,\n",
       " -0.03112793,\n",
       " -0.024047852,\n",
       " 0.014709473,\n",
       " 0.019042969,\n",
       " -0.0126953125,\n",
       " -0.02746582,\n",
       " 0.030883789,\n",
       " 0.046875,\n",
       " -0.0004825592,\n",
       " -0.028930664,\n",
       " -0.041015625,\n",
       " 0.018554688,\n",
       " -0.0054016113,\n",
       " -0.022705078,\n",
       " -0.022583008,\n",
       " 0.017578125,\n",
       " 0.0057373047,\n",
       " -0.03112793,\n",
       " 0.018920898,\n",
       " -0.0004749298,\n",
       " -0.019165039,\n",
       " -0.021606445,\n",
       " -0.0625,\n",
       " 0.021606445,\n",
       " 0.008300781,\n",
       " 0.0034637451,\n",
       " -0.028198242,\n",
       " 0.0007972717,\n",
       " -0.033935547,\n",
       " 0.060058594,\n",
       " 0.023925781,\n",
       " -0.017333984,\n",
       " 0.012023926,\n",
       " 0.0014801025,\n",
       " 0.0115356445,\n",
       " -0.017578125,\n",
       " 0.015197754,\n",
       " -0.014526367,\n",
       " -0.024780273,\n",
       " 0.029296875,\n",
       " 0.020019531,\n",
       " 0.016601562,\n",
       " -0.00491333,\n",
       " -0.042236328,\n",
       " 0.034423828,\n",
       " -0.038330078,\n",
       " -0.00091934204,\n",
       " -0.005065918,\n",
       " -0.009338379,\n",
       " 0.040527344,\n",
       " 0.0154418945,\n",
       " 0.059570312,\n",
       " 0.023071289,\n",
       " -0.0023345947,\n",
       " -0.038085938,\n",
       " 0.013183594,\n",
       " -0.036376953,\n",
       " -0.018188477,\n",
       " 0.059814453,\n",
       " -0.0041503906,\n",
       " -0.057861328,\n",
       " -0.009399414,\n",
       " -0.0031280518,\n",
       " -0.009094238,\n",
       " -0.0138549805,\n",
       " 0.040527344,\n",
       " -0.0048828125,\n",
       " 0.01574707,\n",
       " 0.006072998,\n",
       " -0.0068969727,\n",
       " -0.008911133,\n",
       " 0.02355957,\n",
       " 0.10205078,\n",
       " -0.001663208,\n",
       " 0.008483887,\n",
       " 0.004211426,\n",
       " 0.05908203,\n",
       " 0.041015625,\n",
       " -0.026733398,\n",
       " 0.059814453,\n",
       " 0.0008773804,\n",
       " 0.022705078,\n",
       " 0.0043029785,\n",
       " 0.0013809204,\n",
       " 0.034423828,\n",
       " 0.022705078,\n",
       " -0.009643555,\n",
       " 0.007873535,\n",
       " -0.0024108887,\n",
       " 0.03930664,\n",
       " -0.023071289,\n",
       " 0.011352539,\n",
       " 0.018798828,\n",
       " -0.01159668,\n",
       " 0.052734375,\n",
       " -0.0034942627,\n",
       " 0.020141602,\n",
       " 0.036376953,\n",
       " 0.020141602,\n",
       " -0.014099121,\n",
       " -0.056152344,\n",
       " -0.01965332,\n",
       " 0.0006828308,\n",
       " -0.037353516,\n",
       " 0.018432617,\n",
       " -0.095703125,\n",
       " 0.017578125,\n",
       " -0.005340576,\n",
       " 0.033447266,\n",
       " 0.009094238,\n",
       " -0.021850586,\n",
       " 0.017944336,\n",
       " 0.052490234,\n",
       " 0.046875,\n",
       " -0.03173828,\n",
       " -0.047851562,\n",
       " -0.0234375,\n",
       " -0.0061950684,\n",
       " -0.033691406,\n",
       " 0.06591797,\n",
       " -0.026245117,\n",
       " 0.03930664,\n",
       " -0.0031585693,\n",
       " 0.079589844,\n",
       " 0.015563965,\n",
       " 0.03857422,\n",
       " 0.010559082,\n",
       " 0.007232666,\n",
       " 0.01184082,\n",
       " -0.0069274902,\n",
       " -0.014221191,\n",
       " -0.037597656,\n",
       " 0.0025024414,\n",
       " 0.0071105957,\n",
       " 0.016113281,\n",
       " 0.045410156,\n",
       " 0.007446289,\n",
       " -0.016479492,\n",
       " -0.008605957,\n",
       " 0.010681152,\n",
       " 0.046875,\n",
       " 0.02355957,\n",
       " 0.059570312,\n",
       " -0.015014648,\n",
       " 9.393692e-05,\n",
       " -0.05810547,\n",
       " -0.06298828,\n",
       " -0.0008659363,\n",
       " -0.023925781,\n",
       " 0.017089844,\n",
       " -0.024536133,\n",
       " -0.025024414,\n",
       " 0.0115356445,\n",
       " 0.011962891,\n",
       " 0.07861328,\n",
       " 0.018676758,\n",
       " 0.057861328,\n",
       " -0.030029297,\n",
       " -0.029296875,\n",
       " 0.053222656,\n",
       " 0.0051879883,\n",
       " -0.014221191,\n",
       " 0.01586914,\n",
       " -0.057861328,\n",
       " 0.010925293,\n",
       " 0.015014648,\n",
       " -0.016845703,\n",
       " -0.012145996,\n",
       " -0.025024414,\n",
       " -0.028686523,\n",
       " -0.011291504,\n",
       " -0.028076172,\n",
       " -0.01171875,\n",
       " 0.003753662,\n",
       " -0.030639648,\n",
       " -0.024291992,\n",
       " -0.0021362305,\n",
       " -0.0015640259,\n",
       " 0.057128906,\n",
       " 0.029785156,\n",
       " -0.010559082,\n",
       " 0.013122559,\n",
       " 0.052734375,\n",
       " 0.056396484,\n",
       " -0.016723633,\n",
       " -0.010803223,\n",
       " 0.019165039,\n",
       " 0.009765625,\n",
       " 0.022338867,\n",
       " 0.0025634766,\n",
       " -0.024780273,\n",
       " 0.023925781,\n",
       " -0.009521484,\n",
       " 0.018432617,\n",
       " -0.044433594,\n",
       " -0.011779785,\n",
       " -0.057861328,\n",
       " 0.02355957,\n",
       " -0.061279297,\n",
       " -0.008178711,\n",
       " 0.037841797,\n",
       " -0.014343262,\n",
       " 0.0024719238,\n",
       " 0.034423828,\n",
       " 0.02355957,\n",
       " -0.008178711,\n",
       " 0.014099121,\n",
       " -0.055908203,\n",
       " -0.019042969,\n",
       " -0.057861328,\n",
       " 0.004486084,\n",
       " 0.03857422,\n",
       " 0.029418945,\n",
       " 0.029541016,\n",
       " 0.016601562,\n",
       " -0.045166016,\n",
       " -0.03515625,\n",
       " 0.0010986328,\n",
       " -0.0038909912,\n",
       " 0.055419922,\n",
       " -0.021118164,\n",
       " 0.0033874512,\n",
       " -0.036376953,\n",
       " 0.024780273,\n",
       " -0.016113281,\n",
       " 0.0025024414,\n",
       " 0.0005302429,\n",
       " -0.0063476562,\n",
       " -0.013366699,\n",
       " 0.002670288,\n",
       " 0.047851562,\n",
       " -0.0234375,\n",
       " 0.0042419434,\n",
       " -0.046875,\n",
       " -0.045898438,\n",
       " 0.011352539,\n",
       " 0.03466797,\n",
       " -0.00793457,\n",
       " -0.020263672,\n",
       " -0.011169434,\n",
       " 0.029052734,\n",
       " -0.0017623901,\n",
       " 0.015991211,\n",
       " 0.016601562,\n",
       " -0.021606445,\n",
       " 0.016357422,\n",
       " -0.005065918,\n",
       " -0.007446289,\n",
       " -0.017333984,\n",
       " 0.036376953,\n",
       " 0.013305664,\n",
       " 0.07519531,\n",
       " -0.0625,\n",
       " 0.017578125,\n",
       " -0.018554688,\n",
       " 0.0078125,\n",
       " -0.034423828,\n",
       " -0.015563965,\n",
       " -0.011169434,\n",
       " -0.02709961,\n",
       " 0.0027923584,\n",
       " -0.036865234,\n",
       " 0.0138549805,\n",
       " 0.0039367676,\n",
       " -0.020996094,\n",
       " -0.0077209473,\n",
       " 0.00051116943,\n",
       " -0.059570312,\n",
       " -0.0027923584,\n",
       " 0.057861328,\n",
       " -0.025878906,\n",
       " 0.0625,\n",
       " 0.029296875,\n",
       " -0.00045204163,\n",
       " 0.008911133,\n",
       " 0.008972168,\n",
       " 0.0115356445,\n",
       " -0.021118164,\n",
       " -0.00032043457,\n",
       " 0.009643555,\n",
       " 0.0033874512,\n",
       " 0.055419922,\n",
       " -0.017333984,\n",
       " -0.0023040771,\n",
       " -0.013305664,\n",
       " 0.016601562,\n",
       " 0.051513672,\n",
       " 0.028564453,\n",
       " -0.01953125,\n",
       " 0.02722168,\n",
       " -0.052490234,\n",
       " -0.048583984,\n",
       " 0.0703125,\n",
       " -0.013122559,\n",
       " 0.040527344,\n",
       " 0.024047852,\n",
       " 0.06347656,\n",
       " -0.033691406,\n",
       " 0.026367188,\n",
       " -0.021606445,\n",
       " -0.0040283203,\n",
       " 0.011962891,\n",
       " 0.026611328,\n",
       " -0.007385254,\n",
       " 0.038330078,\n",
       " -0.022216797,\n",
       " 0.026245117,\n",
       " 0.021362305,\n",
       " 0.0625,\n",
       " 0.022705078,\n",
       " 0.013977051,\n",
       " 0.008239746,\n",
       " -0.0154418945,\n",
       " 0.012451172,\n",
       " 0.010131836,\n",
       " 0.052490234,\n",
       " 0.013793945,\n",
       " -0.033691406,\n",
       " 0.03930664,\n",
       " -0.019165039,\n",
       " -0.01361084,\n",
       " -0.0009841919,\n",
       " 0.0077209473,\n",
       " -0.013793945,\n",
       " -0.005340576,\n",
       " 0.040283203,\n",
       " 0.010864258,\n",
       " 0.029418945,\n",
       " 0.010803223,\n",
       " -0.005340576,\n",
       " 0.018188477,\n",
       " 0.01171875,\n",
       " 0.026611328,\n",
       " -0.04345703,\n",
       " 0.0013122559,\n",
       " -0.05053711,\n",
       " -0.011474609,\n",
       " 0.014892578,\n",
       " -0.063964844,\n",
       " 0.07714844,\n",
       " -0.045410156,\n",
       " 0.026245117,\n",
       " -0.037109375,\n",
       " 0.0022277832,\n",
       " 0.0006752014,\n",
       " -0.041015625,\n",
       " 0.016113281,\n",
       " -0.0049743652,\n",
       " 0.014465332,\n",
       " 0.012756348,\n",
       " 0.030029297,\n",
       " 0.0008659363,\n",
       " 0.013122559,\n",
       " 0.010681152,\n",
       " 0.0099487305,\n",
       " 0.026123047,\n",
       " -0.033447266,\n",
       " 0.029296875,\n",
       " 0.020874023,\n",
       " -0.017089844,\n",
       " -0.03857422,\n",
       " -0.04711914,\n",
       " 0.07763672,\n",
       " 0.0020141602,\n",
       " -0.020141602,\n",
       " -0.0058898926,\n",
       " -0.016113281,\n",
       " -0.032226562,\n",
       " -0.031982422,\n",
       " 0.0010986328,\n",
       " -0.009277344,\n",
       " -0.019165039,\n",
       " 0.026245117,\n",
       " 0.008605957,\n",
       " 0.026367188,\n",
       " -0.052246094,\n",
       " 0.038085938,\n",
       " -0.004852295,\n",
       " 0.009521484,\n",
       " 0.041015625,\n",
       " -0.01586914,\n",
       " -0.021728516,\n",
       " 0.009216309,\n",
       " -0.030883789,\n",
       " -0.021728516,\n",
       " 0.022216797,\n",
       " -0.042236328,\n",
       " -0.013793945,\n",
       " -0.03564453,\n",
       " -0.010925293,\n",
       " -0.04321289,\n",
       " -0.00078201294,\n",
       " 0.028076172,\n",
       " -0.008056641,\n",
       " 0.041015625,\n",
       " 0.007598877,\n",
       " 0.028198242,\n",
       " 0.01977539,\n",
       " -0.012939453,\n",
       " 0.009521484,\n",
       " -0.026123047,\n",
       " 0.020263672,\n",
       " 0.032958984,\n",
       " -0.012512207,\n",
       " -0.0069274902,\n",
       " 0.009643555,\n",
       " -0.003326416,\n",
       " -0.034423828,\n",
       " -0.040039062,\n",
       " 0.03881836,\n",
       " -0.03857422,\n",
       " 0.044677734,\n",
       " -0.041992188,\n",
       " 0.015991211,\n",
       " -0.011352539,\n",
       " -0.008422852,\n",
       " -0.026733398,\n",
       " -0.024536133,\n",
       " 0.033447266,\n",
       " -0.0016326904,\n",
       " 0.09375,\n",
       " 0.031982422,\n",
       " 0.014526367,\n",
       " -0.0061950684,\n",
       " -0.036376953,\n",
       " 0.036376953,\n",
       " -0.017822266,\n",
       " -0.03857422,\n",
       " -0.00390625,\n",
       " 0.036376953,\n",
       " 0.039794922,\n",
       " 0.036376953,\n",
       " -0.0028381348,\n",
       " 0.024047852,\n",
       " 0.019897461,\n",
       " -0.053222656,\n",
       " 0.052734375,\n",
       " -0.051757812,\n",
       " 0.014282227,\n",
       " 0.021606445,\n",
       " 0.026123047,\n",
       " -0.024414062,\n",
       " 0.033447266,\n",
       " -0.022094727,\n",
       " -0.017578125,\n",
       " -0.027954102,\n",
       " 0.0065612793,\n",
       " -0.032470703,\n",
       " 0.033203125,\n",
       " 0.0041503906,\n",
       " -0.017822266,\n",
       " 0.040039062,\n",
       " -0.0013656616,\n",
       " -0.031982422,\n",
       " -0.032958984,\n",
       " 0.022583008,\n",
       " 0.012268066,\n",
       " 0.0070495605,\n",
       " 0.01574707,\n",
       " 0.037841797,\n",
       " 0.022705078,\n",
       " -0.05859375,\n",
       " 0.018188477,\n",
       " -0.06225586,\n",
       " -0.009521484,\n",
       " 0.010925293,\n",
       " -0.018432617,\n",
       " -0.01184082,\n",
       " 0.016235352,\n",
       " 0.01977539,\n",
       " 0.006439209,\n",
       " 0.037597656,\n",
       " -0.09277344,\n",
       " -0.08642578,\n",
       " 0.014892578,\n",
       " 0.052246094,\n",
       " -0.083984375,\n",
       " -0.0390625,\n",
       " -0.042236328,\n",
       " -0.044677734,\n",
       " -0.0001487732,\n",
       " 0.010070801,\n",
       " 0.020751953,\n",
       " 0.040039062,\n",
       " 0.03466797,\n",
       " 0.0038909912,\n",
       " -0.026245117,\n",
       " -0.03515625,\n",
       " -0.01928711,\n",
       " 0.014099121,\n",
       " -0.076660156,\n",
       " 0.008544922,\n",
       " 0.032714844,\n",
       " 0.041503906,\n",
       " -0.0030059814,\n",
       " -0.03466797,\n",
       " -0.010437012,\n",
       " -0.0039367676,\n",
       " 0.009338379,\n",
       " 0.018188477,\n",
       " 0.0065612793,\n",
       " 0.025390625,\n",
       " -0.043701172,\n",
       " -0.009094238,\n",
       " 0.0074768066,\n",
       " 0.017578125,\n",
       " 0.022949219,\n",
       " -0.033691406,\n",
       " 0.02319336,\n",
       " 0.015197754,\n",
       " -0.048583984,\n",
       " -0.016479492,\n",
       " 0.022705078,\n",
       " 0.11035156,\n",
       " 0.05078125,\n",
       " 0.01171875,\n",
       " 0.017822266,\n",
       " -0.033691406,\n",
       " 0.028930664,\n",
       " -0.022094727,\n",
       " 0.0020446777,\n",
       " -0.023071289,\n",
       " -0.011474609,\n",
       " -0.013366699,\n",
       " 0.052734375,\n",
       " -0.003036499,\n",
       " 0.007659912,\n",
       " 0.09033203,\n",
       " -0.0034942627,\n",
       " 0.0018997192,\n",
       " 0.025756836,\n",
       " -0.0063476562,\n",
       " -0.008117676,\n",
       " -0.008422852,\n",
       " 0.03125,\n",
       " 0.02746582,\n",
       " 0.0033569336,\n",
       " -0.05859375,\n",
       " 0.020019531,\n",
       " 0.0023651123,\n",
       " -0.010498047,\n",
       " -0.0126953125,\n",
       " 0.03857422,\n",
       " -0.003967285,\n",
       " -0.0005760193,\n",
       " 0.016601562,\n",
       " 0.017822266,\n",
       " -0.0029907227,\n",
       " -0.006134033,\n",
       " -0.0015182495,\n",
       " 0.063964844,\n",
       " -0.024780273,\n",
       " -0.018920898,\n",
       " 0.001335144,\n",
       " 0.0054626465,\n",
       " -0.016723633,\n",
       " 0.057128906,\n",
       " -0.03112793,\n",
       " 0.011108398,\n",
       " 0.032714844,\n",
       " 0.010559082,\n",
       " -0.013549805,\n",
       " 0.014892578,\n",
       " -0.0066833496,\n",
       " ...]"
      ]
     },
     "execution_count": 46,
     "metadata": {},
     "output_type": "execute_result"
    }
   ],
   "source": [
    "response.embeddings.float[0]"
   ]
  },
  {
   "cell_type": "code",
   "execution_count": null,
   "id": "e8322eab",
   "metadata": {},
   "outputs": [],
   "source": []
  }
 ],
 "metadata": {
  "language_info": {
   "name": "python"
  }
 },
 "nbformat": 4,
 "nbformat_minor": 5
}
